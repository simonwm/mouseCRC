{
 "cells": [
  {
   "cell_type": "code",
   "execution_count": null,
   "metadata": {},
   "outputs": [],
   "source": [
    "import pandas as pd\n",
    "import numpy as np\n",
    "import scipy\n",
    "import scanpy as sc\n",
    "from numba import njit\n",
    "import matplotlib\n",
    "import matplotlib.pyplot as plt\n",
    "import re\n",
    "import statsmodels.stats.multitest\n",
    "import os\n",
    "import csv\n",
    "import tacco as tc"
   ]
  },
  {
   "cell_type": "code",
   "execution_count": null,
   "metadata": {},
   "outputs": [],
   "source": [
    "import sys\n",
    "# Make helper functions available: The notebook expects to be executed either in the sub-workflow directory or in the notebooks directory\n",
    "sys.path.insert(1, '../'), sys.path.insert(1, '../workflow/'); # prefer to look just one directory up\n",
    "import helper\n",
    "sys.path.pop(1), sys.path.pop(1);\n",
    "\n",
    "get_path = helper.get_paths('mouse_sc')"
   ]
  },
  {
   "cell_type": "markdown",
   "metadata": {},
   "source": [
    "# settings"
   ]
  },
  {
   "cell_type": "markdown",
   "metadata": {},
   "source": [
    "## visualization settings"
   ]
  },
  {
   "cell_type": "code",
   "execution_count": null,
   "metadata": {},
   "outputs": [],
   "source": [
    "compartment_colors = helper.get_colors('compartment')\n",
    "labels_colors = helper.get_colors('labels')\n",
    "cluster_colors = helper.get_colors('cluster')\n",
    "program_colors = helper.get_colors('program')"
   ]
  },
  {
   "cell_type": "code",
   "execution_count": null,
   "metadata": {},
   "outputs": [],
   "source": [
    "figures_folder = get_path('plots')\n",
    "puck_point_size = 3"
   ]
  },
  {
   "cell_type": "markdown",
   "metadata": {},
   "source": [
    "## analysis settings"
   ]
  },
  {
   "cell_type": "code",
   "execution_count": null,
   "metadata": {},
   "outputs": [],
   "source": [
    "enrichment_method = {'reduction':'sum','normalization':'clr','method':'welch','assume_counts':True,}\n",
    "p_key = f'p_{enrichment_method[\"method\"]}_fdr_bh'"
   ]
  },
  {
   "cell_type": "markdown",
   "metadata": {},
   "source": [
    "# Load mouse data"
   ]
  },
  {
   "cell_type": "code",
   "execution_count": null,
   "metadata": {
    "tags": []
   },
   "outputs": [],
   "source": [
    "reference = sc.read(f'{get_path(\"resources\")}/scRNAseq.h5ad')"
   ]
  },
  {
   "cell_type": "code",
   "execution_count": null,
   "metadata": {
    "tags": []
   },
   "outputs": [],
   "source": [
    "reference.obs['log_frac_tdTomato1p'] = np.log((reference.obs['tdTomato']+1)/tc.sum(reference.X,axis=1))"
   ]
  },
  {
   "cell_type": "code",
   "execution_count": null,
   "metadata": {
    "tags": []
   },
   "outputs": [],
   "source": [
    "reference.obsm['Epithelial_programs_short'] = reference.obsm['Epithelial_programs'][[]]\n",
    "for column in reference.obsm['Epithelial_programs'].columns:\n",
    "    short_column = ' '.join(column.split()[:2])\n",
    "    reference.obsm['Epithelial_programs_short'][short_column] = reference.obsm['Epithelial_programs'][column]"
   ]
  },
  {
   "cell_type": "markdown",
   "metadata": {},
   "source": [
    "# Overall cell types"
   ]
  },
  {
   "cell_type": "code",
   "execution_count": null,
   "metadata": {},
   "outputs": [],
   "source": [
    "short_cluster = pd.Series(pd.Index(cluster_colors.keys()).map(helper.map_short), index=cluster_colors.keys(), )\n",
    "fig = tc.pl.scatter(reference, 'cluster', position_key='X_umap', joint=True, colors=cluster_colors, on_data_legend=short_cluster);\n",
    "fig.savefig(f'{figures_folder}/mouse_sc_umap_cluster.pdf',bbox_inches='tight')\n",
    "fig = tc.pl.scatter(reference, 'labels', position_key='X_umap', joint=True, colors=labels_colors, on_data_legend={});\n",
    "fig.savefig(f'{figures_folder}/mouse_sc_umap_labels.pdf',bbox_inches='tight')"
   ]
  },
  {
   "cell_type": "code",
   "execution_count": null,
   "metadata": {},
   "outputs": [],
   "source": [
    "# split the data by state\n",
    "state_splits = { state: reference[df.index] for state,df in reference.obs.groupby('State') }\n",
    "# get smallest number of cells per state\n",
    "min_cells = min(*[ adata.shape[0] for adata in state_splits.values() ])\n",
    "# subsample the cells to the same number\n",
    "state_splits = { state: adata[tc.utils.complete_choice(adata.obs.index, min_cells)] for state,adata in state_splits.items() }\n",
    "# and plot them in the same plot\n",
    "short_cluster = pd.Series(pd.Index(cluster_colors.keys()).map(helper.map_short), index=cluster_colors.keys(), )\n",
    "fig = tc.pl.scatter(state_splits,'cluster', position_key='X_umap', joint=True, colors=cluster_colors, sharex=True, sharey=True, point_size=10, on_data_legend=short_cluster);\n",
    "fig.savefig(f'{figures_folder}/mouse_sc_umap_cluster_by_state.pdf',bbox_inches='tight')"
   ]
  },
  {
   "cell_type": "code",
   "execution_count": null,
   "metadata": {},
   "outputs": [],
   "source": [
    "fig = tc.pl.contribution(reference, 'labels', 'State', normalization='sum', log=False, sample_key='SampleID', colors=labels_colors);\n",
    "fig.savefig(f'{figures_folder}/mouse_sc_skyline_labels_vs_state.pdf',bbox_inches='tight')"
   ]
  },
  {
   "cell_type": "code",
   "execution_count": null,
   "metadata": {},
   "outputs": [],
   "source": [
    "fig = tc.pl.annotated_heatmap(\n",
    "    adata=reference,\n",
    "    obs_key='labels',\n",
    "    n_genes=20,\n",
    "    obs_colors=labels_colors,\n",
    "    axsize=(8,8),\n",
    ")\n",
    "fig.savefig(f'{figures_folder}/mouse_sc_labels_marker.pdf',bbox_inches='tight')"
   ]
  },
  {
   "cell_type": "code",
   "execution_count": null,
   "metadata": {},
   "outputs": [],
   "source": [
    "fig = tc.pl.scatter(reference,'State', position_key='X_umap', joint=True);\n",
    "fig.savefig(f'{figures_folder}/mouse_sc_umap_State.pdf',bbox_inches='tight')"
   ]
  },
  {
   "cell_type": "code",
   "execution_count": null,
   "metadata": {},
   "outputs": [],
   "source": [
    "fig = tc.pl.scatter(reference,'compartment', position_key='X_umap', joint=True);\n",
    "fig.savefig(f'{figures_folder}/mouse_sc_umap_compartment.pdf',bbox_inches='tight')"
   ]
  },
  {
   "cell_type": "code",
   "execution_count": null,
   "metadata": {},
   "outputs": [],
   "source": [
    "fig = tc.pl.contribution(reference, 'cluster_short', 'State', normalization='sum', log=False, sample_key='SampleID', colors=helper.map_short(cluster_colors));\n",
    "fig.savefig(f'{figures_folder}/mouse_sc_skyline_cluster_vs_state.pdf',bbox_inches='tight')"
   ]
  },
  {
   "cell_type": "code",
   "execution_count": null,
   "metadata": {},
   "outputs": [],
   "source": [
    "enrichments = tc.tl.enrichments(reference,'cluster_short','State',sample_key='SampleID',**enrichment_method,reference_group='normal',reads=False,)\n",
    "fig = tc.pl.significances(enrichments, p_key, 'cluster_short', 'State');\n",
    "fig.savefig(f'{figures_folder}/mouse_sc_enrichment_cluster_vs_state.pdf',bbox_inches='tight')"
   ]
  },
  {
   "cell_type": "markdown",
   "metadata": {},
   "source": [
    "# Cell types in subsets"
   ]
  },
  {
   "cell_type": "code",
   "execution_count": null,
   "metadata": {},
   "outputs": [],
   "source": [
    "sub_ref = reference[reference.obs['compartment']=='immune']\n",
    "sub_col = { cat: cluster_colors[cat] for cat in pd.Index(sub_ref.obs['cluster'].cat.categories).intersection(sub_ref.obs['cluster'].unique()) }\n",
    "short_cluster = pd.Series(pd.Index(cluster_colors.keys()).map(helper.map_short), index=cluster_colors.keys(), )\n",
    "fig = tc.pl.scatter(sub_ref,'cluster', colors=sub_col, position_key='X_umap_Immune', joint=True, on_data_legend=short_cluster);\n",
    "fig.savefig(f'{figures_folder}/mouse_sc_immune_umap_cluster.pdf',bbox_inches='tight')\n",
    "fig = tc.pl.contribution(sub_ref, 'cluster_short', 'State', colors=helper.map_short(sub_col), normalization='sum', log=False, sample_key='SampleID', );\n",
    "fig.savefig(f'{figures_folder}/mouse_sc_immune_skyline_cluster_vs_state.pdf',bbox_inches='tight')\n",
    "fig = tc.pl.annotated_heatmap(adata=sub_ref, obs_key='cluster_short', n_genes=20, obs_colors=helper.map_short(sub_col), axsize=(8,8),)\n",
    "fig.savefig(f'{figures_folder}/mouse_sc_immune_cluster_marker.pdf',bbox_inches='tight')"
   ]
  },
  {
   "cell_type": "code",
   "execution_count": null,
   "metadata": {},
   "outputs": [],
   "source": [
    "sub_ref = reference[reference.obs['labels'].isin(['Mono','Mac'])]\n",
    "sub_col = { cat: cluster_colors[cat] for cat in pd.Index(sub_ref.obs['cluster'].cat.categories).intersection(sub_ref.obs['cluster'].unique()) }\n",
    "short_cluster = pd.Series(pd.Index(cluster_colors.keys()).map(helper.map_short), index=cluster_colors.keys(), )\n",
    "fig = tc.pl.scatter(sub_ref,'cluster', colors=sub_col, position_key='X_umap_Myeloid', joint=True, on_data_legend=short_cluster);\n",
    "fig.savefig(f'{figures_folder}/mouse_sc_myeloid_umap_cluster.pdf',bbox_inches='tight')\n",
    "fig = tc.pl.contribution(sub_ref, 'cluster_short', 'State', colors=helper.map_short(sub_col), normalization='sum', log=False, sample_key='SampleID', );\n",
    "fig.savefig(f'{figures_folder}/mouse_sc_myeloid_skyline_cluster_vs_state.pdf',bbox_inches='tight')\n",
    "fig = tc.pl.annotated_heatmap(adata=sub_ref, obs_key='cluster_short', n_genes=20, obs_colors=helper.map_short(sub_col), axsize=(8,8),)\n",
    "fig.savefig(f'{figures_folder}/mouse_sc_myeloid_cluster_marker.pdf',bbox_inches='tight')"
   ]
  },
  {
   "cell_type": "code",
   "execution_count": null,
   "metadata": {},
   "outputs": [],
   "source": [
    "sub_ref = reference[reference.obs['labels'].isin(['Mono','Mac'])].copy()\n",
    "tc.utils.log1p(sub_ref)\n",
    "fig,axs = tc.pl.subplots(1,2,axsize=(6,2.5))\n",
    "sc.pl.violin(sub_ref[sub_ref.obs['labels'].isin(['Mono'])], keys=['Vegfa'], groupby='State', ax=axs[0,0], stripplot=True, show=False, xlabel=None)\n",
    "sc.pl.violin(sub_ref[sub_ref.obs['labels'].isin(['Mac'])], keys=['Vegfa'], groupby='State', ax=axs[1,0], stripplot=True, show=False,)\n",
    "axs[0,0].set_ylabel(f'Vegfa (Mono)')\n",
    "axs[1,0].set_ylabel(f'Vegfa (Mac)')\n",
    "fig.savefig(f'{figures_folder}/mouse_sc_myeloid_Vegfa.pdf',bbox_inches='tight')"
   ]
  },
  {
   "cell_type": "code",
   "execution_count": null,
   "metadata": {},
   "outputs": [],
   "source": [
    "sub_ref = reference[reference.obs['labels'] == 'TNK']\n",
    "sub_col = { cat: cluster_colors[cat] for cat in sub_ref.obs['cluster'].unique() }\n",
    "short_cluster = pd.Series(pd.Index(cluster_colors.keys()).map(helper.map_short), index=cluster_colors.keys(), )\n",
    "fig = tc.pl.scatter(sub_ref,'cluster', colors=sub_col, position_key='X_umap_TNK', joint=True, on_data_legend=short_cluster);\n",
    "fig.savefig(f'{figures_folder}/mouse_sc_tnk_umap_cluster.pdf',bbox_inches='tight')\n",
    "fig = tc.pl.contribution(sub_ref, 'cluster_short', 'State', colors=helper.map_short(sub_col), normalization='sum', log=False, sample_key='SampleID', );\n",
    "fig.savefig(f'{figures_folder}/mouse_sc_tnk_skyline_cluster_vs_state.pdf',bbox_inches='tight')\n",
    "fig = tc.pl.annotated_heatmap(adata=sub_ref, obs_key='cluster_short', n_genes=20, obs_colors=helper.map_short(sub_col), axsize=(8,8),)\n",
    "fig.savefig(f'{figures_folder}/mouse_sc_tnk_cluster_marker.pdf',bbox_inches='tight')"
   ]
  },
  {
   "cell_type": "code",
   "execution_count": null,
   "metadata": {},
   "outputs": [],
   "source": [
    "sub_ref = reference[reference.obs['labels'] == 'TNK']\n",
    "enrichments = tc.tl.enrichments(sub_ref,'cluster','State',sample_key='SampleID',**enrichment_method,reference_group='normal',reads=False,)\n",
    "fig = tc.pl.significances(enrichments, p_key, 'cluster', 'State');\n",
    "fig.savefig(f'{figures_folder}/mouse_sc_tnk_enrichment_cluster_vs_state.pdf',bbox_inches='tight')"
   ]
  },
  {
   "cell_type": "code",
   "execution_count": null,
   "metadata": {},
   "outputs": [],
   "source": [
    "sub_ref = reference[reference.obs['compartment']=='stromal']\n",
    "sub_col = { cat: cluster_colors[cat] for cat in pd.Index(sub_ref.obs['cluster'].cat.categories).intersection(sub_ref.obs['cluster'].unique()) }\n",
    "short_cluster = pd.Series(pd.Index(cluster_colors.keys()).map(helper.map_short), index=cluster_colors.keys(), )\n",
    "fig = tc.pl.scatter(sub_ref,'cluster', colors=sub_col, position_key='X_umap_Stromal', joint=True, on_data_legend=short_cluster);\n",
    "fig.savefig(f'{figures_folder}/mouse_sc_stromal_umap_cluster.pdf',bbox_inches='tight')\n",
    "fig = tc.pl.contribution(sub_ref, 'cluster_short', 'State', colors=helper.map_short(sub_col), normalization='sum', log=False, sample_key='SampleID', );\n",
    "fig.savefig(f'{figures_folder}/mouse_sc_stromal_skyline_cluster_vs_state.pdf',bbox_inches='tight')\n",
    "fig = tc.pl.annotated_heatmap(adata=sub_ref, obs_key='cluster_short', n_genes=20, obs_colors=helper.map_short(sub_col), axsize=(8,8),)\n",
    "fig.savefig(f'{figures_folder}/mouse_sc_stromal_cluster_marker.pdf',bbox_inches='tight')"
   ]
  },
  {
   "cell_type": "code",
   "execution_count": null,
   "metadata": {},
   "outputs": [],
   "source": [
    "sub_ref = reference[reference.obs['compartment']=='stromal']\n",
    "enrichments = tc.tl.enrichments(sub_ref,'cluster','State',sample_key='SampleID',**enrichment_method,reference_group='normal',reads=False,)\n",
    "fig = tc.pl.significances(enrichments, p_key, 'cluster', 'State');\n",
    "fig.savefig(f'{figures_folder}/mouse_sc_stromal_enrichment_cluster_vs_state.pdf',bbox_inches='tight')"
   ]
  },
  {
   "cell_type": "code",
   "execution_count": null,
   "metadata": {},
   "outputs": [],
   "source": [
    "sub_ref = reference[reference.obs['compartment']=='epithelial']\n",
    "sub_col = { cat: cluster_colors[cat] for cat in sub_ref.obs['cluster'].unique() }\n",
    "short_cluster = pd.Series(pd.Index(cluster_colors.keys()).map(helper.map_short), index=cluster_colors.keys(), )\n",
    "fig = tc.pl.scatter(sub_ref,'cluster', colors=sub_col, position_key='X_umap_Epithelial', joint=True, on_data_legend=short_cluster);\n",
    "fig.savefig(f'{figures_folder}/mouse_sc_epithelial_umap_cluster.pdf',bbox_inches='tight')\n",
    "fig = tc.pl.contribution(sub_ref, 'cluster_short', 'State', colors=helper.map_short(sub_col), normalization='sum', log=False, sample_key='SampleID', );\n",
    "fig.savefig(f'{figures_folder}/mouse_sc_epithelial_skyline_cluster_vs_state.pdf',bbox_inches='tight')"
   ]
  },
  {
   "cell_type": "markdown",
   "metadata": {},
   "source": [
    "#### enrichments for epi clusters"
   ]
  },
  {
   "cell_type": "code",
   "execution_count": null,
   "metadata": {},
   "outputs": [],
   "source": [
    "def check_GO_findings(results):\n",
    "    findings_GO = pd.DataFrame([\n",
    "        ('enriched', 'Epi', 'Wnt signaling'),\n",
    "    ],columns=['enriched','where','what',])\n",
    "    found_all = []\n",
    "    for finding in findings_GO.itertuples():\n",
    "        found = results[results['group'].str.contains(finding.where) & results['finding'].isin([finding.enriched]) & results['GO_name'].str.contains(finding.what)]\n",
    "        foundit = len(found) > 0\n",
    "        if foundit:\n",
    "            print(f'XXX {finding.what} {finding.enriched} in {finding.where}')\n",
    "        else:\n",
    "            print(f'--- {finding.what} {finding.enriched} in {finding.where}')\n",
    "        found_all.append(found)\n",
    "    found_all = pd.concat(found_all, axis=0)\n",
    "    print(found_all[['group','p_value','GO_name']])\n",
    "def check_GENE_findings(enrichments):\n",
    "    findings_GO = pd.DataFrame([\n",
    "        ('enriched', 'Epi01', 'Axin2'),\n",
    "        ('enriched', 'Epi01', 'Ascl2'),\n",
    "        ('enriched', 'Epi01', 'Myc'),\n",
    "        ('enriched', 'Epi01', 'Ccnd1'),\n",
    "        ('enriched', 'Epi01', 'Lgr5'),\n",
    "        ('enriched', 'Epi05', 'Lgr5'),\n",
    "        ('enriched', 'Epi02', 'Muc3'),\n",
    "        ('enriched', 'Epi02', 'Cdhr5'),\n",
    "        ('enriched', 'Epi03', 'Muc3'),\n",
    "        ('enriched', 'Epi01', 'Wnt6'),\n",
    "        ('enriched', 'Epi01', 'Wnt10a'),\n",
    "        ('enriched', 'Epi01', 'Fzd10'),\n",
    "        ('enriched', 'Epi01', 'Dkk3'),\n",
    "        ('enriched', 'Epi01', 'Wif1'),\n",
    "        ('enriched', 'Epi01', 'Nkd1'),\n",
    "        ('enriched', 'Epi01', 'Axin2'),\n",
    "        ('enriched', 'Epi01', 'Notum'),\n",
    "        ('enriched', 'Epi01', 'Sox4'),\n",
    "        ('enriched', 'Epi01', 'Prox1'),\n",
    "        ('enriched', 'Epi04', 'Muc2'),\n",
    "        ('enriched', 'Epi04', 'Reg4'),\n",
    "        ('enriched', 'Epi05', 'Muc2'),\n",
    "        ('enriched', 'Epi05', 'Reg4'),\n",
    "        ('enriched', 'Epi05', 'Ccl9'),\n",
    "        ('enriched', 'Epi05', 'Mmp7'),\n",
    "    ],columns=['enriched','where','what',])\n",
    "    found_all = []\n",
    "    for finding in findings_GO.itertuples():\n",
    "        found = enrichments[enrichments['cluster_short'].str.contains(finding.where) & enrichments['enrichment'].isin([finding.enriched]) & enrichments['value'].isin([finding.what])]\n",
    "        foundit = len(found) > 0\n",
    "        if foundit:\n",
    "            print(f'XXX {finding.what} {finding.enriched} in {finding.where}')\n",
    "        else:\n",
    "            print(f'--- {finding.what} {finding.enriched} in {finding.where}')\n",
    "        found_all.append(found)\n",
    "    found_all = pd.concat(found_all)\n",
    "    print(found_all[['cluster_short','p_fisher_fdr_bh','value']])"
   ]
  },
  {
   "cell_type": "code",
   "execution_count": null,
   "metadata": {
    "tags": []
   },
   "outputs": [],
   "source": [
    "sub_ref = reference[reference.obs['compartment']=='epithelial']\n",
    "enr,gos = helper.marker_genes(sub_ref, 'cluster_short', goa_working_directory=f'{get_path(\"resources\")}/goa')"
   ]
  },
  {
   "cell_type": "code",
   "execution_count": null,
   "metadata": {},
   "outputs": [],
   "source": [
    "check_GENE_findings(enr)"
   ]
  },
  {
   "cell_type": "code",
   "execution_count": null,
   "metadata": {},
   "outputs": [],
   "source": [
    "check_GO_findings(gos)"
   ]
  },
  {
   "cell_type": "code",
   "execution_count": null,
   "metadata": {},
   "outputs": [],
   "source": [
    "markers = ['Epcam','Cdh1','Muc3','Cdhr5','Wnt6','Wnt10a','Fzd10','Dkk3','Wif1','Nkd1','Axin2', 'Ascl2', 'Myc', 'Ccnd1', 'Lgr5','Notum','Sox4','Prox1','Muc2','Reg4','Ccl9','Mmp7','Ifitm3']\n",
    "sube = enr[enr['value'].isin(markers)].copy()\n",
    "marks = sube.set_index(['value','cluster_short'])['p_fisher_fdr_bh'].map(lambda x: 'significant').unstack(fill_value='not significant')\n",
    "fig = tc.pl.dotplot(sub_ref, markers, 'cluster_short', log1p=True, marks=marks, marks_colors=pd.Series({'not significant': '#aaa','significant': '#000'},name='enrichment'), swap_axes=False);\n",
    "fig.savefig(f'{figures_folder}/mouse_sc_epithelial_marker_dot_extra_rotated.pdf',bbox_inches='tight')"
   ]
  },
  {
   "cell_type": "code",
   "execution_count": null,
   "metadata": {},
   "outputs": [],
   "source": [
    "markers = ['Epcam','Cdk1','Mki67','Lgr5','Axin2','Tacstd2','Sox11','Sox4','Ccl25','Alpi','Apoa1','Fabp2','Spdef','Atoh1','Klk1','Reg4','Dmbt1','Aqp8','Atp12a','Muc3','Chga','Scgn']\n",
    "sube = enr[enr['value'].isin(markers)].copy()\n",
    "marks = sube.set_index(['value','cluster_short'])['p_fisher_fdr_bh'].map(lambda x: 'significant').unstack(fill_value='not significant').reindex(columns=enr['cluster_short'].cat.categories,fill_value='not significant')\n",
    "fig = tc.pl.dotplot(sub_ref, markers, 'cluster_short', log1p=True, marks=marks, marks_colors=pd.Series({'not significant': '#aaa','significant': '#000'},name='enrichment'), swap_axes=False);\n",
    "fig.savefig(f'{figures_folder}/mouse_sc_epithelial_marker_dot_extra_ED_rotated.pdf',bbox_inches='tight')"
   ]
  },
  {
   "cell_type": "code",
   "execution_count": null,
   "metadata": {},
   "outputs": [],
   "source": [
    "epiref = tc.utils.preprocess_single_cell_data(sub_ref)\n",
    "epiref.obs['PC1'], epiref.obs['PC2'] = epiref.obsm['X_pca'][:,:2].T\n",
    "large_epi_cluster = epiref.obs['cluster'].cat.categories[:5] # only show the 5 largest clusters\n",
    "epiref = epiref[epiref.obs['cluster'].isin(large_epi_cluster)]\n",
    "fig = tc.pl.scatter(epiref, 'cluster', position_key=['PC1','PC2'], noticks=True, axes_labels=['PC1','PC2'], point_size=1, colors={k:v for k,v in cluster_colors.items() if k in large_epi_cluster}, );\n",
    "fig.savefig(f'{figures_folder}/mouse_sc_epithelial_PC.pdf',bbox_inches='tight')"
   ]
  },
  {
   "cell_type": "markdown",
   "metadata": {},
   "source": [
    "### epithelial program weights "
   ]
  },
  {
   "cell_type": "code",
   "execution_count": null,
   "metadata": {},
   "outputs": [],
   "source": [
    "profile_key = 'Epithelial_programs'\n",
    "profiles = reference.varm[profile_key]\n",
    "profile_names = profiles.columns\n",
    "profile_names = [\n",
    "    'Program 2 (Enteroendocrine)',\n",
    "    'Program 3 (Proliferation (G2/M))',\n",
    "    'Program 4 (Wnt signaling)',\n",
    "    'Program 5 (Transmembrane transport/Basolateral plasma membrane)',\n",
    "    'Program 6 (Inflammatory response)',\n",
    "    'Program 7 (Innate immune response)',\n",
    "    'Program 8 (Apical plasma membrane)',\n",
    "    'Program 11 (Proliferation (G1/S))',\n",
    "    'Program 14 (Angiogenesis)',\n",
    "    'Program 16 (Stem cells)',\n",
    "] # uses only selected programs\n",
    "n_genes = 30\n",
    "\n",
    "fig,axs=tc.pl.subplots(len(profile_names),axsize=(2,5), x_padding=1.0)\n",
    "\n",
    "for i,c in enumerate(profile_names):\n",
    "    top_genes = profiles[c].sort_values(ascending=False).head(n_genes)\n",
    "    top_genes = top_genes[::-1]\n",
    "    for y,x in zip(np.arange(len(top_genes)), top_genes.to_numpy()):\n",
    "        axs[0,i].barh(y, x, height=0.8, color='#555', linewidth=0)\n",
    "    axs[0,i].set_yticks(np.arange(len(top_genes)))\n",
    "    axs[0,i].set_yticklabels(top_genes.index)\n",
    "    axs[0,i].set_title(' '.join(c.split(' ',2)[:2]) + '\\n' + c.split(' ',2)[-1])\n",
    "    axs[0,i].spines['right'].set_visible(False)\n",
    "    axs[0,i].spines['top'].set_visible(False)\n",
    "    axs[0,i].set_ylim(-0.6, n_genes-1 + 0.6)\n",
    "\n",
    "fig.savefig(f'{figures_folder}/mouse_sc_epithelial_program_weights.pdf', bbox_inches='tight')"
   ]
  },
  {
   "cell_type": "code",
   "execution_count": null,
   "metadata": {},
   "outputs": [],
   "source": [
    "fig = tc.pl.contribution(reference[reference.obs['compartment']=='epithelial'], 'Epithelial_programs_short', 'State', normalization='sum', log=False, sample_key='SampleID', colors=helper.map_short(program_colors,1));\n",
    "fig.savefig(f'{figures_folder}/mouse_sc_epithelial_skyline_program_vs_state.pdf',bbox_inches='tight')"
   ]
  },
  {
   "cell_type": "markdown",
   "metadata": {},
   "source": [
    "# CONTINUE HERE"
   ]
  },
  {
   "cell_type": "markdown",
   "metadata": {},
   "source": [
    "### epithelial stem marker"
   ]
  },
  {
   "cell_type": "code",
   "execution_count": null,
   "metadata": {},
   "outputs": [],
   "source": [
    "# select epithelial \"stem\" cells\n",
    "stem_data = reference[~reference.obsm['Epithelial_programs'].isna().any(axis=1)]\n",
    "cs = stem_data.obsm['Epithelial_programs']['Program 16 (Stem cells)'].sort_values(ascending=False).cumsum()\n",
    "stem_data = stem_data[cs[cs < 0.9 * cs.tail(1).to_numpy()[0]].index].copy() # take 90\n",
    "#stem_data = stem_data[stem_data.obsm['Epithelial_programs']['program_16']>0].copy()\n",
    "tc.utils.merge_annotation(stem_data,'State', {'WT':'normal','AV&AKPV': ['premalignant','malignant (3weeks)','malignant (9weeks)']},result_key='CoarseState')\n",
    "stem_data.obs['CoarseState'] = stem_data.obs['CoarseState'].astype(pd.CategoricalDtype(['WT','AV&AKPV'],ordered=True))\n",
    "print(f'There are {len(stem_data)} cells with high stemness selected.')"
   ]
  },
  {
   "cell_type": "code",
   "execution_count": null,
   "metadata": {},
   "outputs": [],
   "source": [
    "# find top 50 marker genes\n",
    "enr,gos = helper.marker_genes(stem_data, 'CoarseState', goa_working_directory=f'{get_path(\"resources\")}/goa')\n",
    "genes = np.concatenate([\n",
    "    enr[(enr['CoarseState']!='WT')].sort_values('p_fisher_fdr_bh',ascending=True)['value'].to_numpy()[:50],\n",
    "    enr[(enr['CoarseState']=='WT')].sort_values('p_fisher_fdr_bh',ascending=True)['value'].to_numpy()[:50],\n",
    "])"
   ]
  },
  {
   "cell_type": "code",
   "execution_count": null,
   "metadata": {},
   "outputs": [],
   "source": [
    "genes = np.concatenate([\n",
    "    enr[(enr['CoarseState']!='WT')].sort_values('p_fisher_fdr_bh',ascending=True)['value'].to_numpy()[:100],\n",
    "    enr[(enr['CoarseState']=='WT')].sort_values('p_fisher_fdr_bh',ascending=True)['value'].to_numpy()[:100],\n",
    "])"
   ]
  },
  {
   "cell_type": "code",
   "execution_count": null,
   "metadata": {},
   "outputs": [],
   "source": [
    "hit = gos[(gos['group']!='WT') & gos['GO_name'].isin(['negative regulation of Wnt signaling pathway'])]\n",
    "if len(hit) == 0:\n",
    "    print('enrichment not found')\n",
    "else:\n",
    "    print(hit['p_value'].astype(str))\n",
    "    print(pd.Index(['Notum','Wif1','Nkd1']).isin(hit['genes'].iloc[0]))"
   ]
  },
  {
   "cell_type": "code",
   "execution_count": null,
   "metadata": {},
   "outputs": [],
   "source": [
    "hit = gos[(gos['group']!='WT') & gos['GO_name'].isin(['cellular response to interferon-gamma'])]\n",
    "if len(hit) == 0:\n",
    "    print('enrichment not found')\n",
    "else:\n",
    "    print(hit['p_value'].astype(str))\n",
    "    print(pd.Index(['Ccl6','Ccl9']).isin(hit['genes'].iloc[0]))"
   ]
  },
  {
   "cell_type": "code",
   "execution_count": null,
   "metadata": {},
   "outputs": [],
   "source": [
    "hit = gos[(gos['group']!='WT') & gos['GO_name'].isin(['immune system process'])]\n",
    "if len(hit) == 0:\n",
    "    print('enrichment not found')\n",
    "else:\n",
    "    print(hit['p_value'].astype(str))\n",
    "    print(pd.Index(['Ifitm1','Ifitm3']).isin(hit['genes'].iloc[0]))"
   ]
  },
  {
   "cell_type": "code",
   "execution_count": null,
   "metadata": {},
   "outputs": [],
   "source": [
    "fig = tc.pl.annotated_heatmap(stem_data[:,genes],'CoarseState',var_highlight=[\n",
    "    'Ifitm1', 'Ifitm3', 'B2m', 'Pglyrp1', 'Nkd1', 'Wif1', 'Lcn2', 'Vim', 'H2-D1', 'Gapdh', 'Notum', 'Ifitm2', 'Actg1', 'H2-K1', 'Lgals3', 'H2-Q7', 'S100a8', 'Stxbp1'\n",
    "],axsize=(5,7),trafo=True);\n",
    "fig.savefig(f'{figures_folder}/mouse_sc_epithelial_stem_marker.pdf',bbox_inches='tight')"
   ]
  },
  {
   "cell_type": "markdown",
   "metadata": {},
   "source": [
    "## enrichments for Endo01 between states"
   ]
  },
  {
   "cell_type": "code",
   "execution_count": null,
   "metadata": {},
   "outputs": [],
   "source": [
    "sub_ref = reference[reference.obs['cluster']=='Endo01 (Vascular)'].copy()\n",
    "sub_ref.obs['normality'] = (sub_ref.obs['State'] == 'normal').map({True:'normal',False:'dysplasic'}).astype('category')\n",
    "enr,gos = helper.marker_genes(sub_ref, 'normality', goa_working_directory=f'{get_path(\"resources\")}/goa')"
   ]
  },
  {
   "cell_type": "code",
   "execution_count": null,
   "metadata": {},
   "outputs": [],
   "source": [
    "enr.to_csv(f'{figures_folder}/mouse_sc_Endo01_vs_normality_DEG.csv',index=False)\n",
    "gos.to_csv(f'{figures_folder}/mouse_sc_Endo01_vs_normality_GO.csv',index=False)"
   ]
  },
  {
   "cell_type": "markdown",
   "metadata": {},
   "source": [
    "# Epithelial programs"
   ]
  },
  {
   "cell_type": "code",
   "execution_count": null,
   "metadata": {},
   "outputs": [],
   "source": [
    "sub_ref = reference[reference.obs['compartment'] == 'epithelial']\n",
    "sub_col = { cat: cluster_colors[cat] for cat in sub_ref.obs['cluster'].unique() }\n",
    "# split the data by state\n",
    "state_splits = { state: sub_ref[df.index] for state,df in sub_ref.obs.groupby('State') }\n",
    "# get smallest number of cells per state\n",
    "min_cells = min(*[ adata.shape[0] for adata in state_splits.values() ])\n",
    "# subsample the cells to the same number\n",
    "state_splits = { state: adata[tc.utils.complete_choice(adata.obs.index, min_cells)] for state,adata in state_splits.items() }\n",
    "# and plot them in the same plot\n",
    "short_cluster = pd.Series(pd.Index(cluster_colors.keys()).map(helper.map_short), index=cluster_colors.keys(), )\n",
    "fig = tc.pl.scatter(state_splits,'cluster', position_key='X_umap_Epithelial', joint=True, colors=sub_col, sharex=True, sharey=True, point_size=7, on_data_legend=short_cluster);\n",
    "fig.savefig(f'{figures_folder}/mouse_sc_epithelial_umap_cluster_by_state.pdf',bbox_inches='tight')"
   ]
  },
  {
   "cell_type": "code",
   "execution_count": null,
   "metadata": {},
   "outputs": [],
   "source": [
    "flowcells = ['HY2Y2CCXY','H55F7CCX2']\n",
    "states = ['malignant (3weeks)','malignant (9weeks)']\n",
    "compartments = ['epithelial']\n",
    "ref_groups = [\n",
    "    'Epi01 (Dysplastic Stem Like)',\n",
    "    'Epi02 (Enterocytes)',\n",
    "    'Epi03 (Stem/Progenitors)',\n",
    "    'Epi04 (Secretory)',\n",
    "    'Epi05 (Dysplastic Secretory Like)',\n",
    "]\n",
    "sub_ref = reference[reference.obs['Flowcell'].isin(flowcells) & reference.obs['State'].isin(states) & reference.obs['compartment'].isin(compartments) & reference.obs['cluster'].isin(ref_groups)]\n",
    "enrichments = []\n",
    "for ref_group in ref_groups:\n",
    "    enr = tc.tl.enrichments(sub_ref, 'log_frac_tdTomato1p', 'cluster', reference_group=ref_group, method='welch')\n",
    "    enr = enr[~enr['cluster'].str.endswith('VS rest')]\n",
    "    enr['cluster'] = enr['cluster'].str.split(' VS ',1,expand=True)[0]\n",
    "    enr.iloc[:,0] = f'VS {ref_group}'\n",
    "    enrichments.append(enr)\n",
    "enrichments = pd.concat(enrichments,axis=0)\n",
    "enrichments['log_frac_tdTomato1p'] = enrichments['log_frac_tdTomato1p'].astype(pd.CategoricalDtype([f'VS {ref_group}' for ref_group in ref_groups],ordered=True))\n",
    "enrichments['cluster'] = enrichments['cluster'].astype(pd.CategoricalDtype(ref_groups,ordered=True))\n",
    "enrichments['p_welch_fdr_bh'] = statsmodels.stats.multitest.multipletests(enrichments['p_welch'], alpha=0.05, method='fdr_bh')[1]\n",
    "fig = tc.pl.significances(enrichments, p_key='p_welch_fdr_bh', group_key='log_frac_tdTomato1p', value_key='cluster');#, value_key='tdTomato', group_key='cluster');\n",
    "fig.get_axes()[0].set_title('tdTomato enrichment')\n",
    "fig.savefig(f'{figures_folder}/mouse_sc_epithelial_enrichment_tdTomato_vs_cluster.pdf',bbox_inches='tight')"
   ]
  },
  {
   "cell_type": "code",
   "execution_count": null,
   "metadata": {},
   "outputs": [],
   "source": [
    "sub_ref = reference[reference.obs['compartment'] == 'epithelial'].copy()\n",
    "tc.utils.log1p(sub_ref)\n",
    "genes_of_interest = ['Reg4','Muc2','Mmp7','Ifitm3','Ccl9']\n",
    "fig,axs = tc.pl.subplots(len(genes_of_interest), axsize=(5,3))\n",
    "for gene,ax in zip(genes_of_interest,axs.flatten()):\n",
    "    sc.pl.violin(sub_ref, keys=[gene], groupby='cluster_short', ax=ax, show=False, stripplot=False, rotation=90)\n",
    "fig.savefig(f'{figures_folder}/mouse_sc_epithelial_marker_violin.pdf',bbox_inches='tight')"
   ]
  },
  {
   "cell_type": "code",
   "execution_count": null,
   "metadata": {},
   "outputs": [],
   "source": [
    "sub_ref = reference[reference.obs['compartment'] == 'immune'].copy()\n",
    "tc.utils.log1p(sub_ref)\n",
    "genes_of_interest = ['Ccr1']\n",
    "fig,axs = tc.pl.subplots(len(genes_of_interest), axsize=(8,3))\n",
    "for gene,ax in zip(genes_of_interest,axs.flatten()):\n",
    "    sc.pl.violin(sub_ref, keys=[gene], groupby='cluster_short', ax=ax, show=False, stripplot=False, rotation=90)\n",
    "fig.savefig(f'{figures_folder}/mouse_sc_immune_marker_violin.pdf',bbox_inches='tight')"
   ]
  },
  {
   "cell_type": "code",
   "execution_count": null,
   "metadata": {},
   "outputs": [],
   "source": [
    "sub_ref = reference[reference.obs['compartment'] == 'epithelial']\n",
    "for short, program, genes_of_interest in [\n",
    "    ['prog2', 'Program 2 (Enteroendocrine)', ['Chga','Chgb','Scg5',], ],\n",
    "    ['prog5', 'Program 5 (Transmembrane transport/Basolateral plasma membrane)', ['Slc6a14','Slc5a8',], ],\n",
    "    ['prog8', 'Program 8 (Apical plasma membrane)', ['Car4','Clca4b',], ],\n",
    "    ['prog4', 'Program 4 (Wnt signaling)', ['Wnt6','Wnt10a','Lef1',], ],\n",
    "    ['prog14', 'Program 14 (Angiogenesis)', ['Flt1','Adam8','Pgf','Hbegf'], ],\n",
    "    ['prog6', 'Program 6 (Inflammatory response)', ['Il1rn','Itgb6','Itgav','Cxcl5'], ],\n",
    "    ['prog7', 'Program 7 (Innate immune response)', ['Ifit2','Ifit3','Gbp5','Gbp7',], ],\n",
    "]:\n",
    "    sub_ref.obsm[''] = pd.DataFrame(np.log1p(sub_ref[:,[genes_of_interest[0],*genes_of_interest]].X.toarray()),columns=[program,*genes_of_interest], index=sub_ref.obs.index)\n",
    "    sub_ref.obsm[''][program] = sub_ref.obsm['Epithelial_programs'][program]\n",
    "    fig,axs = tc.pl.subplots(len(genes_of_interest)+1, axsize=(4,3), x_padding=1.0)\n",
    "    tc.pl.scatter(sub_ref, '', position_key='X_umap_Epithelial', ax=axs.T, joint=False, cmap='viridis', noticks=True)\n",
    "    fig.savefig(f'{figures_folder}/mouse_sc_epithelial_umap_{short}.pdf',bbox_inches='tight')"
   ]
  },
  {
   "cell_type": "code",
   "execution_count": null,
   "metadata": {},
   "outputs": [],
   "source": [
    "enrichments = tc.tl.enrichments(reference,'Epithelial_programs','State',sample_key='SampleID',**enrichment_method,reference_group='normal',reads=True)\n",
    "\n",
    "sorting_enr = enrichments.query(f'State==\"normal VS rest\" & enrichment==\"enriched\"').set_index('Epithelial_programs')[p_key]\n",
    "sorting_dep = enrichments.query(f'State==\"normal VS rest\" & enrichment!=\"enriched\"').set_index('Epithelial_programs')[p_key]\n",
    "program_order = pd.DataFrame({'enr':sorting_enr,'dep':sorting_dep}).sort_values(['enr','dep'],ascending=[True,False]).index.to_numpy()\n",
    "enrichments['Epithelial_programs'] = enrichments['Epithelial_programs'].astype(pd.CategoricalDtype(categories=program_order, ordered=True))\n",
    "\n",
    "fig = tc.pl.significances(enrichments, p_key, 'Epithelial_programs', 'State');\n",
    "\n",
    "fig.savefig(f'{figures_folder}/mouse_sc_epithelial_enrichment_program_vs_state.pdf',bbox_inches='tight')"
   ]
  },
  {
   "cell_type": "code",
   "execution_count": null,
   "metadata": {},
   "outputs": [],
   "source": []
  }
 ],
 "metadata": {
  "kernelspec": {
   "display_name": "Python 3 (ipykernel)",
   "language": "python",
   "name": "python3"
  },
  "language_info": {
   "codemirror_mode": {
    "name": "ipython",
    "version": 3
   },
   "file_extension": ".py",
   "mimetype": "text/x-python",
   "name": "python",
   "nbconvert_exporter": "python",
   "pygments_lexer": "ipython3",
   "version": "3.11.5"
  }
 },
 "nbformat": 4,
 "nbformat_minor": 4
}
