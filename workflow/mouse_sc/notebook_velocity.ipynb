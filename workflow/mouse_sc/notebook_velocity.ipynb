{
 "cells": [
  {
   "cell_type": "code",
   "execution_count": null,
   "metadata": {},
   "outputs": [],
   "source": [
    "import pandas as pd\n",
    "import numpy as np\n",
    "import scipy\n",
    "import scanpy as sc\n",
    "from numba import njit\n",
    "import matplotlib\n",
    "import matplotlib.pyplot as plt\n",
    "import re\n",
    "import statsmodels.stats.multitest\n",
    "import scvelo as scv\n",
    "import os\n",
    "import csv\n",
    "import bbknn\n",
    "import tacco as tc"
   ]
  },
  {
   "cell_type": "code",
   "execution_count": null,
   "metadata": {},
   "outputs": [],
   "source": [
    "import sys\n",
    "# Make helper functions available: The notebook expects to be executed either in the sub-workflow directory or in the notebooks directory\n",
    "sys.path.insert(1, '../'), sys.path.insert(1, '../workflow/'); # prefer to look just one directory up\n",
    "import helper\n",
    "sys.path.pop(1), sys.path.pop(1);\n",
    "\n",
    "get_path = helper.get_paths('mouse_sc')"
   ]
  },
  {
   "cell_type": "markdown",
   "metadata": {},
   "source": [
    "# settings"
   ]
  },
  {
   "cell_type": "markdown",
   "metadata": {},
   "source": [
    "## visualization settings"
   ]
  },
  {
   "cell_type": "code",
   "execution_count": null,
   "metadata": {},
   "outputs": [],
   "source": [
    "compartment_colors = helper.get_colors('compartment')\n",
    "labels_colors = helper.get_colors('labels')\n",
    "cluster_colors = helper.get_colors('cluster')\n",
    "program_colors = helper.get_colors('program')"
   ]
  },
  {
   "cell_type": "code",
   "execution_count": null,
   "metadata": {},
   "outputs": [],
   "source": [
    "figures_folder = get_path('plots')\n",
    "puck_point_size = 3"
   ]
  },
  {
   "cell_type": "code",
   "execution_count": null,
   "metadata": {},
   "outputs": [],
   "source": [
    "matplotlib.rcParams['figure.dpi'] = 216"
   ]
  },
  {
   "cell_type": "markdown",
   "metadata": {},
   "source": [
    "# Load mouse data"
   ]
  },
  {
   "cell_type": "code",
   "execution_count": null,
   "metadata": {},
   "outputs": [],
   "source": [
    "reference = sc.read(f'{get_path(\"resources\")}/scRNAseq.h5ad')\n",
    "reference.obs['batch'] = reference.obs['Chemistry'].astype(str) + '_' + reference.obs['Hashed'].map({True:'hashing',False:'regular'})"
   ]
  },
  {
   "cell_type": "code",
   "execution_count": null,
   "metadata": {},
   "outputs": [],
   "source": [
    "splicing = scv.read(f'{get_path(\"resources\")}/scRNAseq_splicing.h5ad')"
   ]
  },
  {
   "cell_type": "code",
   "execution_count": null,
   "metadata": {},
   "outputs": [],
   "source": [
    "subsets = {\n",
    "    'normal_TNK':    reference.obs.index[reference.obs['labels'].isin(['TNK']) &  reference.obs['State'].isin(['normal'])].intersection(splicing.obs.index),\n",
    "    'notnormal_TNK': reference.obs.index[reference.obs['labels'].isin(['TNK']) & ~reference.obs['State'].isin(['normal'])].intersection(splicing.obs.index),\n",
    "    'normal_Epi':    reference.obs.index[reference.obs['labels'].isin(['Epi']) &  reference.obs['State'].isin(['normal'])].intersection(splicing.obs.index),\n",
    "    'notnormal_Epi': reference.obs.index[reference.obs['labels'].isin(['Epi']) & ~reference.obs['State'].isin(['normal'])].intersection(splicing.obs.index),\n",
    "}"
   ]
  },
  {
   "cell_type": "code",
   "execution_count": null,
   "metadata": {},
   "outputs": [],
   "source": [
    "for anno in ['batch','cluster','State']:\n",
    "    splicing.obs[anno] = reference.obs[anno]"
   ]
  },
  {
   "cell_type": "code",
   "execution_count": null,
   "metadata": {},
   "outputs": [],
   "source": [
    "for anno in ['Epithelial_programs']:\n",
    "    splicing.obsm[anno] = reference.obsm[anno].reindex(index=splicing.obs.index)"
   ]
  },
  {
   "cell_type": "code",
   "execution_count": null,
   "metadata": {
    "tags": []
   },
   "outputs": [],
   "source": [
    "subset_results = {}\n",
    "for subset_label, subset_index in subsets.items():\n",
    "    sdata = splicing[subset_index].copy()\n",
    "    scv.pp.filter_and_normalize(sdata)\n",
    "    scv.pp.moments(sdata)\n",
    "    scv.tl.velocity(sdata, mode='stochastic')\n",
    "    scv.tl.velocity_graph(sdata)\n",
    "    sc.tl.umap(sdata)\n",
    "    scv.tl.paga(sdata,groups='cluster')\n",
    "    subset_results[subset_label] = sdata"
   ]
  },
  {
   "cell_type": "code",
   "execution_count": null,
   "metadata": {},
   "outputs": [],
   "source": [
    "subset_meta = pd.DataFrame(index=subsets.keys())\n",
    "subset_meta['normality'] = subset_meta.index.str.split('_').str[0]\n",
    "subset_meta['case'] = subset_meta.index.str.split('_').str[1]"
   ]
  },
  {
   "cell_type": "code",
   "execution_count": null,
   "metadata": {},
   "outputs": [],
   "source": [
    "subset_results_bbknn = {}\n",
    "for subset_label, subset_index in subsets.items():\n",
    "    sdata = subset_results[subset_label].copy()\n",
    "    sc.tl.pca(sdata)\n",
    "    sc.external.pp.bbknn(sdata, batch_key='batch')\n",
    "    sc.tl.umap(sdata) # UMAP is not 100% reproducible across different systems (see e.g., https://github.com/scverse/scanpy/issues/2014), so the actual plots can be different, while the general structure should be the same.\n",
    "    subset_results_bbknn[subset_label] = sdata"
   ]
  },
  {
   "cell_type": "code",
   "execution_count": null,
   "metadata": {},
   "outputs": [],
   "source": [
    "for ax_i,normality in enumerate(subset_meta['normality'].unique()):\n",
    "    for ax_j,case in enumerate(subset_meta['case'].unique()):\n",
    "        subset_label = f'{normality}_{case}'\n",
    "        if subset_label in subset_meta.index:\n",
    "            sdata = subset_results_bbknn[subset_label]\n",
    "            for k in sdata.obsm['Epithelial_programs'].columns:\n",
    "                sdata.obs[k] = sdata.obsm['Epithelial_programs'][k]"
   ]
  },
  {
   "cell_type": "code",
   "execution_count": null,
   "metadata": {},
   "outputs": [],
   "source": [
    "fig,axs = tc.pl.subplots(len(subset_meta['normality'].unique()), len(sdata.obsm['Epithelial_programs'].columns), x_padding=3)\n",
    "for ax_i,normality in enumerate(subset_meta['normality'].unique()):\n",
    "    for ax_j,prog in enumerate(sdata.obsm['Epithelial_programs'].columns):\n",
    "        ax = axs[ax_j,ax_i]\n",
    "        case = 'Epi'\n",
    "        subset_label = f'{normality}_{case}'\n",
    "        if subset_label in subset_meta.index and case == 'Epi':\n",
    "            sdata = subset_results_bbknn[subset_label]\n",
    "            scv.pl.velocity_embedding_stream(sdata, basis='umap',color=prog,legend_loc='right margin',palette=tc.pl.get_default_colors(4), ax=ax, show=False)\n",
    "            ax.set_title(f'{subset_label}_{prog}')\n",
    "            \n",
    "            # rasterize dots and arrows to make the plot smaller (and to avoid bug in pdf backend)\n",
    "            for thingy in ax.get_children():\n",
    "                raterized = False\n",
    "                if isinstance(thingy,matplotlib.collections.LineCollection): # streamlines\n",
    "                    raterized = True\n",
    "                if isinstance(thingy,matplotlib.patches.FancyArrowPatch): # streamline arrow tips\n",
    "                    raterized = True\n",
    "                if isinstance(thingy,matplotlib.collections.PathCollection): # dots\n",
    "                    raterized = True\n",
    "                thingy.set_rasterized(raterized)\n",
    "            \n",
    "        else:\n",
    "            ax.set_axis_off()\n",
    "# UMAP is not 100% reproducible across different systems (see e.g., https://github.com/scverse/scanpy/issues/2014), so the actual plots can be different, while the general structure should be the same.\n",
    "fig.savefig(f'{get_path(\"plots\")}/velocity_per_program_and_State_after_batch_correction.pdf',bbox_inches='tight')"
   ]
  },
  {
   "cell_type": "code",
   "execution_count": null,
   "metadata": {},
   "outputs": [],
   "source": [
    "fig,axs = tc.pl.subplots(len(subset_meta['normality'].unique()), len(subset_meta['case'].unique()), x_padding=4)\n",
    "for ax_i,normality in enumerate(subset_meta['normality'].unique()):\n",
    "    for ax_j,case in enumerate(subset_meta['case'].unique()):\n",
    "        ax = axs[ax_j,ax_i]\n",
    "        subset_label = f'{normality}_{case}'\n",
    "        if subset_label in subset_meta.index:\n",
    "            sdata = subset_results_bbknn[subset_label]\n",
    "            scv.pl.velocity_embedding_stream(sdata, basis='umap',color='cluster',legend_loc='right margin',palette=[cluster_colors[k] for k in sdata.obs['cluster'].cat.categories], ax=ax, show=False)\n",
    "            if 'Epithelial_programs' in sdata.obsm:\n",
    "                proliferation_programs = sdata.obsm['Epithelial_programs'][[c for c in sdata.obsm['Epithelial_programs'].columns if 'Proliferation' in c]].sum(axis=1)\n",
    "                sdata.obs['Proliferating'] = proliferation_programs > 0.5 * sdata.obsm['Epithelial_programs'].sum(axis=1)\n",
    "                add_outline = sdata.obs['Proliferating'].to_numpy()\n",
    "                # plot again with outline - but keep the previous plot, as the legend would be missing otherwise...\n",
    "                scv.pl.velocity_embedding_stream(sdata, basis='umap',color='cluster',legend_loc='right margin',palette=[cluster_colors[k] for k in sdata.obs['cluster'].cat.categories], ax=ax, show=False, add_outline=add_outline)\n",
    "            \n",
    "            ax.set_title(subset_label)\n",
    "            \n",
    "            # rasterize dots and arrows to make the plot smaller (and to avoid bug in pdf backend)\n",
    "            for thingy in ax.get_children():\n",
    "                raterized = False\n",
    "                if isinstance(thingy,matplotlib.collections.LineCollection): # streamlines\n",
    "                    raterized = True\n",
    "                if isinstance(thingy,matplotlib.patches.FancyArrowPatch): # streamline arrow tips\n",
    "                    raterized = True\n",
    "                if isinstance(thingy,matplotlib.collections.PathCollection): # dots\n",
    "                    raterized = True\n",
    "                thingy.set_rasterized(raterized)\n",
    "            \n",
    "        else:\n",
    "            ax.set_axis_off()\n",
    "# UMAP is not 100% reproducible across different systems (see e.g., https://github.com/scverse/scanpy/issues/2014), so the actual plots can be different, while the general structure should be the same.\n",
    "fig.savefig(f'{get_path(\"plots\")}/velocity_per_cluster_and_State_after_batch_correction_highlight_proliferation.pdf',bbox_inches='tight')"
   ]
  },
  {
   "cell_type": "code",
   "execution_count": null,
   "metadata": {},
   "outputs": [],
   "source": []
  }
 ],
 "metadata": {
  "kernelspec": {
   "display_name": "Python 3 (ipykernel)",
   "language": "python",
   "name": "python3"
  },
  "language_info": {
   "codemirror_mode": {
    "name": "ipython",
    "version": 3
   },
   "file_extension": ".py",
   "mimetype": "text/x-python",
   "name": "python",
   "nbconvert_exporter": "python",
   "pygments_lexer": "ipython3",
   "version": "3.11.5"
  }
 },
 "nbformat": 4,
 "nbformat_minor": 4
}
