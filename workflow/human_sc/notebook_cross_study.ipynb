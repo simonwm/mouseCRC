{
 "cells": [
  {
   "cell_type": "markdown",
   "metadata": {},
   "source": [
    "# Score mouse regions in human sc data"
   ]
  },
  {
   "cell_type": "code",
   "execution_count": null,
   "metadata": {
    "tags": []
   },
   "outputs": [],
   "source": [
    "import warnings\n",
    "warnings.filterwarnings('ignore','invalid value encountered in true_divide')\n",
    "\n",
    "import pandas as pd\n",
    "import numpy as np\n",
    "import anndata as ad\n",
    "\n",
    "import scanpy as sc\n",
    "import tacco as tc\n",
    "\n",
    "import seaborn as sns\n",
    "from matplotlib.colors import LinearSegmentedColormap, Normalize\n",
    "from matplotlib.cm import ScalarMappable\n",
    "\n",
    "from statsmodels.stats.multitest import multipletests\n",
    "\n",
    "from statannotations.Annotator import Annotator"
   ]
  },
  {
   "cell_type": "code",
   "execution_count": null,
   "metadata": {
    "tags": []
   },
   "outputs": [],
   "source": [
    "import sys\n",
    "# Make helper functions available: The notebook expects to be executed either in the sub-workflow directory or in the notebooks directory\n",
    "sys.path.insert(1, '../'), sys.path.insert(1, '../workflow/'); # prefer to look just one directory up\n",
    "import helper\n",
    "sys.path.pop(1), sys.path.pop(1);\n",
    "\n",
    "get_path = helper.get_paths('human_sc')\n",
    "figures_folder = get_path('plots')"
   ]
  },
  {
   "cell_type": "markdown",
   "metadata": {},
   "source": [
    "## Load data and convert the genes to the common MGI homology classes"
   ]
  },
  {
   "cell_type": "code",
   "execution_count": null,
   "metadata": {
    "tags": []
   },
   "outputs": [],
   "source": [
    "tc.tl.setup_orthology_converter(f'{get_path(\"resources\")}/MGI/HOM_AllOrganism.rpt');"
   ]
  },
  {
   "cell_type": "code",
   "execution_count": null,
   "metadata": {
    "tags": []
   },
   "outputs": [],
   "source": [
    "mouse_scrna = ad.read(f'{get_path(\"resources\",\"mouse_sc\")}/scRNAseq.h5ad')\n",
    "mouse_slideseq = ad.read(f'{get_path(\"resources\",\"mouse_slideseq\")}/slideseq.h5ad')\n",
    "mouse_slideseq_by_compartment = ad.read(f'{get_path(\"resources\",\"mouse_slideseq\")}/slideseq_by_compartment.h5ad')"
   ]
  },
  {
   "cell_type": "code",
   "execution_count": null,
   "metadata": {
    "tags": []
   },
   "outputs": [],
   "source": [
    "# use only data from sufficiently covered beads\n",
    "mouse_slideseq = mouse_slideseq[mouse_slideseq.X.sum(axis=1)>=100].copy()\n",
    "mouse_slideseq_by_compartment = mouse_slideseq_by_compartment[mouse_slideseq_by_compartment.obs['index'].isin(mouse_slideseq.obs.index)].copy()"
   ]
  },
  {
   "cell_type": "code",
   "execution_count": null,
   "metadata": {
    "tags": []
   },
   "outputs": [],
   "source": [
    "mouse_scrna = tc.tl.run_orthology_converter(mouse_scrna, 'mouse', use_synonyms=False) # no synonyms here to keep integer counts (also all counts are already used without synonyms)\n",
    "mouse_slideseq_by_compartment = tc.tl.run_orthology_converter(mouse_slideseq_by_compartment, 'mouse', use_synonyms=False) # no synonyms here to keep integer counts (also all counts are already used without synonyms)\n",
    "# remove varm as it breaks anndata if subsetted...\n",
    "for k in [k for k in mouse_scrna.varm]:\n",
    "    del mouse_scrna.varm[k]"
   ]
  },
  {
   "cell_type": "code",
   "execution_count": null,
   "metadata": {
    "tags": []
   },
   "outputs": [],
   "source": [
    "mouse_adatas = { 'scRNA': mouse_scrna, 'SlideSeq': mouse_slideseq_by_compartment }"
   ]
  },
  {
   "cell_type": "code",
   "execution_count": null,
   "metadata": {
    "tags": []
   },
   "outputs": [],
   "source": [
    "human_data_sources = [ 'Pelka', 'Becker', 'Zheng', 'Khaliq', 'Che', 'Chen', 'Joanito_3p', 'Joanito_5p' ]"
   ]
  },
  {
   "cell_type": "code",
   "execution_count": null,
   "metadata": {
    "tags": []
   },
   "outputs": [],
   "source": [
    "human_adatas = { source: ad.read(f'{get_path(\"data\")}/{source}.h5ad') for source in human_data_sources }"
   ]
  },
  {
   "cell_type": "code",
   "execution_count": null,
   "metadata": {
    "tags": []
   },
   "outputs": [],
   "source": [
    "for source in human_adatas.keys():\n",
    "    human_adatas[source] = tc.tl.run_orthology_converter(human_adatas[source], 'human', use_synonyms=True) # use synonyms here as it increases the amount of data used (and the integer nature of the data is irrelevant)"
   ]
  },
  {
   "cell_type": "code",
   "execution_count": null,
   "metadata": {
    "tags": []
   },
   "outputs": [],
   "source": [
    "for source, human_adata in human_adatas.items():\n",
    "    human_adata.obs['species'] = 'human'\n",
    "    human_adata.obs['source'] = source"
   ]
  },
  {
   "cell_type": "code",
   "execution_count": null,
   "metadata": {
    "tags": []
   },
   "outputs": [],
   "source": [
    "for source, mouse_adata in mouse_adatas.items():\n",
    "    mouse_adata.obs['species'] = 'mouse'\n",
    "    mouse_adata.obs['source'] = source"
   ]
  },
  {
   "cell_type": "code",
   "execution_count": null,
   "metadata": {
    "tags": []
   },
   "outputs": [],
   "source": [
    "all_adatas = {**mouse_adatas, **human_adatas}"
   ]
  },
  {
   "cell_type": "code",
   "execution_count": null,
   "metadata": {
    "tags": []
   },
   "outputs": [],
   "source": [
    "# generate a consistent layer of annotation across datasets\n",
    "for source, adata in all_adatas.items():\n",
    "    if 'SampleID' not in adata.obs:\n",
    "        if 'samples' in adata.obs:\n",
    "            adata.obs['SampleID'] = adata.obs['samples']\n",
    "        elif 'sample' in adata.obs:\n",
    "            adata.obs['SampleID'] = adata.obs['sample']\n",
    "        elif 'PID' in adata.obs:\n",
    "            adata.obs['SampleID'] = adata.obs['PID']\n",
    "        else:\n",
    "            raise ValueError(f'Unknown sample spec in source {source}!')\n",
    "    if 'State' not in adata.obs:\n",
    "        if 'GrossPathology' in adata.obs:\n",
    "            adata.obs['State'] = adata.obs['GrossPathology']\n",
    "        elif 'TMMR' in adata.obs:\n",
    "            adata.obs['State'] = adata.obs['TMMR']\n",
    "        elif 'Condition' in adata.obs:\n",
    "            adata.obs['State'] = adata.obs['Condition']\n",
    "        else:\n",
    "            raise ValueError(f'Unknown state spec in source {source}!')\n",
    "    if 'Epithelial' not in adata.obs:\n",
    "        if 'epithelial' in adata.obs:\n",
    "            adata.obs['Epithelial'] = adata.obs['epithelial']\n",
    "        elif 'compartment' in adata.obs:\n",
    "            adata.obs['Epithelial'] = adata.obs['compartment'].isin(['Epi','Epithelial','epi','epithelial'])\n",
    "        elif 'pelka_epithelial' in adata.obs:\n",
    "            adata.obs['Epithelial'] = adata.obs['pelka_epithelial']\n",
    "        else:\n",
    "            raise ValueError(f'Unknown sample spec in source {source}!')\n",
    "    adata.obs['source-State'] = adata.obs['source'].astype(str) + ': ' + adata.obs['State'].astype(str)"
   ]
  },
  {
   "cell_type": "code",
   "execution_count": null,
   "metadata": {
    "tags": []
   },
   "outputs": [],
   "source": [
    "# filter all datasets to a common gene set\n",
    "filtered_adatas = tc.pp.filter([*human_adatas.values(),*mouse_adatas.values()], return_view=False, remove_constant_genes=True)"
   ]
  },
  {
   "cell_type": "markdown",
   "metadata": {},
   "source": [
    "## Load CRC classification results for full pseudobulk samples"
   ]
  },
  {
   "cell_type": "code",
   "execution_count": null,
   "metadata": {
    "tags": []
   },
   "outputs": [],
   "source": [
    "CMS_classes = pd.read_csv(f'{get_path(\"data\")}/CMS_classification.tsv',sep='\\t')"
   ]
  },
  {
   "cell_type": "markdown",
   "metadata": {},
   "source": [
    "# generate pseudobulk samples for the epithelial compartment"
   ]
  },
  {
   "cell_type": "code",
   "execution_count": null,
   "metadata": {
    "tags": []
   },
   "outputs": [],
   "source": [
    "all_data = [ adata[adata.obs['Epithelial']] for adata in filtered_adatas ]\n",
    "def prep_pseudobulk(adata):\n",
    "    pseudobulk = tc.tl.merge_observations(adata, 'SampleID')\n",
    "    pseudobulk.obs['SampleID'] = pseudobulk.obs['SampleID'].astype(str)\n",
    "    pseudobulk.obs = pseudobulk.obs.set_index('SampleID')\n",
    "    return pseudobulk\n",
    "all_pseudobulk = [ prep_pseudobulk(adata) for adata in all_data ]"
   ]
  },
  {
   "cell_type": "code",
   "execution_count": null,
   "metadata": {
    "tags": []
   },
   "outputs": [],
   "source": [
    "adata_pseudobulk = ad.concat(all_pseudobulk)"
   ]
  },
  {
   "cell_type": "code",
   "execution_count": null,
   "metadata": {
    "tags": []
   },
   "outputs": [],
   "source": [
    "tc.utils.merge_annotation(adata_pseudobulk, 'source', mapping={\n",
    "    'mouse-10x3p': ['scRNA',],\n",
    "    'mouse-SlideSeq': ['SlideSeq',],\n",
    "    'human-10x3p': ['Pelka','Zheng','Che','Joanito_3p'],\n",
    "    'human-10x5p': ['Khaliq','Joanito_5p'],\n",
    "    'human-inDrop': ['Chen',],\n",
    "    'human-snRNA': ['Becker',],\n",
    "}, result_key='batch')\n",
    "adata_pseudobulk.obs['reference-normal'] = adata_pseudobulk.obs['source-State'].isin(['scRNA: normal','SlideSeq: normal','Zheng: normal','Joanito_5p: Normal','Chen: NL','Becker: Normal',])\n",
    "batch_pseudobulks = [adata_pseudobulk[df.index].copy() for k,df in adata_pseudobulk.obs.groupby('batch')]\n",
    "filtered_reference_normals = tc.pp.filter([batch_pseudobulk[batch_pseudobulk.obs['reference-normal']] for batch_pseudobulk in batch_pseudobulks], min_cells_per_gene=2, remove_constant_genes=True, remove_zero_cells=True, return_view=True)\n",
    "batch_pseudobulks = [batch_pseudobulk[:,filtered_reference_normals[0].var.index].copy() for batch_pseudobulk in batch_pseudobulks]\n",
    "target_normal = adata_pseudobulk[adata_pseudobulk.obs['source-State'] == 'Zheng: normal', filtered_reference_normals[0].var.index].copy()\n",
    "for batch_pseudobulk in batch_pseudobulks:\n",
    "    factors = tc.pp.normalize_platform(batch_pseudobulk[batch_pseudobulk.obs['reference-normal']], target_normal, inplace=False, return_rescaling_factors=True)\n",
    "    tc.utils.scale_counts(batch_pseudobulk, factors)\n",
    "corrected_pseudobulk = ad.concat(batch_pseudobulks)"
   ]
  },
  {
   "cell_type": "code",
   "execution_count": null,
   "metadata": {
    "tags": []
   },
   "outputs": [],
   "source": [
    "def norm_pseudobulk(adata, min_counts=1e5):\n",
    "    adata = tc.pp.filter(adata, min_counts_per_cell=min_counts, return_view=False, assume_valid_counts=True)\n",
    "    adata.X = tc.tl.get_contributions(adata, None, value_location='X', normalization='clr', reduction=None, assume_counts=True).to_numpy()\n",
    "    return adata\n",
    "normed_pseudobulk = norm_pseudobulk(corrected_pseudobulk)"
   ]
  },
  {
   "cell_type": "markdown",
   "metadata": {},
   "source": [
    "# Get DE genes for the regions"
   ]
  },
  {
   "cell_type": "code",
   "execution_count": null,
   "metadata": {
    "tags": []
   },
   "outputs": [],
   "source": [
    "# score regions; using epithelial data only\n",
    "def DEG_regions(selected_regions):\n",
    "    _sdata = mouse_slideseq_by_compartment[mouse_slideseq_by_compartment.obs['Epithelial'],normed_pseudobulk.var.index]\n",
    "    \n",
    "    group_key = 'region'\n",
    "\n",
    "    enrichments = helper.marker_genes(_sdata, group_key, rungo=False, restrict_groups=selected_regions)\n",
    "\n",
    "    gene_lists = {region:df.sort_values('p_fisher_fdr_bh')['value'].str.upper() for region, df in enrichments.groupby(group_key) if len(df)>0}\n",
    "    return gene_lists\n",
    "gene_lists = {}\n",
    "gene_lists['aR'] = DEG_regions([ r for r in mouse_slideseq_by_compartment.obs['region'].cat.categories ])\n",
    "gene_lists['mR'] = DEG_regions([ r for r in mouse_slideseq_by_compartment.obs['region'].cat.categories if 'Malignant' in r ])"
   ]
  },
  {
   "cell_type": "markdown",
   "metadata": {},
   "source": [
    "# Score pseudobulk data with the DE genes for the regions"
   ]
  },
  {
   "cell_type": "code",
   "execution_count": null,
   "metadata": {
    "tags": []
   },
   "outputs": [],
   "source": [
    "def score_adata(adata, score, nDEG=200):\n",
    "    for region,genes in gene_lists[score].items():\n",
    "        adata.obs[f'{region}_{score}score'] = np.asarray(adata[:,genes.head(nDEG)].X.mean(axis=1))"
   ]
  },
  {
   "cell_type": "code",
   "execution_count": null,
   "metadata": {
    "tags": []
   },
   "outputs": [],
   "source": [
    "for k in gene_lists.keys():\n",
    "    score_adata(normed_pseudobulk, k, nDEG=200)"
   ]
  },
  {
   "cell_type": "code",
   "execution_count": null,
   "metadata": {
    "tags": []
   },
   "outputs": [],
   "source": [
    "def umap_dataframe(adatas, score, keep=['State','species','source','source-State','batch','reference-normal']):\n",
    "    keys=[f'{region}_{score}score' for region in gene_lists[score].keys()]\n",
    "    if not isinstance(adatas, list):\n",
    "        adatas = [adatas]\n",
    "    score_data = ad.AnnData(pd.concat([ adata.obs[keys] for adata in adatas ]))\n",
    "    if keep is not None:\n",
    "        for k in keep:\n",
    "            for adata in adatas:\n",
    "                if k in adata.obs.columns:\n",
    "                    if k not in score_data.obs:\n",
    "                        score_data.obs[k] = None\n",
    "                    score_data.obs.loc[adata.obs.index,k] = adata.obs[k]\n",
    "    \n",
    "    # correct for in-species prediction bias\n",
    "    batch_score_datas = [score_data[df.index].copy() for k,df in score_data.obs.groupby('species')]\n",
    "    for batch_score_data in batch_score_datas:\n",
    "        mean = batch_score_data.X.mean(axis=0)\n",
    "        std = batch_score_data.X.std(axis=0)\n",
    "        batch_score_data.X -= mean\n",
    "        batch_score_data.X /= std\n",
    "    score_data = ad.concat(batch_score_datas)\n",
    "    \n",
    "    sc.pp.neighbors(score_data, random_state=42)\n",
    "    sc.tl.umap(score_data, random_state=42)\n",
    "    sc.tl.pca(score_data, random_state=42, n_comps=2)\n",
    "    \n",
    "    return score_data"
   ]
  },
  {
   "cell_type": "markdown",
   "metadata": {},
   "source": [
    "# Visualize the scores"
   ]
  },
  {
   "cell_type": "code",
   "execution_count": null,
   "metadata": {
    "tags": []
   },
   "outputs": [],
   "source": [
    "# scores for all regions\n",
    "selected_score = 'aR'\n",
    "embedded = umap_dataframe(normed_pseudobulk, selected_score)\n",
    "embedded.obs['pc1'] = embedded.obsm['X_pca'][:,0]\n",
    "embedded.obs['pc2'] = embedded.obsm['X_pca'][:,1]\n",
    "\n",
    "tc.utils.merge_annotation(embedded,'source-State',mapping={\n",
    "    'normal':['Becker: Normal','SlideSeq: normal','scRNA: normal','Chen: NL','Zheng: normal','Khaliq: Normal','Pelka: normal','Joanito_3p: Normal','Joanito_5p: Normal',],\n",
    "    'malignant':['Pelka: MMRd','Pelka: MMRp','Becker: Adenocarcinoma','Che: CRC', 'Chen: MSI-H', 'Chen: MSS', 'Khaliq: Tumor', 'Zheng: carcinoma', 'scRNA: malignant (3weeks)', 'scRNA: malignant (9weeks)','Joanito_3p: MSS','Joanito_5p: MSS','Joanito_3p: MSI-H','Joanito_5p: MSI-H',],\n",
    "    'unaffected':['Becker: Unaffected',],\n",
    "    'premalignant':['SlideSeq: premalignant','scRNA: premalignant','Chen: AD','Chen: SER','Zheng: adenoma','Becker: Polyp'],\n",
    "    'other':['Che: LM', 'Chen: UNC', 'Zheng: para-cancer'],\n",
    "},result_key='simple-State')\n",
    "embedded.obs['simple-State'] = embedded.obs['simple-State'].astype(pd.CategoricalDtype(['normal','unaffected','premalignant','malignant','other'], ordered=True))\n",
    "embedded.obs['source'] = embedded.obs['source'].astype(pd.CategoricalDtype(['Pelka','Becker','Che','Chen','Zheng','Joanito_3p','Joanito_5p','Khaliq','scRNA','SlideSeq'], ordered=True))\n",
    "\n",
    "tc.utils.merge_annotation(embedded,'source-State',mapping={\n",
    "    'human normal':['Becker: Normal','Chen: NL','Zheng: normal','Khaliq: Normal','Pelka: normal','Joanito_3p: Normal','Joanito_5p: Normal',],\n",
    "    'mouse normal':['SlideSeq: normal','scRNA: normal',],\n",
    "    'human tumor':['Pelka: MMRd','Pelka: MMRp','Becker: Adenocarcinoma','Che: CRC', 'Chen: MSI-H', 'Chen: MSS','Khaliq: Tumor', 'Zheng: carcinoma', 'Joanito_3p: MSS','Joanito_5p: MSS','Joanito_3p: MSI-H','Joanito_5p: MSI-H',],\n",
    "    'mouse malignant':['scRNA: malignant (3weeks)', 'scRNA: malignant (9weeks)'],\n",
    "    'human unaffected':['Becker: Unaffected',],\n",
    "    'human polyp':['Chen: AD','Chen: SER','Zheng: adenoma','Becker: Polyp',],\n",
    "    'mouse premalignant':['SlideSeq: premalignant','scRNA: premalignant',],\n",
    "    'human other':['Che: LM', 'Chen: UNC', 'Zheng: para-cancer'],\n",
    "},result_key='Species-Label')\n",
    "embedded.obs['Species-Label'] = embedded.obs['Species-Label'].astype(pd.CategoricalDtype(['mouse normal', 'mouse premalignant', 'mouse malignant', 'human normal', 'human unaffected', 'human polyp', 'human tumor', 'human other',], ordered=True))\n",
    "\n",
    "tc.utils.merge_annotation(embedded,'source-State',mapping={\n",
    "    'human normal':['Becker: Normal','Chen: NL','Zheng: normal','Pelka: normal','Joanito_3p: Normal','Joanito_5p: Normal','Khaliq: Normal',],\n",
    "    'mouse normal':['SlideSeq: normal','scRNA: normal',],\n",
    "    'human tumor MMRd':['Pelka: MMRd','Chen: MSI-H','Joanito_3p: MSI-H','Joanito_5p: MSI-H',],\n",
    "    'human tumor MMRp':['Pelka: MMRp','Chen: MSS','Joanito_3p: MSS','Joanito_5p: MSS',],\n",
    "    'human tumor general':['Becker: Adenocarcinoma','Che: CRC', 'Khaliq: Tumor', 'Zheng: carcinoma', ],\n",
    "    'mouse malignant':['scRNA: malignant (3weeks)', 'scRNA: malignant (9weeks)'],\n",
    "    'human unaffected':['Becker: Unaffected',],\n",
    "    'human polyp general':['Zheng: adenoma','Becker: Polyp',],\n",
    "    'mouse premalignant':['SlideSeq: premalignant','scRNA: premalignant',],\n",
    "    'human other':['Che: LM', 'Chen: UNC', 'Zheng: para-cancer'],\n",
    "},result_key='Tumor-Subtype')\n",
    "embedded.obs['Tumor-Subtype'] = embedded.obs['Tumor-Subtype'].astype(pd.CategoricalDtype(['mouse normal', 'mouse premalignant', 'mouse malignant', 'human normal', 'human unaffected', 'Chen: AD','Chen: SER', 'human polyp general', 'human tumor MMRd', 'human tumor MMRp', 'human tumor general', 'human other',], ordered=True))\n",
    "\n",
    "embedded.obs['ordered-State'] = embedded.obs['source-State'].astype(pd.CategoricalDtype([\n",
    "    'Zheng: normal','Chen: NL','Becker: Normal','Pelka: normal','Joanito_3p: Normal','Joanito_5p: Normal','Khaliq: Normal', 'SlideSeq: normal','scRNA: normal',# normal\n",
    "    'Becker: Unaffected', # unaffected\n",
    "    'Chen: SER','Chen: AD','Becker: Polyp','Zheng: adenoma','SlideSeq: premalignant','scRNA: premalignant', # premalignant\n",
    "    'Zheng: carcinoma',  'Becker: Adenocarcinoma','Che: CRC', 'Pelka: MMRd','Pelka: MMRp','Chen: MSI-H', 'Chen: MSS','Joanito_3p: MSI-H','Joanito_3p: MSS','Joanito_5p: MSI-H','Joanito_5p: MSS','Khaliq: Tumor', 'scRNA: malignant (3weeks)', 'scRNA: malignant (9weeks)', # malignant\n",
    "    'Chen: UNC', 'Zheng: para-cancer', 'Che: LM', # other\n",
    "], ordered=True))"
   ]
  },
  {
   "cell_type": "code",
   "execution_count": null,
   "metadata": {
    "tags": []
   },
   "outputs": [],
   "source": [
    "loading_df = pd.Series(embedded.varm['PCs'][:,0],index=embedded.var.index).reset_index().rename(columns={'index':'region_score',0:'pc1'})\n",
    "loading_df['region_score'] = loading_df['region_score'].str.split('_').str[0]\n",
    "\n",
    "enriched_color = (1.0, 0.07058823529411765, 0.09019607843137255)\n",
    "depleted_color = (0.30196078431372547, 0.5215686274509804, 0.7098039215686275)\n",
    "null_color = (0.9,0.9,0.9)\n",
    "\n",
    "loading_df = loading_df.sort_values('pc1',ascending=False)\n",
    "\n",
    "pc1_min, pc1_max = loading_df['pc1'].min(), loading_df['pc1'].max()\n",
    "pc1_absmax = max(abs(pc1_min),abs(pc1_max))\n",
    "norm = Normalize(vmin=-pc1_absmax, vmax=pc1_absmax)\n",
    "cmap = LinearSegmentedColormap.from_list('pc1', [(0,depleted_color),(0.5,null_color),(1,enriched_color)])\n",
    "mapper = ScalarMappable(norm=norm, cmap=cmap)\n",
    "colors = mapper.to_rgba(loading_df['pc1'])\n",
    "\n",
    "fig,axs = tc.pl.subplots(axsize=[3,3])\n",
    "y_pos = np.arange(len(loading_df))\n",
    "axs[0,0].barh(y_pos, loading_df['pc1'], align='center', color=colors)\n",
    "axs[0,0].set_yticks(y_pos, labels=loading_df['region_score'])\n",
    "axs[0,0].invert_yaxis()  # labels read top-to-bottom\n",
    "axs[0,0].set_xlabel('pc1 loadings');\n",
    "\n",
    "fig.savefig(f'{figures_folder}/epi_{selected_score}_region_score_pca_pc1_loadings.pdf',bbox_inches='tight')"
   ]
  },
  {
   "cell_type": "code",
   "execution_count": null,
   "metadata": {
    "tags": []
   },
   "outputs": [],
   "source": [
    "region_loading_order = pd.Index(loading_df['region_score'])"
   ]
  },
  {
   "cell_type": "code",
   "execution_count": null,
   "metadata": {
    "tags": []
   },
   "outputs": [],
   "source": [
    "all_groups = embedded.obs['Species-Label'].cat.categories\n",
    "all_groups_by_species = { species: all_groups[all_groups.str.startswith(species)] for species in ['human','mouse'] }\n",
    "enr_list = []\n",
    "for species, species_groups in all_groups_by_species.items():\n",
    "    for region_score in embedded.var_names:\n",
    "        enr_list.append(tc.tl.enrichments(embedded, region_score, \"Species-Label\", method='welch', value_location='X', reference_group=f'{species} normal', restrict_groups=species_groups).rename(columns={region_score:'region_score'}))\n",
    "        premalignant_group, malignant_group = ['mouse premalignant', 'mouse malignant'] if species == 'mouse' else ['human polyp', 'human tumor']\n",
    "        enr_list.append(tc.tl.enrichments(embedded, region_score, \"Species-Label\", method='welch', value_location='X', reference_group=premalignant_group, restrict_groups=[premalignant_group, malignant_group]).rename(columns={region_score:'region_score'}))\n",
    "enr = pd.concat(enr_list)\n",
    "enr.loc[enr['Species-Label'] == 'mouse normal VS rest', 'Species-Label'] = 'mouse normal VS mouse rest'\n",
    "enr.loc[enr['Species-Label'] == 'human normal VS rest', 'Species-Label'] = 'human normal VS human rest'\n",
    "comparison_order = ['mouse normal VS mouse rest', 'human normal VS human rest', 'mouse premalignant VS mouse normal', 'human polyp VS human normal', 'mouse malignant VS mouse normal', 'human tumor VS human normal', 'mouse malignant VS mouse premalignant', 'human tumor VS human polyp', 'human other VS human normal', 'human unaffected VS human normal']\n",
    "enr = enr[enr['Species-Label'].isin(comparison_order)].copy()\n",
    "enr['Species-Label'] = enr['Species-Label'].astype(pd.CategoricalDtype(comparison_order, ordered=True))\n",
    "enr['region_score'] = enr['region_score'].astype(pd.CategoricalDtype([f'{r}_{selected_score}score' for r in region_loading_order], ordered=True))\n",
    "enr['p_welch_fdr_bh'] = multipletests(enr['p_welch'], alpha=0.05, method='fdr_bh')[1]\n",
    "fig = tc.pl.significances(enr, 'p_welch_fdr_bh', 'region_score', 'Species-Label', annotate_pvalues=False);\n",
    "fig.savefig(f'{figures_folder}/epi_{selected_score}_region_score_significance_welch_reordered.pdf',bbox_inches='tight')"
   ]
  },
  {
   "cell_type": "code",
   "execution_count": null,
   "metadata": {},
   "outputs": [],
   "source": []
  },
  {
   "cell_type": "code",
   "execution_count": null,
   "metadata": {
    "tags": []
   },
   "outputs": [],
   "source": [
    "all_groups = embedded.obs['Species-Label'].cat.categories\n",
    "all_groups_by_species = { species: all_groups[all_groups.str.startswith(species)] for species in ['human','mouse'] }\n",
    "enr_list = []\n",
    "for species, species_groups in all_groups_by_species.items():\n",
    "    for iA,gA in enumerate(species_groups):\n",
    "        for iB,gB in enumerate(species_groups):\n",
    "            if iA != iB:\n",
    "                enr_AB = tc.tl.enrichments(embedded, 'pc1', \"Species-Label\", reference_group=gA, restrict_groups=[gA,gB])\n",
    "                enr_list.append(enr_AB[~enr_AB['Species-Label'].str.endswith(' VS rest')])\n",
    "enr = pd.concat(enr_list)\n",
    "enr['p_mwu_fdr_bh'] = multipletests(enr['p_mwu'], alpha=0.05, method='fdr_bh')[1]\n",
    "for k,v in enr['Species-Label'].str.split(' VS ', expand=True).rename(columns={0: 'gA', 1: 'gB'}).items():\n",
    "    enr[k] = v.astype(pd.CategoricalDtype(['mouse normal', 'mouse premalignant', 'mouse malignant', 'human normal', 'human unaffected', 'human polyp', 'human tumor', 'human other'], ordered=True))"
   ]
  },
  {
   "cell_type": "code",
   "execution_count": null,
   "metadata": {
    "tags": []
   },
   "outputs": [],
   "source": [
    "x_dir = 'Species-Label'\n",
    "\n",
    "fig,axs=tc.pl.subplots(2,1,axsize=(8,5),x_padding=2,y_padding=2)\n",
    "\n",
    "sns.scatterplot(data=embedded.obs, x='pc1', y='pc2', ax=axs[0,0], hue='simple-State', style='species',)\n",
    "axs[0,0].legend(bbox_to_anchor=(1, 1), loc='upper left')\n",
    "\n",
    "ax = axs[0,1]\n",
    "sns.boxplot(data=embedded.obs, x=x_dir, y=\"pc1\", ax=ax, hue='simple-State', dodge=False, showfliers=False)\n",
    "sns.stripplot(data=embedded.obs, x=x_dir, y=\"pc1\", ax=ax, color=\".25\")\n",
    "sel = enr.groupby(enr[x_dir].str.split(' VS ').map(np.sort).map(lambda x: f'{x[0]} VS {x[1]}'))['p_mwu_fdr_bh'].min()\n",
    "pairs = sel.index.str.split(' VS ')\n",
    "pvals = sel.to_numpy()\n",
    "annotator = Annotator(ax, pairs=pairs, data=embedded.obs, x=x_dir, y=\"pc1\", verbose=False)\n",
    "annotator.annotate_custom_annotations(np.where(pvals > 0.05, 'ns', [f'FDR={np.format_float_scientific(p, unique=False, exp_digits=1, precision=1)}' for p in pvals]))\n",
    "cats = embedded.obs[x_dir].cat.categories\n",
    "ax.set_xticks(np.arange(len(cats)))\n",
    "ax.set_xticklabels(cats, rotation=90,va='top',ha='center');\n",
    "ax.legend(bbox_to_anchor=(1, 1), loc='upper left')\n",
    "fig.savefig(f'{figures_folder}/epi_{selected_score}_region_score_pca.pdf',bbox_inches='tight')"
   ]
  },
  {
   "cell_type": "code",
   "execution_count": null,
   "metadata": {
    "tags": []
   },
   "outputs": [],
   "source": [
    "x_dir = 'ordered-State'\n",
    "for i_what,what in enumerate(['simple-State','source']):\n",
    "    fig,axs=tc.pl.subplots(1,1,axsize=(8,5),x_padding=2,y_padding=2)\n",
    "    ax = axs[0,0]\n",
    "    sns.boxplot(data=embedded.obs, x=x_dir, y=\"pc1\", ax=ax, hue=what, dodge=False, showfliers=False)\n",
    "    sns.stripplot(data=embedded.obs, x=x_dir, y=\"pc1\", ax=ax, color=\".25\")\n",
    "    cats = embedded.obs[x_dir].cat.categories\n",
    "    ax.set_xticks(np.arange(len(cats)))\n",
    "    ax.set_xticklabels(cats, rotation=90,va='top',ha='center');\n",
    "    ax.legend(bbox_to_anchor=(1, 1), loc='upper left')\n",
    "    fig.savefig(f'{figures_folder}/epi_{selected_score}_region_score_pca_{what}.pdf',bbox_inches='tight')"
   ]
  },
  {
   "cell_type": "markdown",
   "metadata": {},
   "source": [
    "# relationship between region scores and CMS classifications"
   ]
  },
  {
   "cell_type": "code",
   "execution_count": null,
   "metadata": {
    "tags": []
   },
   "outputs": [],
   "source": [
    "embedded.obs['CMS_classes'] = embedded.obs.index.map(CMS_classes['predictedCMS']).astype(pd.CategoricalDtype(sorted([c for c in CMS_classes['predictedCMS'].unique() if str(c).startswith('CMS')]),ordered=True))"
   ]
  },
  {
   "cell_type": "code",
   "execution_count": null,
   "metadata": {
    "tags": []
   },
   "outputs": [],
   "source": [
    "sub = embedded\n",
    "sub = sub[sub.obs['species'] != 'mouse']\n",
    "sub = sub[~sub.obs['simple-State'].isin(['normal','unaffected'])]"
   ]
  },
  {
   "cell_type": "code",
   "execution_count": null,
   "metadata": {
    "tags": []
   },
   "outputs": [],
   "source": [
    "enr = tc.tl.enrichments(sub[~sub.obs[\"CMS_classes\"].isna()], None, \"CMS_classes\", value_location='X', method='welch', )\n",
    "enr['region_score'] = enr['value'].astype(pd.CategoricalDtype([f'{r}_{selected_score}score' for r in region_loading_order], ordered=True))\n",
    "fig = tc.pl.significances(enr, 'p_welch_fdr_bh', 'region_score', 'CMS_classes', );\n",
    "fig.savefig(f'{figures_folder}/epi_{selected_score}_region_score_CMS_enrichment_welch.pdf',bbox_inches='tight')"
   ]
  },
  {
   "cell_type": "code",
   "execution_count": null,
   "metadata": {},
   "outputs": [],
   "source": []
  }
 ],
 "metadata": {
  "kernelspec": {
   "display_name": "Python 3 (ipykernel)",
   "language": "python",
   "name": "python3"
  },
  "language_info": {
   "codemirror_mode": {
    "name": "ipython",
    "version": 3
   },
   "file_extension": ".py",
   "mimetype": "text/x-python",
   "name": "python",
   "nbconvert_exporter": "python",
   "pygments_lexer": "ipython3",
   "version": "3.11.5"
  }
 },
 "nbformat": 4,
 "nbformat_minor": 4
}
