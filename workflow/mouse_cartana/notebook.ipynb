{
 "cells": [
  {
   "cell_type": "code",
   "execution_count": null,
   "metadata": {
    "tags": []
   },
   "outputs": [],
   "source": [
    "import pandas as pd\n",
    "import numpy as np\n",
    "import scipy\n",
    "import scanpy as sc\n",
    "from numba import njit\n",
    "import matplotlib\n",
    "import matplotlib.pyplot as plt\n",
    "import re\n",
    "import statsmodels.stats.multitest\n",
    "import os\n",
    "import csv\n",
    "import tacco as tc"
   ]
  },
  {
   "cell_type": "code",
   "execution_count": null,
   "metadata": {
    "tags": []
   },
   "outputs": [],
   "source": [
    "import sys\n",
    "# Make helper functions available: The notebook expects to be executed either in the sub-workflow directory or in the notebooks directory\n",
    "sys.path.insert(1, '../'), sys.path.insert(1, '../workflow/'); # prefer to look just one directory up\n",
    "import helper\n",
    "sys.path.pop(1), sys.path.pop(1);\n",
    "\n",
    "get_path = helper.get_paths('mouse_cartana')"
   ]
  },
  {
   "cell_type": "code",
   "execution_count": null,
   "metadata": {
    "tags": []
   },
   "outputs": [],
   "source": [
    "default_dpi = 72.0 # matplotlib.rcParams['figure.dpi']\n",
    "matplotlib.rcParams['figure.dpi'] = 1 * default_dpi"
   ]
  },
  {
   "cell_type": "markdown",
   "metadata": {},
   "source": [
    "# settings"
   ]
  },
  {
   "cell_type": "markdown",
   "metadata": {},
   "source": [
    "## visualization settings"
   ]
  },
  {
   "cell_type": "code",
   "execution_count": null,
   "metadata": {
    "tags": []
   },
   "outputs": [],
   "source": [
    "compartment_colors = helper.get_colors('compartment')\n",
    "labels_colors = helper.get_colors('labels')\n",
    "cluster_colors = helper.get_colors('cluster')\n",
    "program_colors = helper.get_colors('program')\n",
    "region_colors = helper.get_colors('region')\n",
    "mostly_gray_region_colors = helper.get_colors('mostly_gray_region')"
   ]
  },
  {
   "cell_type": "code",
   "execution_count": null,
   "metadata": {
    "tags": []
   },
   "outputs": [],
   "source": [
    "figures_folder = get_path('plots')\n",
    "puck_point_size = 3"
   ]
  },
  {
   "cell_type": "markdown",
   "metadata": {},
   "source": [
    "## analysis settings"
   ]
  },
  {
   "cell_type": "code",
   "execution_count": null,
   "metadata": {
    "tags": []
   },
   "outputs": [],
   "source": [
    "enrichment_method = {'reduction':'sum','normalization':'clr','method':'welch','assume_counts':True,}\n",
    "p_key = f'p_{enrichment_method[\"method\"]}_fdr_bh'"
   ]
  },
  {
   "cell_type": "markdown",
   "metadata": {},
   "source": [
    "# Load mouse data"
   ]
  },
  {
   "cell_type": "code",
   "execution_count": null,
   "metadata": {
    "tags": []
   },
   "outputs": [],
   "source": [
    "reference = sc.read(f'{get_path(\"resources\",\"mouse_sc\")}/scRNAseq.h5ad')\n",
    "slideseq = sc.read(f'{get_path(\"resources\",\"mouse_slideseq\")}/slideseq.h5ad')\n",
    "slideseq = slideseq[slideseq.X.sum(axis=1)>=100].copy()"
   ]
  },
  {
   "cell_type": "code",
   "execution_count": null,
   "metadata": {
    "tags": []
   },
   "outputs": [],
   "source": [
    "cartana = pd.read_csv(f'{get_path(\"resources\")}/mouse_cartana.csv.gz',low_memory=False)"
   ]
  },
  {
   "cell_type": "markdown",
   "metadata": {},
   "source": [
    "# Organize metadata"
   ]
  },
  {
   "cell_type": "code",
   "execution_count": null,
   "metadata": {
    "tags": []
   },
   "outputs": [],
   "source": [
    "samples = cartana['SampleID'].unique()"
   ]
  },
  {
   "cell_type": "code",
   "execution_count": null,
   "metadata": {
    "tags": []
   },
   "outputs": [],
   "source": [
    "sample_meta = pd.Index(samples).str.extract(r'(?P<State>[a-zA-Z]*)[0-9]*[a-z]?_C(?P<version>[0-9])').set_index(samples)\n",
    "sample_meta['State'] = sample_meta['State'].map({'cont': 'normal', 'AV': 'premalignant'})\n",
    "sample_meta['version'] = 'v' + sample_meta['version']"
   ]
  },
  {
   "cell_type": "code",
   "execution_count": null,
   "metadata": {
    "tags": []
   },
   "outputs": [],
   "source": [
    "offsets = pd.DataFrame(index=samples)\n",
    "offsets['x'] = 0.0\n",
    "offsets['y'] = 0.0\n",
    "\n",
    "offsets.loc['cont13_C1','x'] = 5000.0\n",
    "offsets.loc['cont14_C1','x'] = 2000.0\n",
    "offsets.loc['cont14_C1','y'] = 3000.0\n",
    "\n",
    "offsets.loc['cont13_C2','x'] = 8000.0\n",
    "offsets.loc['cont14a_C2','x'] = 1000.0\n",
    "offsets.loc['cont14a_C2','y'] = 3000.0\n",
    "offsets.loc['cont14b_C2','x'] = 5000.0\n",
    "offsets.loc['cont14b_C2','y'] = 4500.0\n",
    "\n",
    "offsets.loc['AV13_C1','x'] = 5000.0\n",
    "offsets.loc['AV13_C1','y'] = 1500.0\n",
    "offsets.loc['AV14_C1','x'] = 8000.0\n",
    "offsets.loc['AV14_C1','y'] = 4000.0\n",
    "\n",
    "offsets.loc['AV13_C2','x'] = 8000.0\n",
    "offsets.loc['AV13_C2','y'] = 1000.0\n",
    "offsets.loc['AV14_C2','x'] = 6500.0\n",
    "offsets.loc['AV14_C2','y'] = 8000.0"
   ]
  },
  {
   "cell_type": "code",
   "execution_count": null,
   "metadata": {
    "tags": []
   },
   "outputs": [],
   "source": [
    "cartana['State'] = cartana['SampleID'].map(sample_meta['State']).astype('category')\n",
    "cartana['version'] = cartana['SampleID'].map(sample_meta['version']).astype('category')\n",
    "cartana['SampleID'] = cartana['SampleID'].astype('category')\n",
    "cartana.index = pd.RangeIndex(len(cartana))\n",
    "cartana['x'] += cartana['SampleID'].map(offsets['x'])\n",
    "cartana['y'] += cartana['SampleID'].map(offsets['y'])"
   ]
  },
  {
   "cell_type": "code",
   "execution_count": null,
   "metadata": {
    "tags": []
   },
   "outputs": [],
   "source": [
    "genesV1 = pd.Index(cartana.query('version==\"v1\"')['gene'].unique())\n",
    "genesV2 = pd.Index(cartana.query('version==\"v2\"')['gene'].unique())\n",
    "genesV1[~genesV1.isin(genesV2)]\n",
    "genesV2[~genesV2.isin(genesV1)]\n",
    "genesCommon = genesV2.intersection(genesV1)"
   ]
  },
  {
   "cell_type": "code",
   "execution_count": null,
   "metadata": {
    "tags": []
   },
   "outputs": [],
   "source": [
    "cartana = cartana.loc[~cartana['cluster'].isna()].copy()"
   ]
  },
  {
   "cell_type": "code",
   "execution_count": null,
   "metadata": {
    "tags": []
   },
   "outputs": [],
   "source": [
    "cartana['TLS'] = cartana['TLS'].astype(int)\n",
    "cartana['anyTLS'] = (cartana['TLS'] > 0).map({True:'TLS',False:'other'})"
   ]
  },
  {
   "cell_type": "code",
   "execution_count": null,
   "metadata": {
    "tags": []
   },
   "outputs": [],
   "source": [
    "tc.utils.merge_annotation(cartana, 'cluster', mapping=reference.obs[['labels','cluster',]].drop_duplicates().set_index('labels')['cluster'], result_key='labels');\n",
    "tc.utils.merge_annotation(cartana, 'cluster', mapping=reference.obs[['cluster_short','cluster',]].drop_duplicates().set_index('cluster_short')['cluster'], result_key='cluster_short');"
   ]
  },
  {
   "cell_type": "code",
   "execution_count": null,
   "metadata": {
    "tags": []
   },
   "outputs": [],
   "source": [
    "coords_state_version = {\n",
    "    'normal_v1': cartana.query('State==\"normal\" & version==\"v1\"'),\n",
    "    'normal_v2': cartana.query('State==\"normal\" & version==\"v2\"'),\n",
    "    'premalignant_v1': cartana.query('State==\"premalignant\" & version==\"v1\"'),\n",
    "    'premalignant_v2': cartana.query('State==\"premalignant\" & version==\"v2\"'),\n",
    "}"
   ]
  },
  {
   "cell_type": "markdown",
   "metadata": {},
   "source": [
    "# compositions on binned data"
   ]
  },
  {
   "cell_type": "code",
   "execution_count": null,
   "metadata": {
    "tags": []
   },
   "outputs": [],
   "source": [
    "bindatas = {}\n",
    "\n",
    "scale=10\n",
    "for SampleID,sub_df in cartana.groupby('SampleID'):\n",
    "    sub_cartana = sub_df.query('cluster!=\"NAN\"').copy()\n",
    "    np.random.seed(42)\n",
    "    tc.utils.bin(sub_cartana,bin_size=scale,bin_keys=['bx','by'])\n",
    "    tc.utils.hash(sub_cartana,keys=['bx','by'],hash_key='b')\n",
    "    \n",
    "    bindatas[SampleID] = tc.utils.dataframe2anndata(sub_cartana, 'b', 'gene', count_key=None, compositional_keys=['cluster'], mean_keys=['x','y'])\n"
   ]
  },
  {
   "cell_type": "code",
   "execution_count": null,
   "metadata": {
    "tags": []
   },
   "outputs": [],
   "source": [
    "bindata = sc.concat(bindatas, label='SampleID', join='outer', index_unique='-')"
   ]
  },
  {
   "cell_type": "code",
   "execution_count": null,
   "metadata": {
    "tags": []
   },
   "outputs": [],
   "source": [
    "bindata.obsm['cluster'] = bindata.obsm['cluster'].fillna(0.0)"
   ]
  },
  {
   "cell_type": "code",
   "execution_count": null,
   "metadata": {
    "tags": []
   },
   "outputs": [],
   "source": [
    "bindata.obs['State'] = bindata.obs['SampleID'].map(sample_meta['State']).astype('category')\n",
    "bindata.obs['version'] = bindata.obs['SampleID'].map(sample_meta['version'])"
   ]
  },
  {
   "cell_type": "code",
   "execution_count": null,
   "metadata": {
    "tags": []
   },
   "outputs": [],
   "source": [
    "tc.utils.merge_annotation(bindata, 'cluster', mapping=reference.obs[['cluster_short','cluster',]].drop_duplicates().set_index('cluster_short')['cluster'], result_key='cluster_short')\n",
    "tc.utils.merge_annotation(bindata, 'cluster', mapping=reference.obs[['labels','cluster',]].drop_duplicates().set_index('labels')['cluster'], result_key='labels')"
   ]
  },
  {
   "cell_type": "code",
   "execution_count": null,
   "metadata": {
    "tags": []
   },
   "outputs": [],
   "source": [
    "bindata.obsm['labels'] = bindata.obsm['labels'][list(labels_colors.keys())]"
   ]
  },
  {
   "cell_type": "code",
   "execution_count": null,
   "metadata": {
    "tags": []
   },
   "outputs": [],
   "source": [
    "bindata = tc.pp.filter(bindata, min_counts_per_cell=3, return_view=False)"
   ]
  },
  {
   "cell_type": "code",
   "execution_count": null,
   "metadata": {
    "tags": []
   },
   "outputs": [],
   "source": [
    "fig,axs = tc.pl.subplots(2, axsize=(6,3))\n",
    "tc.pl.contribution(bindata.query('version==\"v1\"'), 'labels', 'State', normalization='sum', log=False, sample_key='SampleID', colors=labels_colors, ax=axs[0,0]); axs[0,0].set_title('Cartana V1');\n",
    "tc.pl.contribution(bindata.query('version==\"v2\"'), 'labels', 'State', normalization='sum', log=False, sample_key='SampleID', colors=labels_colors, ax=axs[0,1]); axs[0,1].set_title('Cartana V2');\n",
    "fig.savefig(f'{figures_folder}/mouse_cartana_skyline_labels_vs_state.pdf',bbox_inches='tight')"
   ]
  },
  {
   "cell_type": "markdown",
   "metadata": {},
   "source": [
    "## comparison with scRNA-seq and Slide-Seq"
   ]
  },
  {
   "cell_type": "code",
   "execution_count": null,
   "metadata": {
    "tags": []
   },
   "outputs": [],
   "source": [
    "# prepare spatial sample split\n",
    "tc.utils.split_spatial_samples(bindata, buffer_thickness=400, split_scheme=(2,2), sample_key='SampleID', result_key='SampleID_split', check_splits=False)\n",
    "tc.utils.split_spatial_samples(slideseq, buffer_thickness=400, split_scheme=(2,2), sample_key='SampleID', result_key='SampleID_split', check_splits=False)"
   ]
  },
  {
   "cell_type": "code",
   "execution_count": null,
   "metadata": {
    "tags": []
   },
   "outputs": [],
   "source": [
    "contribution_type = {\n",
    "    'reduction': 'sum',\n",
    "    'normalization': 'clr',\n",
    "    'assume_counts': True,\n",
    "}\n",
    "\n",
    "def make_means(contributions, state, rng=None):\n",
    "    means = {}\n",
    "    for ds,conts in contributions.items():\n",
    "        means[ds] = { }\n",
    "        conts = conts.loc[[state]]\n",
    "        if rng is not None:\n",
    "            conts = conts.sample(frac=1,replace=True,random_state=rng)\n",
    "        for col in conts.columns:\n",
    "            means[ds][col] = np.mean(conts[col].to_numpy())\n",
    "    return pd.DataFrame(means)\n",
    "\n",
    "def make_delta_means(contributions, rng=None):\n",
    "    delta_means = {}\n",
    "    for ds,conts in contributions.items():\n",
    "        delta_means[ds] = { }\n",
    "        conts_normal = conts.loc[['normal']]\n",
    "        conts_premalignant = conts.loc[['premalignant']]\n",
    "        if rng is not None:\n",
    "            conts_normal = conts_normal.sample(frac=1,replace=True,random_state=rng)\n",
    "            conts_premalignant = conts_premalignant.sample(frac=1,replace=True,random_state=rng)\n",
    "        for col in conts.columns:\n",
    "            delta_means[ds][col] = np.mean(np.subtract.outer(conts_premalignant[col].to_numpy(),conts_normal[col].to_numpy()).flatten())\n",
    "    return pd.DataFrame(delta_means)\n",
    "\n",
    "def plot_means_and_errors(mean_means, std_means, title, file_title, colors=None, markers=None):\n",
    "    if colors is None or markers is None:\n",
    "        top_items    = mean_means.rank().max(axis=1).sort_values()[-8:][::-1]\n",
    "        bottom_items = mean_means.rank().min(axis=1).sort_values()[:8]\n",
    "        colors_8 = np.array(tc.pl.get_default_colors(10))[[0,1,2,3,4,5,6,9]]\n",
    "        top_items_colors = {k:c for k,c in zip(top_items.index,colors_8)}\n",
    "        bottom_items_colors = {k:c for k,c in zip(bottom_items.index,colors_8)}\n",
    "        top_items_markers = {k:'^' for k in top_items.index}\n",
    "        bottom_items_markers = {k:'v' for k in bottom_items.index}\n",
    "        if colors is None:\n",
    "            colors = {**top_items_colors,**bottom_items_colors}\n",
    "        if markers is None:\n",
    "            markers = {**top_items_markers,**bottom_items_markers}\n",
    "    items_for_legend = [k for k in colors.keys()]\n",
    "    for k in markers.keys():\n",
    "        if k not in items_for_legend:\n",
    "            items_for_legend.append(k)\n",
    "    item_plot_order = [*[k for k in mean_means.index if k not in items_for_legend],*items_for_legend]\n",
    "    \n",
    "    fig,axs = tc.pl.subplots(n_ds-1,n_ds-1,axsize=(2,2),sharex='col',sharey='row')\n",
    "    fig.suptitle(title, y=1.1)\n",
    "    def get_marker(item):\n",
    "        return markers[item] if item in markers else ''\n",
    "    def get_color(item):\n",
    "        return colors[item] if item in colors else 'lightgray'\n",
    "    import matplotlib.lines as mlines\n",
    "    legend_handles = []\n",
    "    for i_ds,ds_i in enumerate(mean_means.columns):\n",
    "        for j_ds,ds_j in enumerate(mean_means.columns):\n",
    "            if i_ds == 0 or j_ds == n_ds - 1:\n",
    "                continue\n",
    "            ax = axs[i_ds-1,j_ds]\n",
    "            if i_ds <= j_ds:\n",
    "                ax.axis('off')\n",
    "                continue\n",
    "            if i_ds == n_ds - 1:\n",
    "                ax.set_xlabel(ds_j)\n",
    "            if j_ds == 0:\n",
    "                ax.set_ylabel(ds_i)\n",
    "            ax.axhline(color='gray', linewidth=1)\n",
    "            ax.axvline(color='gray', linewidth=1)\n",
    "            for item in item_plot_order:\n",
    "                x = mean_means.loc[item,ds_j]\n",
    "                y = mean_means.loc[item,ds_i]\n",
    "                x_err = std_means.loc[item,ds_j]\n",
    "                y_err = std_means.loc[item,ds_i]\n",
    "                color = get_color(item)\n",
    "                marker = get_marker(item)\n",
    "                #ax.plot(x, y, color=color, marker=marker)\n",
    "                ax.errorbar(x, y, xerr=x_err, yerr=y_err, capsize=3, elinewidth=1, markeredgewidth=1, color=color, marker=marker)\n",
    "            r,p = scipy.stats.pearsonr(mean_means.loc[:,ds_i],mean_means.loc[:,ds_j])\n",
    "            #ax.text(0.05, 0.95, f'r={r:.2f}\\np={p:.2g}', horizontalalignment='left', verticalalignment='top', transform=ax.transAxes)\n",
    "            ax.text(0.05, 0.95, f'r={r:.2f}', horizontalalignment='left', verticalalignment='top', transform=ax.transAxes)\n",
    "    for item in items_for_legend:\n",
    "        color = get_color(item)\n",
    "        marker = get_marker(item)\n",
    "        legend_handles.append(mlines.Line2D([], [], color=color, marker=marker, linestyle='None', markersize=5, label=item))\n",
    "    axs[0,0].legend(handles=legend_handles, bbox_to_anchor=(1, 1), loc='upper left', ncol=len(items_for_legend)//10+1)\n",
    "    fig.savefig(f'{figures_folder}/mouse_cartana_scrna_slideseq_correspondence_{file_title}.pdf',bbox_inches='tight')\n"
   ]
  },
  {
   "cell_type": "code",
   "execution_count": null,
   "metadata": {
    "tags": []
   },
   "outputs": [],
   "source": [
    "contributions = {}\n",
    "sub_data = reference[reference.obs['State'].isin(['normal','premalignant'])]\n",
    "contributions['scRNA-seq'] = tc.tl.get_contributions(sub_data,'labels','State',sample_key='SampleID',**contribution_type,reads=False,)\n",
    "sub_data = slideseq\n",
    "contributions['Slide-seq'] = tc.tl.get_contributions(sub_data,'labels','State',sample_key='SampleID_split',**contribution_type,reads=False,)\n",
    "sub_data = bindata[bindata.obs['version'] == 'v2']\n",
    "contributions['Cartana V2'] = tc.tl.get_contributions(sub_data,'labels','State',sample_key='SampleID_split',**contribution_type,reads=False,)\n",
    "sub_data = bindata[bindata.obs['version'] == 'v1']\n",
    "contributions['Cartana V1'] = tc.tl.get_contributions(sub_data,'labels','State',sample_key='SampleID_split',**contribution_type,reads=False,)\n"
   ]
  },
  {
   "cell_type": "code",
   "execution_count": null,
   "metadata": {
    "tags": []
   },
   "outputs": [],
   "source": [
    "contributions = {}\n",
    "sub_data = reference[reference.obs['State'].isin(['normal','premalignant'])]\n",
    "contributions['scRNA-seq'] = tc.tl.get_contributions(sub_data,'labels','State',sample_key='SampleID',**contribution_type,reads=False,)\n",
    "sub_data = slideseq\n",
    "contributions['Slide-seq'] = tc.tl.get_contributions(sub_data,'labels','State',sample_key='SampleID_split',**contribution_type,reads=False,)\n",
    "sub_data = bindata[bindata.obs['version'] == 'v2']\n",
    "contributions['Cartana V2'] = tc.tl.get_contributions(sub_data,'labels','State',sample_key='SampleID_split',**contribution_type,reads=False,)\n",
    "sub_data = bindata[bindata.obs['version'] == 'v1']\n",
    "contributions['Cartana V1'] = tc.tl.get_contributions(sub_data,'labels','State',sample_key='SampleID_split',**contribution_type,reads=False,)\n",
    "\n",
    "normal_means = make_means(contributions, 'normal', rng=None)\n",
    "rng = np.random.default_rng(42)\n",
    "boot_normal_means = [ make_means(contributions, 'normal', rng=rng) for i_boot in range(100) ]\n",
    "mean_boot_normal_means = pd.DataFrame(np.mean(boot_normal_means,axis=0), index=normal_means.index, columns=normal_means.columns)\n",
    "std_boot_normal_means = pd.DataFrame(np.std(boot_normal_means,axis=0), index=normal_means.index, columns=normal_means.columns)\n",
    "\n",
    "premalignant_means = make_means(contributions, 'premalignant', rng=None)\n",
    "rng = np.random.default_rng(42)\n",
    "boot_premalignant_means = [ make_means(contributions, 'premalignant', rng=rng) for i_boot in range(100) ]\n",
    "mean_boot_premalignant_means = pd.DataFrame(np.mean(boot_premalignant_means,axis=0), index=premalignant_means.index, columns=premalignant_means.columns)\n",
    "std_boot_premalignant_means = pd.DataFrame(np.std(boot_premalignant_means,axis=0), index=premalignant_means.index, columns=premalignant_means.columns)\n",
    "\n",
    "delta_means = make_delta_means(contributions, rng=None)\n",
    "rng = np.random.default_rng(42)\n",
    "boot_delta_means = [ make_delta_means(contributions, rng=rng) for i_boot in range(100) ]\n",
    "mean_boot_delta_means = pd.DataFrame(np.mean(boot_delta_means,axis=0), index=delta_means.index, columns=delta_means.columns)\n",
    "std_boot_delta_means = pd.DataFrame(np.std(boot_delta_means,axis=0), index=delta_means.index, columns=delta_means.columns)\n",
    "\n",
    "n_ds = len(mean_boot_normal_means.columns)\n",
    "\n",
    "labels_markers = { ct:'o' for ct in mean_boot_normal_means.index}\n",
    "plot_means_and_errors(mean_boot_normal_means, std_boot_normal_means, title='clr-transformed cell type fractions in normal samples\\n(with bootstrapped standard error of the mean)', file_title='normal_labels', colors=labels_colors, markers=labels_markers)\n",
    "plot_means_and_errors(mean_boot_premalignant_means, std_boot_premalignant_means, title='clr-transformed cell type fractions in premalignant samples\\n(with bootstrapped standard error of the mean)', file_title='premalignant_labels', colors=labels_colors, markers=labels_markers)\n",
    "plot_means_and_errors(mean_boot_delta_means, std_boot_delta_means, title='difference of clr-transformed cell type fractions in premalignant and normal samples\\n(with bootstrapped standard error of the mean)', file_title='delta_labels', colors=labels_colors, markers=labels_markers)"
   ]
  },
  {
   "cell_type": "code",
   "execution_count": null,
   "metadata": {
    "tags": []
   },
   "outputs": [],
   "source": [
    "overall_genesCommon = genesCommon.intersection(reference.var.index).intersection(slideseq.var.index)\n",
    "contributions = {}\n",
    "sub_data = reference[reference.obs['State'].isin(['normal','premalignant']),overall_genesCommon]\n",
    "contributions['scRNA-seq'] = tc.tl.get_contributions(sub_data,None,'State',value_location='X',sample_key='SampleID',**contribution_type,reads=False,)\n",
    "sub_data = slideseq[:,overall_genesCommon]\n",
    "contributions['Slide-seq'] = tc.tl.get_contributions(sub_data,None,'State',value_location='X',sample_key='SampleID_split',**contribution_type,reads=False,)\n",
    "sub_data = bindata[bindata.obs['version'] == 'v2',overall_genesCommon]\n",
    "contributions['Cartana V2'] = tc.tl.get_contributions(sub_data,None,'State',value_location='X',sample_key='SampleID_split',**contribution_type,reads=False,)\n",
    "sub_data = bindata[bindata.obs['version'] == 'v1',overall_genesCommon]\n",
    "contributions['Cartana V1'] = tc.tl.get_contributions(sub_data,None,'State',value_location='X',sample_key='SampleID_split',**contribution_type,reads=False,)\n",
    "\n",
    "normal_means = make_means(contributions, 'normal', rng=None)\n",
    "rng = np.random.default_rng(42)\n",
    "boot_normal_means = [ make_means(contributions, 'normal', rng=rng) for i_boot in range(100) ]\n",
    "mean_boot_normal_means = pd.DataFrame(np.mean(boot_normal_means,axis=0), index=normal_means.index, columns=normal_means.columns)\n",
    "std_boot_normal_means = pd.DataFrame(np.std(boot_normal_means,axis=0), index=normal_means.index, columns=normal_means.columns)\n",
    "\n",
    "premalignant_means = make_means(contributions, 'premalignant', rng=None)\n",
    "rng = np.random.default_rng(42)\n",
    "boot_premalignant_means = [ make_means(contributions, 'premalignant', rng=rng) for i_boot in range(100) ]\n",
    "mean_boot_premalignant_means = pd.DataFrame(np.mean(boot_premalignant_means,axis=0), index=premalignant_means.index, columns=premalignant_means.columns)\n",
    "std_boot_premalignant_means = pd.DataFrame(np.std(boot_premalignant_means,axis=0), index=premalignant_means.index, columns=premalignant_means.columns)\n",
    "\n",
    "delta_means = make_delta_means(contributions, rng=None)\n",
    "rng = np.random.default_rng(42)\n",
    "boot_delta_means = [ make_delta_means(contributions, rng=rng) for i_boot in range(100) ]\n",
    "mean_boot_delta_means = pd.DataFrame(np.mean(boot_delta_means,axis=0), index=delta_means.index, columns=delta_means.columns)\n",
    "std_boot_delta_means = pd.DataFrame(np.std(boot_delta_means,axis=0), index=delta_means.index, columns=delta_means.columns)\n",
    "\n",
    "n_ds = len(mean_boot_normal_means.columns)\n",
    "\n",
    "plot_means_and_errors(mean_boot_normal_means, std_boot_normal_means, title='clr-transformed gene fractions in normal samples\\n(with bootstrapped standard error of the mean)', file_title='normal_genes')\n",
    "plot_means_and_errors(mean_boot_premalignant_means, std_boot_premalignant_means, title='clr-transformed gene fractions in premalignant samples\\n(with bootstrapped standard error of the mean)', file_title='premalignant_genes')\n",
    "plot_means_and_errors(mean_boot_delta_means, std_boot_delta_means, title='difference of clr-transformed gene fractions in premalignant and normal samples\\n(with bootstrapped standard error of the mean)', file_title='delta_genes')"
   ]
  },
  {
   "cell_type": "markdown",
   "metadata": {},
   "source": [
    "# TLS composition in celltypes"
   ]
  },
  {
   "cell_type": "markdown",
   "metadata": {},
   "source": [
    "### for v2 premalignant only"
   ]
  },
  {
   "cell_type": "code",
   "execution_count": null,
   "metadata": {
    "tags": []
   },
   "outputs": [],
   "source": [
    "chosen_cats = ['version','State','anyTLS','SampleID','TLS']\n",
    "pv2_cartana = cartana.query('version==\"v2\" & State==\"premalignant\"').copy()\n",
    "pv2_cartana['SampleID'] = pv2_cartana['SampleID'].cat.remove_unused_categories()\n",
    "pv2_cartana['blobs'] = tc.utils.hash(pv2_cartana, chosen_cats, compress=False)"
   ]
  },
  {
   "cell_type": "code",
   "execution_count": null,
   "metadata": {
    "tags": []
   },
   "outputs": [],
   "source": [
    "blob_data = tc.utils.dataframe2anndata(pv2_cartana, obs_key='blobs', var_key='gene', compositional_keys=[*chosen_cats, 'labels','gene'])\n",
    "del pv2_cartana"
   ]
  },
  {
   "cell_type": "code",
   "execution_count": null,
   "metadata": {
    "tags": []
   },
   "outputs": [],
   "source": [
    "for c in chosen_cats:\n",
    "    tc.utils.get_maximum_annotation(blob_data,c, result_key=c)\n",
    "    del blob_data.obsm[c]"
   ]
  },
  {
   "cell_type": "code",
   "execution_count": null,
   "metadata": {
    "tags": []
   },
   "outputs": [],
   "source": [
    "blob_data.obs['TLSsize'] = tc.sum(blob_data.X, axis=1)"
   ]
  },
  {
   "cell_type": "code",
   "execution_count": null,
   "metadata": {
    "tags": []
   },
   "outputs": [],
   "source": [
    "blob_data.obs['cats'] = (blob_data.obs['State'].astype(str) + \" \" + blob_data.obs['version'].astype(str) + \" \" + blob_data.obs['anyTLS'].astype(str)).astype(\"category\")\n",
    "blob_data.obs['version_State_TLSsize'] = (blob_data.obs['version'].astype(str) + \" \" + blob_data.obs['State'].astype(str) + \" \" + blob_data.obs['TLSsize'].map('{:07d}'.format) + \" \" + blob_data.obs['TLS'].astype(str)).astype(\"category\")\n",
    "blob_data.obs['version_State_TLSsize_anyTLS'] = (blob_data.obs['version'].astype(str) + \" \" + blob_data.obs['State'].astype(str) + \" \" + blob_data.obs['TLSsize'].map('{:07d}'.format) + \" \" + blob_data.obs['anyTLS'].astype(str)).astype(\"category\")\n",
    "blob_data.obs['TLS_label'] = (blob_data.obs['anyTLS'].astype(str) + \" \" + blob_data.obs['TLSsize'].map('{:07d}'.format) + \" \" + blob_data.obs['SampleID'].astype(str)).astype(\"category\")"
   ]
  },
  {
   "cell_type": "code",
   "execution_count": null,
   "metadata": {
    "tags": []
   },
   "outputs": [],
   "source": [
    "top_genes = ((tc.tl.get_compositions(blob_data[blob_data.obs['anyTLS']=='TLS'], 'gene', 'version_State_TLSsize_anyTLS',) > 0.03).sum(axis=0) >= 1)\n",
    "print(f\"{len(top_genes[top_genes])} top_genes: {top_genes[top_genes].index.to_list()!r}\")\n",
    "tc.utils.merge_annotation(blob_data, 'gene', mapping={\"other\": top_genes[~top_genes].index}, result_key='top_gene');"
   ]
  },
  {
   "cell_type": "code",
   "execution_count": null,
   "metadata": {
    "tags": []
   },
   "outputs": [],
   "source": [
    "top_gene_colors={'other':'#DDD',**tc.pl.get_default_colors(top_genes[top_genes].index)}"
   ]
  },
  {
   "cell_type": "code",
   "execution_count": null,
   "metadata": {
    "tags": []
   },
   "outputs": [],
   "source": [
    "fig,axs = tc.pl.subplots(1,2, axsize=(7,3),y_padding=1.8)\n",
    "tc.pl.compositions(blob_data, 'labels', 'TLS_label', ax=axs[0,0], colors=labels_colors);\n",
    "tc.pl.compositions(blob_data, 'top_gene', 'TLS_label', ax=axs[1,0], colors=top_gene_colors);\n",
    "fig.savefig(f'{figures_folder}/mouse_cartana_labels_genes_per_TLS_v2_premalignant.pdf',bbox_inches='tight')"
   ]
  },
  {
   "cell_type": "markdown",
   "metadata": {},
   "source": [
    "## TLSs"
   ]
  },
  {
   "cell_type": "code",
   "execution_count": null,
   "metadata": {
    "tags": []
   },
   "outputs": [],
   "source": [
    "sub = cartana.query('State==\"premalignant\" & version==\"v2\"').copy()"
   ]
  },
  {
   "cell_type": "code",
   "execution_count": null,
   "metadata": {
    "tags": []
   },
   "outputs": [],
   "source": [
    "TLS_means = sub.groupby('TLS')[['x','y']].mean()\n",
    "TLS_means = TLS_means[TLS_means.index != 0]\n",
    "TLS_view_mins = TLS_means - [500,400]\n",
    "TLS_view_maxs = TLS_means + [500,400]\n",
    "# just show the first two:\n",
    "TLS_view_mins = TLS_view_mins.iloc[:2]\n",
    "TLS_view_maxs = TLS_view_maxs.iloc[:2]"
   ]
  },
  {
   "cell_type": "code",
   "execution_count": null,
   "metadata": {
    "tags": []
   },
   "outputs": [],
   "source": [
    "TLS_views = { TLSi: sub.query(f'x>{TLS_view_mins.loc[TLSi,\"x\"]} & x<{TLS_view_maxs.loc[TLSi,\"x\"]} & y>{TLS_view_mins.loc[TLSi,\"y\"]} & y<{TLS_view_maxs.loc[TLSi,\"y\"]}').copy() for TLSi in TLS_view_mins.index }"
   ]
  },
  {
   "cell_type": "code",
   "execution_count": null,
   "metadata": {
    "tags": []
   },
   "outputs": [],
   "source": [
    "matplotlib.rcParams['figure.dpi'] = 4 * default_dpi\n",
    "\n",
    "fig,axs = tc.pl.subplots(2,5,axsize=(5,4),)\n",
    "tc.pl.scatter(TLS_views,'labels',position_key=['x','y'],joint=True,point_size=1, colors=labels_colors, background_color='black', ax=axs[[0],:],);\n",
    "for k,sub in TLS_views.items():\n",
    "    tc.utils.merge_annotation(sub, 'gene', result_key='channel', mapping={'Cd14_Cd68': ['Cd14','Cd68',], 'Cd3d_Cd3e_Cd3g': ['Cd3d','Cd3e','Cd3g'], 'Cd79_Jchain_Igkc':['Cd79', 'Jchain', 'Igkc']})\n",
    "    sub['channel'] = sub['channel'].astype(pd.CategoricalDtype(['Cd14_Cd68','Cd3d_Cd3e_Cd3g','Cd79_Jchain_Igkc',]))\n",
    "likeISH_colors = {\n",
    " 'Cd14_Cd68': '#f0f',\n",
    " 'Cd3d_Cd3e_Cd3g': '#ff0',\n",
    " 'Cd79_Jchain_Igkc': '#066',\n",
    " }\n",
    "tc.pl.scatter(TLS_views,'channel',position_key=['x','y'],joint=None,point_size=2, colors=likeISH_colors, background_color='black', ax=axs[1:5,:],);\n",
    "\n",
    "from mpl_toolkits.axes_grid1.anchored_artists import AnchoredSizeBar\n",
    "import matplotlib.font_manager as fm\n",
    "fontprops = fm.FontProperties(size=10)\n",
    "for ax in axs.flatten():\n",
    "    scalebar = AnchoredSizeBar(ax.transData, 100, '100µm', 'lower right', pad=0.1, color='white', frameon=False, size_vertical=2, fontproperties=fontprops)\n",
    "    ax.add_artist(scalebar)\n",
    "    ax.set_yticks([])\n",
    "    ax.set_xticks([])\n",
    "\n",
    "matplotlib.rcParams['figure.dpi'] = 1 * default_dpi\n",
    "\n",
    "fig.savefig(f'{figures_folder}/mouse_cartana_v2_premalignant_TLS.pdf',bbox_inches='tight')"
   ]
  },
  {
   "cell_type": "markdown",
   "metadata": {},
   "source": [
    "## Endothelial cells"
   ]
  },
  {
   "cell_type": "code",
   "execution_count": null,
   "metadata": {
    "tags": []
   },
   "outputs": [],
   "source": [
    "sub = cartana[cartana['State'].isin([\"premalignant\"]) & cartana['version'].isin([\"v2\"])].copy()\n",
    "sub['SampleID'] = sub['SampleID'].cat.remove_unused_categories()"
   ]
  },
  {
   "cell_type": "code",
   "execution_count": null,
   "metadata": {
    "tags": []
   },
   "outputs": [],
   "source": [
    "%%time\n",
    "sub_adata = tc.utils.dataframe2anndata(sub,None,'gene',compositional_keys=['gene'])\n",
    "for c in ['gene']:\n",
    "    tc.utils.get_maximum_annotation(sub_adata,c, result_key=c)\n",
    "    del sub_adata.obsm[c]"
   ]
  },
  {
   "cell_type": "code",
   "execution_count": null,
   "metadata": {
    "tags": []
   },
   "outputs": [],
   "source": [
    "%time tc.tl.co_occurrence(sub_adata, 'gene', max_distance=20, delta_distance=1, result_key='cooc', sample_key='SampleID', )"
   ]
  },
  {
   "cell_type": "code",
   "execution_count": null,
   "metadata": {
    "tags": []
   },
   "outputs": [],
   "source": [
    "genes = ['Cdh5', 'Pecam1', 'Pdgfrb', ]\n",
    "other_genes = ['Epcam','Cd68','Jchain','Muc2','Cd3e']\n",
    "fig = tc.pl.co_occurrence(sub_adata, 'cooc', show_only_center=genes, show_only=[*genes,*other_genes],merged=False);\n",
    "fig.savefig(f'{figures_folder}/mouse_cartana_Pericytes_and_Endothelial_marker_cooc_v2_premalignant.pdf',bbox_inches='tight')"
   ]
  },
  {
   "cell_type": "code",
   "execution_count": null,
   "metadata": {},
   "outputs": [],
   "source": []
  },
  {
   "cell_type": "code",
   "execution_count": null,
   "metadata": {},
   "outputs": [],
   "source": []
  },
  {
   "cell_type": "markdown",
   "metadata": {},
   "source": [
    "# Cooccurrences"
   ]
  },
  {
   "cell_type": "code",
   "execution_count": null,
   "metadata": {},
   "outputs": [],
   "source": [
    "tc.utils.merge_annotation(bindata, annotation_key='labels', result_key='compartment', mapping={'epithelial': ['Epi'], 'immune': ['TNK', 'B', 'Mac', 'Mono', 'Gran', 'Mast'], 'stromal': ['Fibro', 'Endo']})"
   ]
  },
  {
   "cell_type": "code",
   "execution_count": null,
   "metadata": {},
   "outputs": [],
   "source": [
    "def annotate_epithelial_domain(adata, sample_key='sample', critical_neighbourhood_size=4.0):\n",
    "    tc.tl.annotation_coordinate(adata, 'compartment', sample_key, result_key='comp_dist',max_distance=100,delta_distance=10, critical_neighbourhood_size=critical_neighbourhood_size,sparse=True, verbose=0);\n",
    "    adata.obs['epi_domain'] = adata.obsm['comp_dist']['stromal'] > 75"
   ]
  },
  {
   "cell_type": "code",
   "execution_count": null,
   "metadata": {},
   "outputs": [],
   "source": [
    "annotate_epithelial_domain(bindata, 'SampleID', critical_neighbourhood_size=40)"
   ]
  },
  {
   "cell_type": "code",
   "execution_count": null,
   "metadata": {},
   "outputs": [],
   "source": [
    "bindata_premalignant = bindata[bindata.obs['epi_domain'] & (bindata.obs['version'] == 'v2') & (bindata.obs['State'] == 'premalignant')].copy()\n",
    "analysis_key=f'cluster-labels'\n",
    "tc.tl.co_occurrence(bindata_premalignant, 'cluster', 'labels', sample_key='SampleID', delta_distance=20, max_distance=500, sparse=True, result_key=analysis_key, verbose=0);"
   ]
  },
  {
   "cell_type": "code",
   "execution_count": null,
   "metadata": {},
   "outputs": [],
   "source": [
    "fig = tc.pl.co_occurrence(bindata_premalignant, analysis_key, score_key='log_occ', colors=cluster_colors, wspace=0.3, log_base=2, show_only=['Mono02 (Dysplasia-Associated)', 'Mono03 (Dysplasia-Associated, IFN)', 'Gran01', 'Gran02',], show_only_center=['Endo'], merged=False);\n",
    "fig.savefig(f'{figures_folder}/mouse_cartana_cooc_premalignant_myeloid_cluster_from_endothelial.pdf',bbox_inches='tight')"
   ]
  },
  {
   "cell_type": "code",
   "execution_count": null,
   "metadata": {},
   "outputs": [],
   "source": [
    "bindata_normal = bindata[bindata.obs['epi_domain'] & (bindata.obs['version'] == 'v2') & (bindata.obs['State'] == 'normal')].copy()\n",
    "analysis_key=f'cluster-cluster'\n",
    "tc.tl.co_occurrence(bindata_normal, 'cluster', sample_key='SampleID', delta_distance=20, max_distance=500, sparse=True, result_key=analysis_key, verbose=0);"
   ]
  },
  {
   "cell_type": "code",
   "execution_count": null,
   "metadata": {},
   "outputs": [],
   "source": [
    "main_Epi = ['Epi02 (Enterocytes)', 'Epi03 (Stem/Progenitors)', 'Epi04 (Secretory)']\n",
    "fig = tc.pl.co_occurrence(bindata_normal, analysis_key, score_key='log_occ', colors=cluster_colors, wspace=0.3, log_base=2, show_only=main_Epi, show_only_center=main_Epi, merged=False);\n",
    "fig.savefig(f'{figures_folder}/mouse_cartana_cooc_normal_epi_cluster_from_epi_cluster.pdf',bbox_inches='tight')"
   ]
  },
  {
   "cell_type": "code",
   "execution_count": null,
   "metadata": {},
   "outputs": [],
   "source": []
  },
  {
   "cell_type": "markdown",
   "metadata": {},
   "source": [
    "# Molecule level views"
   ]
  },
  {
   "cell_type": "code",
   "execution_count": null,
   "metadata": {},
   "outputs": [],
   "source": [
    "sub_pm = cartana[(cartana['version'] == 'v2') & (cartana['State'] == 'premalignant') & (cartana['x'] < 4000) & (cartana['y'] > 4500) & (cartana['y'] < 5500)].copy()\n",
    "sub_no = cartana[(cartana['version'] == 'v2') & (cartana['State'] == 'normal') & (cartana['x'] < 1000) & (cartana['y'] > 6000) & (cartana['y'] < 7000)].copy()\n",
    "views = {'premalignant': sub_pm, 'normal': sub_no}"
   ]
  },
  {
   "cell_type": "code",
   "execution_count": null,
   "metadata": {},
   "outputs": [],
   "source": [
    "matplotlib.rcParams['figure.dpi'] = 4 * default_dpi\n",
    "\n",
    "fig,axs = tc.pl.subplots(2,9,axsize=(16,4),width_ratios=(1,0.25), x_padding=0.3)\n",
    "for i_view, (k_view,view) in enumerate(views.items()):\n",
    "    tc.pl.scatter({k_view: view},'labels',position_key=['x','y'],joint=True,point_size=1, colors=labels_colors, background_color='black', ax=axs[:1,[i_view]], legend=(i_view==1));\n",
    "Mono2_genes=['Arg1','Hilpda','Nos2','Cd274','Vegfa','Trem1']\n",
    "Mono3_genes=['Osm','Ifi204','Thbs1',]\n",
    "Gran_genes=['S100a9','S100a8',]\n",
    "Sell_Ccr2_genes=['Sell','Ccr2']\n",
    "Ptprc_Cd14_genes=['Ptprc','Cd14']\n",
    "for k,sub in views.items():\n",
    "    tc.utils.merge_annotation(sub, 'gene', result_key='channel', mapping={'Arg1_Hilpda_Nos2_Cd274_Vegfa_Trem1': Mono2_genes, 'Osm_Ifi204_Thbs1': Mono3_genes, 'S100a9_S100a8': Gran_genes, 'Sell':['Sell'],'Ccr2':['Ccr2'], 'Ptprc':['Ptprc'],'Cd14':['Cd14']})\n",
    "    sub['channel'] = sub['channel'].astype(pd.CategoricalDtype(['Arg1_Hilpda_Nos2_Cd274_Vegfa_Trem1','Osm_Ifi204_Thbs1','S100a9_S100a8','Sell','Ccr2','Ptprc','Cd14']))\n",
    "likeISH_colors = {\n",
    " 'Arg1_Hilpda_Nos2_Cd274_Vegfa_Trem1': '#0ff',\n",
    " 'Osm_Ifi204_Thbs1': '#f00',\n",
    " 'S100a9_S100a8': '#ff0',\n",
    " 'Sell': '#0f0',\n",
    " 'Ccr2': '#f0f',\n",
    " 'Ptprc': '#66f',\n",
    " 'Cd14': '#aaa',\n",
    " }\n",
    "for i_view, (k_view,view) in enumerate(views.items()):\n",
    "    tc.pl.scatter({k_view: view},'channel',position_key=['x','y'],joint=None,point_size=2, colors=likeISH_colors, background_color='black', ax=axs[1:,[i_view]], legend=(i_view==1));\n",
    "\n",
    "from mpl_toolkits.axes_grid1.anchored_artists import AnchoredSizeBar\n",
    "import matplotlib.font_manager as fm\n",
    "fontprops = fm.FontProperties(size=10)\n",
    "for ax in axs.flatten():\n",
    "    scalebar = AnchoredSizeBar(ax.transData, 100, '100µm', 'lower left', pad=0.1, color='white', frameon=False, size_vertical=2, fontproperties=fontprops)\n",
    "    ax.add_artist(scalebar)\n",
    "    ax.set_yticks([])\n",
    "    ax.set_xticks([])\n",
    "\n",
    "matplotlib.rcParams['figure.dpi'] = 1 * default_dpi\n",
    "\n",
    "fig.savefig(f'{figures_folder}/mouse_cartana_v2_Mono2_Mono3_Gran_Sell_Ccr2_Ptprc_Cd14.pdf',bbox_inches='tight')"
   ]
  },
  {
   "cell_type": "code",
   "execution_count": null,
   "metadata": {},
   "outputs": [],
   "source": []
  }
 ],
 "metadata": {
  "kernelspec": {
   "display_name": "Python 3 (ipykernel)",
   "language": "python",
   "name": "python3"
  },
  "language_info": {
   "codemirror_mode": {
    "name": "ipython",
    "version": 3
   },
   "file_extension": ".py",
   "mimetype": "text/x-python",
   "name": "python",
   "nbconvert_exporter": "python",
   "pygments_lexer": "ipython3",
   "version": "3.11.5"
  }
 },
 "nbformat": 4,
 "nbformat_minor": 4
}
