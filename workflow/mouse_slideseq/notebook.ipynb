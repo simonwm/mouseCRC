{
 "cells": [
  {
   "cell_type": "code",
   "execution_count": null,
   "metadata": {},
   "outputs": [],
   "source": [
    "import pandas as pd\n",
    "import numpy as np\n",
    "import scipy\n",
    "import scanpy as sc\n",
    "import re\n",
    "import tacco as tc"
   ]
  },
  {
   "cell_type": "code",
   "execution_count": null,
   "metadata": {},
   "outputs": [],
   "source": [
    "import sys\n",
    "# Make helper functions available: The notebook expects to be executed either in the sub-workflow directory or in the notebooks directory\n",
    "sys.path.insert(1, '../'), sys.path.insert(1, '../workflow/'); # prefer to look just one directory up\n",
    "import helper\n",
    "sys.path.pop(1), sys.path.pop(1);\n",
    "\n",
    "get_path = helper.get_paths('mouse_slideseq')"
   ]
  },
  {
   "cell_type": "markdown",
   "metadata": {},
   "source": [
    "# settings"
   ]
  },
  {
   "cell_type": "markdown",
   "metadata": {},
   "source": [
    "## visualization settings"
   ]
  },
  {
   "cell_type": "code",
   "execution_count": null,
   "metadata": {},
   "outputs": [],
   "source": [
    "compartment_colors = helper.get_colors('compartment')\n",
    "labels_colors = helper.get_colors('labels')\n",
    "cluster_colors = helper.get_colors('cluster')\n",
    "program_colors = helper.get_colors('program')\n",
    "region_colors = helper.get_colors('region')\n",
    "mostly_gray_region_colors = helper.get_colors('mostly_gray_region')"
   ]
  },
  {
   "cell_type": "code",
   "execution_count": null,
   "metadata": {},
   "outputs": [],
   "source": [
    "figures_folder = get_path('plots')\n",
    "puck_point_size = 3"
   ]
  },
  {
   "cell_type": "code",
   "execution_count": null,
   "metadata": {},
   "outputs": [],
   "source": [
    "# utility function for plotting\n",
    "def state_plot_grid(padding=None):\n",
    "    # fixed mapping of sample to axis to sort by state\n",
    "    fig,axs = tc.pl.subplots(6,2,x_padding=padding,y_padding=padding)\n",
    "    state_axes = np.empty_like(axs, shape=(1,10))\n",
    "    state_axes[0,0] = axs[1,0]\n",
    "    state_axes[0,1] = axs[1,1]\n",
    "    state_axes[0,2] = axs[1,2]\n",
    "    state_axes[0,3] = axs[1,3]\n",
    "    state_axes[0,4] = axs[0,0]\n",
    "    state_axes[0,5] = axs[0,1]\n",
    "    state_axes[0,6] = axs[0,2]\n",
    "    state_axes[0,7] = axs[0,3]\n",
    "    state_axes[0,8] = axs[0,4]\n",
    "    state_axes[0,9] = axs[0,5]\n",
    "    axs[1,4].axis('off')\n",
    "    axs[1,5].axis('off')\n",
    "    return state_axes"
   ]
  },
  {
   "cell_type": "markdown",
   "metadata": {},
   "source": [
    "## analysis settings"
   ]
  },
  {
   "cell_type": "code",
   "execution_count": null,
   "metadata": {},
   "outputs": [],
   "source": [
    "enrichment_method = {'reduction':'sum','normalization':'clr','method':'welch','assume_counts':True,}\n",
    "p_key = f'p_{enrichment_method[\"method\"]}_fdr_bh'"
   ]
  },
  {
   "cell_type": "markdown",
   "metadata": {},
   "source": [
    "# Load mouse data"
   ]
  },
  {
   "cell_type": "code",
   "execution_count": null,
   "metadata": {},
   "outputs": [],
   "source": [
    "reference = sc.read(f'{get_path(\"resources\",\"mouse_sc\")}/scRNAseq.h5ad')\n",
    "tdata = sc.read(f'{get_path(\"resources\")}/slideseq.h5ad')"
   ]
  },
  {
   "cell_type": "code",
   "execution_count": null,
   "metadata": {
    "tags": []
   },
   "outputs": [],
   "source": [
    "tdata.obs['regionState'] = np.where(tdata.obs['State'] == 'normal', 'normal',np.where(tdata.obs['region'].str.contains('Malignant-like'), 'AV: malignant-like', 'AV: normal-like'))\n",
    "tdata.obsm['cluster_short'] = tdata.obsm['cluster'].rename(columns=helper.map_short)"
   ]
  },
  {
   "cell_type": "code",
   "execution_count": null,
   "metadata": {
    "tags": []
   },
   "outputs": [],
   "source": [
    "pucks_by_cluster = sc.read(f'{get_path(\"resources\")}/slideseq_by_cluster.h5ad')"
   ]
  },
  {
   "cell_type": "code",
   "execution_count": null,
   "metadata": {
    "tags": []
   },
   "outputs": [],
   "source": [
    "pucks_by_cluster.obs['cluster_short'] = pucks_by_cluster.obs['cluster'].map(helper.map_short)"
   ]
  },
  {
   "cell_type": "code",
   "execution_count": null,
   "metadata": {
    "tags": []
   },
   "outputs": [],
   "source": [
    "pucks_by_compartment = sc.read(f'{get_path(\"resources\")}/slideseq_by_compartment.h5ad')"
   ]
  },
  {
   "cell_type": "code",
   "execution_count": null,
   "metadata": {},
   "outputs": [],
   "source": [
    "region_malignancy_order = tc.tl.get_compositions(tdata, 'State', 'region', reads=True).sort_values('premalignant').index.to_numpy()"
   ]
  },
  {
   "cell_type": "code",
   "execution_count": null,
   "metadata": {},
   "outputs": [],
   "source": [
    "# use only data from sufficiently covered beads\n",
    "full_tdata = tdata.copy()\n",
    "full_tdata.obs['all_beads'] = 'all_beads'\n",
    "tdata = tdata[tdata.X.sum(axis=1)>=100].copy()\n",
    "pucks_by_cluster = pucks_by_cluster[pucks_by_cluster.obs['index'].isin(tdata.obs.index)].copy()\n",
    "pucks_by_compartment = pucks_by_compartment[pucks_by_compartment.obs['index'].isin(tdata.obs.index)].copy()"
   ]
  },
  {
   "cell_type": "code",
   "execution_count": null,
   "metadata": {},
   "outputs": [],
   "source": [
    "def get_n_maximum_annotations(adata, obsm_key, max_annotation=1):\n",
    "    cell_type = adata.obsm[obsm_key].copy()\n",
    "    _cell_type = cell_type.to_numpy()\n",
    "    nth_largest_values_per_observation = np.partition(_cell_type, -max_annotation, axis=-1)[:,-max_annotation]\n",
    "    _cell_type[_cell_type<nth_largest_values_per_observation[:,None]] = 0\n",
    "    _cell_type /= _cell_type.sum(axis=1)[:,None]\n",
    "    cell_type = pd.DataFrame(_cell_type, index=cell_type.index, columns=cell_type.columns)\n",
    "    return cell_type"
   ]
  },
  {
   "cell_type": "code",
   "execution_count": null,
   "metadata": {},
   "outputs": [],
   "source": [
    "tdata.obsm['cluster3'] = get_n_maximum_annotations(tdata, 'cluster', 3)\n",
    "tc.utils.merge_annotation(tdata, 'cluster3', {l:cs.to_list() for l,cs in reference.obs[['cluster','labels']].drop_duplicates().groupby('labels')['cluster']}, result_key='labels3');"
   ]
  },
  {
   "cell_type": "code",
   "execution_count": null,
   "metadata": {},
   "outputs": [],
   "source": [
    "# prepare spatial sample split\n",
    "tc.utils.split_spatial_samples(tdata, buffer_thickness=400, split_scheme=(2,2), sample_key='SampleID', result_key='SampleID_split', check_splits=False)\n",
    "\n",
    "for group_key in ['region','State','regionState']:\n",
    "    # remove all split+group with less than 100 observations\n",
    "    tdata.obs['SampleID_split+group'] = tdata.obs['SampleID_split'].astype(str) + tdata.obs[group_key].astype(str)\n",
    "    lowly_covered = tdata.obs['SampleID_split+group'].value_counts()<100\n",
    "    lowly_covered = lowly_covered[lowly_covered].index\n",
    "    split_covered_group_key = f'split_covered_{group_key}'\n",
    "    tdata.obs[split_covered_group_key] = tdata.obs[group_key]\n",
    "    tdata.obs.loc[tdata.obs['SampleID_split+group'].isin(lowly_covered),split_covered_group_key] = None\n",
    "    tdata.obs[split_covered_group_key] = tdata.obs[split_covered_group_key].astype('category')\n",
    "\n",
    "del tdata.obs['SampleID_split+group']"
   ]
  },
  {
   "cell_type": "markdown",
   "metadata": {},
   "source": [
    "# Spatial overview"
   ]
  },
  {
   "cell_type": "code",
   "execution_count": null,
   "metadata": {},
   "outputs": [],
   "source": [
    "axs = state_plot_grid(padding=1.0,)\n",
    "full_tdatas = { sample: full_tdata[df.index] for sample, df in full_tdata.obs.groupby('SampleID') }\n",
    "fig = tc.pl.scatter(full_tdatas,'all_beads',colors={'all_beads':'#ddd'},joint=True,point_size=puck_point_size, ax=axs);\n",
    "tdatas = { sample: tdata[df.index] for sample, df in tdata[~tdata.obsm['Epithelial_programs'].isna().any(axis=1)].obs.groupby('SampleID') }\n",
    "fig = tc.pl.scatter(tdatas,'region',colors=region_colors,joint=True,point_size=puck_point_size, ax=axs);\n",
    "fig.savefig(f'{figures_folder}/mouse_slideseq_scatter_region.pdf',bbox_inches='tight')"
   ]
  },
  {
   "cell_type": "code",
   "execution_count": null,
   "metadata": {},
   "outputs": [],
   "source": [
    "axs = state_plot_grid(padding=1.0,)\n",
    "full_tdatas = { sample: full_tdata[df.index] for sample, df in full_tdata.obs.groupby('SampleID') }\n",
    "fig = tc.pl.scatter(full_tdatas,'all_beads',colors={'all_beads':'#ddd'},joint=True,point_size=puck_point_size, ax=axs);\n",
    "tdatas = { sample: tdata[df.index] for sample, df in tdata.obs.groupby('SampleID') }\n",
    "fig = tc.pl.scatter(tdatas,'labels',joint=True,point_size=puck_point_size, ax=axs, colors=labels_colors);\n",
    "fig.savefig(f'{figures_folder}/mouse_slideseq_scatter_labels.pdf',bbox_inches='tight')"
   ]
  },
  {
   "cell_type": "code",
   "execution_count": null,
   "metadata": {},
   "outputs": [],
   "source": [
    "state_tdatas = { f'{state} (spatial)': tdata[df.index].copy() for state, df in tdata.obs.groupby('State') if len(df) > 0 }\n",
    "state_references = { f'{state} (reference)': reference[df.index].copy() for state, df in reference.obs.groupby('State') if len(df) > 0 and state in ['normal','premalignant'] }\n",
    "# reorder to have different data of the same state next to each other\n",
    "state_all = {}\n",
    "for state in ['normal','premalignant']:\n",
    "    state_all[f'{state} (reference)'] = state_references[f'{state} (reference)']\n",
    "    state_all[f'{state} (spatial)'] = state_tdatas[f'{state} (spatial)']\n",
    "\n",
    "fig = tc.pl.frequency_bar(state_all,'cluster',colors=cluster_colors,horizontal=False, method_labels={'cluster':''},axsize=(3,8),reads=True);\n",
    "\n",
    "fig.savefig(f'{figures_folder}/mouse_slideseq_composition_cluster_vs_state.pdf',bbox_inches='tight')"
   ]
  },
  {
   "cell_type": "code",
   "execution_count": null,
   "metadata": {},
   "outputs": [],
   "source": [
    "state_tdatas = { f'{state} (spatial)': tdata[df.index].copy() for state, df in tdata.obs.groupby('State') if len(df) > 0 }\n",
    "state_references = { f'{state} (reference)': reference[df.index].copy() for state, df in reference.obs.groupby('State') if len(df) > 0 and state in ['normal','premalignant'] }\n",
    "# reorder to have different data of the same state next to each other\n",
    "state_all = {}\n",
    "for state in ['normal','premalignant']:\n",
    "    state_all[f'{state} (reference)'] = state_references[f'{state} (reference)']\n",
    "    state_all[f'{state} (spatial)'] = state_tdatas[f'{state} (spatial)']\n",
    "fig = tc.pl.frequency_bar(state_all,'Epithelial_programs',colors=program_colors,horizontal=False, method_labels={'Epithelial_programs':''},axsize=(3,5),reads=True);\n",
    "\n",
    "fig.savefig(f'{figures_folder}/mouse_slideseq_composition_program_vs_state.pdf',bbox_inches='tight')"
   ]
  },
  {
   "cell_type": "code",
   "execution_count": null,
   "metadata": {},
   "outputs": [],
   "source": [
    "state_reference = reference[reference.obs['State'].isin(['normal','premalignant'])]\n",
    "\n",
    "tdata_enrichments = tc.tl.enrichments(tdata,'cluster3','split_covered_region',sample_key='SampleID_split',**enrichment_method,reads=True,)\n",
    "tdata_enrichments.rename(columns={'split_covered_region':'region','cluster3':'cluster'}, inplace=True)\n",
    "reference_enrichments = tc.tl.enrichments(state_reference,'cluster','State',sample_key='SampleID',**enrichment_method,reads=True,)\n",
    "tdata_enrichments['State'] = tdata_enrichments['region']\n",
    "reference_enrichments['State'] = reference_enrichments['State'].map(lambda x: f'{x} (reference)')\n",
    "enrichments = pd.concat([reference_enrichments,tdata_enrichments])\n",
    "enrichments['State'] = enrichments['State'].astype(pd.CategoricalDtype(categories=enrichments['State'].unique(), ordered=True))\n",
    "enrichments['State'] = enrichments['State'].astype(pd.CategoricalDtype(categories=['normal (reference)',*region_malignancy_order,'premalignant (reference)'], ordered=True))\n",
    "\n",
    "for annotate_pvalues in [False]:\n",
    "    fig = tc.pl.significances(enrichments, p_key, 'cluster', 'State', annotate_pvalues=annotate_pvalues);\n",
    "\n",
    "    fig.savefig(f'{figures_folder}/mouse_slideseq_enrichment_cluster3_vs_region{\"\" if annotate_pvalues else \"_plain\"}.pdf',bbox_inches='tight')"
   ]
  },
  {
   "cell_type": "code",
   "execution_count": null,
   "metadata": {},
   "outputs": [],
   "source": [
    "state_reference = reference[reference.obs['State'].isin(['normal','premalignant'])]\n",
    "\n",
    "tdata_enrichments = tc.tl.enrichments(tdata,'Epithelial_programs','split_covered_region',sample_key='SampleID_split',**enrichment_method,reads=True,)\n",
    "tdata_enrichments.rename(columns={'split_covered_region':'region'}, inplace=True)\n",
    "reference_enrichments = tc.tl.enrichments(state_reference,'Epithelial_programs','State',sample_key='SampleID',**enrichment_method,reads=True,)\n",
    "tdata_enrichments['State'] = tdata_enrichments['region']\n",
    "reference_enrichments['State'] = reference_enrichments['State'].map(lambda x: f'{x} (reference)')\n",
    "enrichments = pd.concat([reference_enrichments,tdata_enrichments])\n",
    "enrichments['State'] = enrichments['State'].astype(pd.CategoricalDtype(categories=enrichments['State'].unique(), ordered=True))\n",
    "enrichments['State'] = enrichments['State'].astype(pd.CategoricalDtype(categories=['normal (reference)',*region_malignancy_order,'premalignant (reference)'], ordered=True))\n",
    "\n",
    "sorting_enr = enrichments.query(f'State==\"normal (reference)\" & enrichment==\"enriched\"').set_index('Epithelial_programs')[p_key]\n",
    "sorting_dep = enrichments.query(f'State==\"normal (reference)\" & enrichment!=\"enriched\"').set_index('Epithelial_programs')[p_key]\n",
    "program_order = pd.DataFrame({'enr':sorting_enr,'dep':sorting_dep}).sort_values(['enr','dep'],ascending=[True,False]).index.to_numpy()\n",
    "enrichments['Epithelial_programs'] = enrichments['Epithelial_programs'].astype(pd.CategoricalDtype(categories=program_order, ordered=True))\n",
    "\n",
    "for annotate_pvalues in [False]:\n",
    "    fig = tc.pl.significances(enrichments, p_key, 'Epithelial_programs', 'State', annotate_pvalues=annotate_pvalues);\n",
    "\n",
    "    fig.savefig(f'{figures_folder}/mouse_slideseq_enrichment_program_vs_region{\"\" if annotate_pvalues else \"_plain\"}.pdf',bbox_inches='tight')"
   ]
  },
  {
   "cell_type": "code",
   "execution_count": null,
   "metadata": {},
   "outputs": [],
   "source": [
    "enrichments = tc.tl.enrichments(tdata,'region','split_covered_State',sample_key='SampleID_split',**enrichment_method,reference_group='normal',reads=True,)\n",
    "enrichments.rename(columns={'split_covered_State':'State'}, inplace=True)\n",
    "enrichments['region'] = enrichments['region'].astype(pd.CategoricalDtype(categories=region_malignancy_order, ordered=True))\n",
    "\n",
    "for annotate_pvalues in [False]:\n",
    "    fig = tc.pl.significances(enrichments, p_key, 'region', 'State', annotate_pvalues=annotate_pvalues);\n",
    "\n",
    "    fig.savefig(f'{figures_folder}/mouse_slideseq_enrichment_region_vs_state{\"\" if annotate_pvalues else \"_plain\"}.pdf',bbox_inches='tight')"
   ]
  },
  {
   "cell_type": "code",
   "execution_count": null,
   "metadata": {},
   "outputs": [],
   "source": [
    "tdata.obs['$log_{10}(UMI)$'] = np.log10(tc.sum(tdata.X,axis=1))\n",
    "#tdatas = { f\"{sample} ({tdata[df.index].obs['State'].iloc[0]})\": tdata[df.index] for sample, df in tdata.obs.groupby('SampleID') }\n",
    "tdatas = { sample: tdata[df.index] for sample, df in tdata.obs.groupby('SampleID') }\n",
    "axs = state_plot_grid(padding=1.5)\n",
    "fig = tc.pl.scatter(tdatas,'$log_{10}(UMI)$',cmap='viridis',joint=True,point_size=puck_point_size, ax=axs, cmap_vmin_vmax=[tdata.obs['$log_{10}(UMI)$'].min(),tdata.obs['$log_{10}(UMI)$'].max()]);\n",
    "fig.savefig(f'{figures_folder}/mouse_slideseq_scatter_umis.pdf', bbox_inches='tight')"
   ]
  },
  {
   "cell_type": "code",
   "execution_count": null,
   "metadata": {},
   "outputs": [],
   "source": [
    "tdata.obs['$log_{10}(nGenes)$'] = np.log10(tc.sum(tdata.X!=0,axis=1))\n",
    "#tdatas = { f\"{sample} ({tdata[df.index].obs['State'].iloc[0]})\": tdata[df.index] for sample, df in tdata.obs.groupby('SampleID') }\n",
    "tdatas = { sample: tdata[df.index] for sample, df in tdata.obs.groupby('SampleID') }\n",
    "axs = state_plot_grid(padding=1.5)\n",
    "fig = tc.pl.scatter(tdatas,'$log_{10}(nGenes)$',cmap='viridis',joint=True,point_size=puck_point_size, ax=axs, cmap_vmin_vmax=[tdata.obs['$log_{10}(nGenes)$'].min(),tdata.obs['$log_{10}(nGenes)$'].max()]);\n",
    "fig.savefig(f'{figures_folder}/mouse_slideseq_scatter_ngenes.pdf', bbox_inches='tight')"
   ]
  },
  {
   "cell_type": "code",
   "execution_count": null,
   "metadata": {},
   "outputs": [],
   "source": [
    "marker_genes = ['Epcam','Reg4','Ptprc','Cd14','Cd3e','Pecam1','Thy1','Grem1']\n",
    "tdata.obsm['marker genes'] = pd.DataFrame((tdata[:,marker_genes].X.toarray()),columns=marker_genes,index=tdata.obs.index)\n",
    "tdatas = { sample: tdata[df.index] for sample, df in tdata.obs.groupby('SampleID') if sample in ['cont8_P','AV10a_P'] }\n",
    "fig = tc.pl.scatter(tdatas,'marker genes',joint=None,point_size=puck_point_size,padding=1.0);\n",
    "fig.savefig(f'{figures_folder}/mouse_slideseq_scatter_marker.pdf', bbox_inches='tight')"
   ]
  },
  {
   "cell_type": "code",
   "execution_count": null,
   "metadata": {},
   "outputs": [],
   "source": [
    "state_tdata = tdata[tdata.obs['State'].isin(['normal','premalignant'])]\n",
    "state_reference = reference[reference.obs['State'].isin(['normal','premalignant'])]\n",
    "\n",
    "tdata_enrichments = tc.tl.enrichments(state_tdata,'cluster3','split_covered_State',sample_key='SampleID_split',**enrichment_method,reference_group='normal',reads=True,)\n",
    "tdata_enrichments.rename(columns={'split_covered_State':'State','cluster3':'cluster'}, inplace=True)\n",
    "reference_enrichments = tc.tl.enrichments(state_reference,'cluster','State',sample_key='SampleID',**enrichment_method,reference_group='normal',reads=True)\n",
    "tdata_enrichments['State'] = tdata_enrichments['State'].map(lambda x: f'{x} (spatial)')\n",
    "reference_enrichments['State'] = reference_enrichments['State'].map(lambda x: f'{x} (reference)')\n",
    "enrichments = pd.concat([reference_enrichments,tdata_enrichments])\n",
    "state_order = []\n",
    "for state in ['normal VS rest','premalignant VS normal']:\n",
    "    state_order.extend([f'{state} (reference)',f'{state} (spatial)'])\n",
    "enrichments['State'] = enrichments['State'].astype(pd.CategoricalDtype(categories=state_order, ordered=True))\n",
    "enrichments['cluster'] = enrichments['cluster'].astype(pd.CategoricalDtype(categories=cluster_colors.keys(), ordered=True))\n",
    "\n",
    "fig = tc.pl.significances(enrichments, p_key, 'cluster', 'State');\n",
    "\n",
    "fig.savefig(f'{figures_folder}/mouse_slideseq_enrichment_cluster3_vs_state.pdf',bbox_inches='tight')"
   ]
  },
  {
   "cell_type": "code",
   "execution_count": null,
   "metadata": {},
   "outputs": [],
   "source": [
    "state_tdata = tdata[tdata.obs['State'].isin(['normal','premalignant'])]\n",
    "state_reference = reference[reference.obs['State'].isin(['normal','premalignant'])]\n",
    "\n",
    "tdata_enrichments = tc.tl.enrichments(state_tdata,'Epithelial_programs','split_covered_State',sample_key='SampleID_split',**enrichment_method,reference_group='normal',reads=True,)\n",
    "tdata_enrichments.rename(columns={'split_covered_State':'State'}, inplace=True)\n",
    "reference_enrichments = tc.tl.enrichments(state_reference,'Epithelial_programs','State',sample_key='SampleID',**enrichment_method,reference_group='normal',reads=True,)\n",
    "tdata_enrichments['State'] = tdata_enrichments['State'].map(lambda x: f'{x} (spatial)')\n",
    "reference_enrichments['State'] = reference_enrichments['State'].map(lambda x: f'{x} (reference)')\n",
    "enrichments = pd.concat([reference_enrichments,tdata_enrichments])\n",
    "state_order = []\n",
    "for state in ['normal VS rest','premalignant VS normal']:\n",
    "    state_order.extend([f'{state} (reference)',f'{state} (spatial)'])\n",
    "enrichments['State'] = enrichments['State'].astype(pd.CategoricalDtype(categories=state_order, ordered=True))\n",
    "\n",
    "sorting_enr = enrichments.query(f'State==\"normal VS rest (reference)\" & enrichment==\"enriched\"').set_index('Epithelial_programs')[p_key]\n",
    "sorting_dep = enrichments.query(f'State==\"normal VS rest (reference)\" & enrichment!=\"enriched\"').set_index('Epithelial_programs')[p_key]\n",
    "program_order = pd.DataFrame({'enr':sorting_enr,'dep':sorting_dep}).sort_values(['enr','dep'],ascending=[True,False]).index.to_numpy()\n",
    "enrichments['Epithelial_programs'] = enrichments['Epithelial_programs'].astype(pd.CategoricalDtype(categories=program_order, ordered=True))\n",
    "\n",
    "fig = tc.pl.significances(enrichments, p_key, 'Epithelial_programs', 'State');\n",
    "\n",
    "fig.savefig(f'{figures_folder}/mouse_slideseq_enrichment_program_vs_state.pdf',bbox_inches='tight')"
   ]
  },
  {
   "cell_type": "code",
   "execution_count": null,
   "metadata": {},
   "outputs": [],
   "source": [
    "tdatas = { sample: tdata[df.index] for sample, df in tdata.obs.groupby('SampleID')}\n",
    "\n",
    "fig = tc.pl.frequency_bar(tdatas,'region',colors=region_colors,horizontal=False, method_labels={'region':''},reads=True);\n",
    "\n",
    "fig.savefig(f'{figures_folder}/mouse_slideseq_composition_region_vs_sample.pdf',bbox_inches='tight')"
   ]
  },
  {
   "cell_type": "code",
   "execution_count": null,
   "metadata": {},
   "outputs": [],
   "source": [
    "tc.tl.annotation_coordinate(tdata,annotation_key='region',result_key='region_distance',sample_key='SampleID',max_distance=1000,delta_distance=10,sparse=False,);"
   ]
  },
  {
   "cell_type": "code",
   "execution_count": null,
   "metadata": {},
   "outputs": [],
   "source": [
    "fig = tc.pl.annotation_coordinate(tdata,annotation_key='region',coordinate_key=('region_distance','Region 2 (Muscularis)'),group_key='State',colors=region_colors);\n",
    "fig.savefig(f'{figures_folder}/mouse_slideseq_coord_region_vs_state.pdf',bbox_inches='tight')"
   ]
  },
  {
   "cell_type": "code",
   "execution_count": null,
   "metadata": {},
   "outputs": [],
   "source": [
    "malignant_regions = [r for r in tdata.obs['region'].cat.categories if 'Malignant-like' in r]\n",
    "for r in malignant_regions:\n",
    "    fig = tc.pl.annotation_coordinate(tdata.query(f'State == \"premalignant\"'),annotation_key='region',coordinate_key=('region_distance',r),group_key='State',colors=region_colors);\n",
    "    fig.savefig(f'{figures_folder}/mouse_slideseq_coord_region_vs_{helper.map_short(r,1,join=\"\")}.pdf',bbox_inches='tight')"
   ]
  },
  {
   "cell_type": "code",
   "execution_count": null,
   "metadata": {},
   "outputs": [],
   "source": [
    "tdatas = { sample: tdata[df.index].copy() for sample, df in tdata[~tdata.obsm['Epithelial_programs'].isna().any(axis=1)].obs.groupby('SampleID') if sample == 'cont8_P'}\n",
    "tdatas['cont8_P'].obs['-y'] = -tdatas['cont8_P'].obs['y']\n",
    "fig = tc.pl.scatter(tdatas,'region',position_key=['-y','x'],colors=region_colors,joint=True,point_size=puck_point_size,noticks=True,show_only=['Region 3 (Normal)','Region 10 (Normal)','Region 12 (Normal)','Region 5 (Stem cell niche - normal)','Region 2 (Muscularis)']);\n",
    "fig.savefig(f'{figures_folder}/mouse_slideseq_normal_tissue_regions.pdf',bbox_inches='tight')"
   ]
  },
  {
   "cell_type": "code",
   "execution_count": null,
   "metadata": {},
   "outputs": [],
   "source": [
    "# sort beads by number of reads\n",
    "tdata_sorted = tdata[pd.Series(tc.sum(tdata.X,axis=1),index=tdata.obs.index).sort_values(ascending=False).index].copy()\n",
    "# plot heatmap for genes split as normal region DEGs with vbeads labeled according to region\n",
    "fig = tc.pl.annotated_heatmap(\n",
    "    adata=tdata_sorted[tdata_sorted.obs['region'].str.contains('ormal')],\n",
    "    obs_key='region',\n",
    "    var_key='region',\n",
    "    obs_colors=region_colors,\n",
    "    var_colors=region_colors,\n",
    "    n_genes=20,\n",
    "    axsize=(4,4),\n",
    ")\n",
    "fig.savefig(f'{figures_folder}/mouse_slideseq_normal_tissue_regions_marker.pdf',bbox_inches='tight')"
   ]
  },
  {
   "cell_type": "code",
   "execution_count": null,
   "metadata": {},
   "outputs": [],
   "source": [
    "tdatas = { sample: tdata[df.index] for sample, df in tdata.obs.groupby('SampleID') if sample in ['AV10a_P','AV11a_P'] }\n",
    "fig = tc.pl.scatter(tdatas,'region',joint=True,point_size=puck_point_size, colors=mostly_gray_region_colors);\n",
    "fig.savefig(f'{figures_folder}/mouse_slideseq_malignant_tissue_regions.pdf', bbox_inches='tight')"
   ]
  },
  {
   "cell_type": "code",
   "execution_count": null,
   "metadata": {},
   "outputs": [],
   "source": [
    "# sort beads by number of reads\n",
    "tdata_sorted = tdata[pd.Series(tc.sum(tdata.X,axis=1),index=tdata.obs.index).sort_values(ascending=False).index].copy()\n",
    "# plot heatmap for genes split as malignant region DEGs with vbeads labeled according to region\n",
    "fig = tc.pl.annotated_heatmap(\n",
    "    adata=tdata_sorted[tdata_sorted.obs['region'].str.contains('Malignant-like')],\n",
    "    obs_key='region',\n",
    "    var_key='region',\n",
    "    obs_colors=region_colors,\n",
    "    var_colors=region_colors,\n",
    "    n_genes=20,\n",
    "    axsize=(4,4),\n",
    ")\n",
    "fig.savefig(f'{figures_folder}/mouse_slideseq_malignant_tissue_regions_marker_all.pdf',bbox_inches='tight')"
   ]
  },
  {
   "cell_type": "code",
   "execution_count": null,
   "metadata": {},
   "outputs": [],
   "source": [
    "# sort vbeads by number of reads\n",
    "pucks_by_compartment_sorted = pucks_by_compartment[pd.Series(tc.sum(pucks_by_compartment.X,axis=1),index=pucks_by_compartment.obs.index).sort_values(ascending=False).index].copy()\n",
    "#for compartment\n",
    "# plot heatmap for genes split as malignant region DEGs with vbeads labeled according to region\n",
    "fig = tc.pl.annotated_heatmap(\n",
    "    adata=pucks_by_compartment_sorted[pucks_by_compartment_sorted.obs['compartment'].isin(['epithelial']) & pucks_by_compartment_sorted.obs['region'].str.contains('Malignant-like')],\n",
    "    obs_key='region',\n",
    "    var_key='region',\n",
    "    obs_colors=region_colors,\n",
    "    var_colors=region_colors,\n",
    "    n_genes=50,\n",
    "    axsize=(4,4),\n",
    ")\n",
    "fig.savefig(f'{figures_folder}/mouse_slideseq_malignant_tissue_regions_marker_epithelial.pdf',bbox_inches='tight')\n",
    "# plot heatmap for genes split as malignant region DEGs with vbeads labeled according to region\n",
    "fig = tc.pl.annotated_heatmap(\n",
    "    adata=pucks_by_compartment_sorted[pucks_by_compartment_sorted.obs['compartment'].isin(['immune']) & pucks_by_compartment_sorted.obs['region'].str.contains('Malignant-like')],\n",
    "    obs_key='region',\n",
    "    var_key='region',\n",
    "    obs_colors=region_colors,\n",
    "    var_colors=region_colors,\n",
    "    n_genes=50,\n",
    "    axsize=(4,4),\n",
    ")\n",
    "fig.savefig(f'{figures_folder}/mouse_slideseq_malignant_tissue_regions_marker_immune.pdf',bbox_inches='tight')\n",
    "# plot heatmap for genes split as malignant region DEGs with vbeads labeled according to region\n",
    "fig = tc.pl.annotated_heatmap(\n",
    "    adata=pucks_by_compartment_sorted[pucks_by_compartment_sorted.obs['compartment'].isin(['stromal']) & pucks_by_compartment_sorted.obs['region'].str.contains('Malignant-like')],\n",
    "    obs_key='region',\n",
    "    var_key='region',\n",
    "    obs_colors=region_colors,\n",
    "    var_colors=region_colors,\n",
    "    n_genes=50,\n",
    "    axsize=(4,4),\n",
    ")\n",
    "fig.savefig(f'{figures_folder}/mouse_slideseq_malignant_tissue_regions_marker_stromal.pdf',bbox_inches='tight')"
   ]
  },
  {
   "cell_type": "code",
   "execution_count": null,
   "metadata": {},
   "outputs": [],
   "source": [
    "state_reference = reference[reference.obs['State'].isin(['normal','premalignant'])]\n",
    "\n",
    "tdata_enrichments = tc.tl.enrichments(tdata,'Epithelial_programs','split_covered_regionState',sample_key='SampleID_split',**enrichment_method,reads=True,)\n",
    "tdata_enrichments.rename(columns={'split_covered_regionState':'regionState'}, inplace=True)\n",
    "reference_enrichments = tc.tl.enrichments(state_reference,'Epithelial_programs','State',sample_key='SampleID',**enrichment_method,reads=True,)\n",
    "tdata_enrichments['State'] = tdata_enrichments['regionState']\n",
    "reference_enrichments['State'] = reference_enrichments['State'].map(lambda x: f'{x} (reference)')\n",
    "enrichments = pd.concat([reference_enrichments,tdata_enrichments])\n",
    "enrichments['State'] = enrichments['State'].astype(pd.CategoricalDtype(categories=['normal (reference)', 'normal', 'AV: normal-like', 'premalignant (reference)', 'AV: malignant-like'], ordered=True))\n",
    "\n",
    "sorting_enr = enrichments.query(f'State==\"normal (reference)\" & enrichment==\"enriched\"').set_index('Epithelial_programs')[p_key]\n",
    "sorting_dep = enrichments.query(f'State==\"normal (reference)\" & enrichment!=\"enriched\"').set_index('Epithelial_programs')[p_key]\n",
    "program_order = pd.DataFrame({'enr':sorting_enr,'dep':sorting_dep}).sort_values(['enr','dep'],ascending=[True,False]).index.to_numpy()\n",
    "enrichments['Epithelial_programs'] = enrichments['Epithelial_programs'].astype(pd.CategoricalDtype(categories=program_order, ordered=True))\n",
    "\n",
    "for annotate_pvalues in [False]:\n",
    "    fig = tc.pl.significances(enrichments, p_key, 'Epithelial_programs', 'State', annotate_pvalues=annotate_pvalues);\n",
    "\n",
    "    fig.savefig(f'{figures_folder}/mouse_slideseq_enrichment_program_vs_regionState{\"\" if annotate_pvalues else \"_plain\"}.pdf',bbox_inches='tight')"
   ]
  },
  {
   "cell_type": "code",
   "execution_count": null,
   "metadata": {},
   "outputs": [],
   "source": [
    "state_reference = reference[reference.obs['State'].isin(['normal','premalignant'])]\n",
    "\n",
    "tdata_enrichments = tc.tl.enrichments(tdata,'cluster3','split_covered_regionState',sample_key='SampleID_split',**enrichment_method,reads=True,)\n",
    "tdata_enrichments.rename(columns={'split_covered_regionState':'regionState','cluster3':'cluster'}, inplace=True)\n",
    "reference_enrichments = tc.tl.enrichments(state_reference,'cluster','State',sample_key='SampleID',**enrichment_method,reads=True,)\n",
    "tdata_enrichments['State'] = tdata_enrichments['regionState']\n",
    "reference_enrichments['State'] = reference_enrichments['State'].map(lambda x: f'{x} (reference)')\n",
    "enrichments = pd.concat([reference_enrichments,tdata_enrichments])\n",
    "enrichments['State'] = enrichments['State'].astype(pd.CategoricalDtype(categories=['AV: malignant-like', 'AV: normal-like', 'normal', 'premalignant (reference)', 'normal (reference)'], ordered=True))\n",
    "enrichments['cluster'] = enrichments['cluster'].astype(pd.CategoricalDtype(categories=cluster_colors.keys(), ordered=True))\n",
    "\n",
    "for annotate_pvalues in [False]:\n",
    "    fig = tc.pl.significances(enrichments, p_key, 'cluster', 'State', annotate_pvalues=annotate_pvalues);\n",
    "\n",
    "    fig.savefig(f'{figures_folder}/mouse_slideseq_enrichment_cluster3_vs_regionState{\"\" if annotate_pvalues else \"_plain\"}.pdf',bbox_inches='tight')"
   ]
  },
  {
   "cell_type": "code",
   "execution_count": null,
   "metadata": {},
   "outputs": [],
   "source": [
    "# sort vbeads by number of reads\n",
    "lfdata = tc.tl.merge_observations(pucks_by_cluster, obs_index_key='index', annotation_key='labels', min_counts=10)\n",
    "lfdata_sorted = lfdata[pd.Series(tc.sum(lfdata.X,axis=1),index=lfdata.obs.index).sort_values(ascending=False).index].copy()\n",
    "# make and export a dotplot of marker genes for a single region\n",
    "markers = ['Sparc','Ctss','Mmp12','Cxcl9','Chd5','Mcam','Ctsd']\n",
    "dotplot = sc.pl.dotplot(lfdata_sorted[lfdata_sorted.obs['region'].str.contains('6')], markers, groupby='labels', dendrogram=False, log=True, return_fig=True)\n",
    "dotplot.savefig(f'{figures_folder}/mouse_slideseq_region6_labels_marker_dot.pdf',bbox_inches='tight')"
   ]
  },
  {
   "cell_type": "code",
   "execution_count": null,
   "metadata": {},
   "outputs": [],
   "source": [
    "# sort vbeads by number of reads\n",
    "pucks_by_compartment_sorted = pucks_by_compartment[pd.Series(tc.sum(pucks_by_compartment.X,axis=1),index=pucks_by_compartment.obs.index).sort_values(ascending=False).index].copy()\n",
    "# make and export a dotplot of marker genes for a compartment\n",
    "markers = ['Vim','Prox1','Sox11']\n",
    "dotplot = sc.pl.dotplot(pucks_by_compartment_sorted[pucks_by_compartment_sorted.obs['compartment'].isin(['epithelial']) & pucks_by_compartment_sorted.obs['region'].str.contains('Malignant-like')], markers, groupby='region', dendrogram=False, log=True, return_fig=True)\n",
    "dotplot.savefig(f'{figures_folder}/mouse_slideseq_malignantregions_marker_dot.pdf',bbox_inches='tight')"
   ]
  },
  {
   "cell_type": "code",
   "execution_count": null,
   "metadata": {},
   "outputs": [],
   "source": [
    "max_distance = 20\n",
    "n_permutation = 10\n",
    "\n",
    "what = 'cluster'\n",
    "center = 'cluster'\n",
    "\n",
    "state_tdatas = { state: tdata[df.index].copy() for state, df in tdata.obs.groupby('State') if len(df) > 0 }\n",
    "\n",
    "comps = tc.tl.get_compositions(tdata,what,'State',reads=True)\n",
    "comps = comps.T.groupby(lambda x: re.match('^[A-Za-z]+',x).group(0)).apply(lambda x: x/x.sum(axis=0).to_numpy())\n",
    "big_clusters = { c: comps[c][comps[c]>0.01].index.to_numpy() for c in comps.columns }\n",
    "\n",
    "analysis_key=f'{what}-{center}'\n",
    "for state, adata in state_tdatas.items():\n",
    "    adata.obsm[what] = adata.obsm[what][big_clusters[state]]\n",
    "    tc.tl.co_occurrence_matrix(adata=adata, annotation_key=what, center_key=center, sample_key='SampleID',\n",
    "        distance_key=None, position_key=('x','y'), max_distance=max_distance,numba_blocksize=max_distance,\n",
    "        result_key=analysis_key, verbose=0,\n",
    "        n_permutation=n_permutation,\n",
    "    )\n",
    "    fig = tc.pl.co_occurrence_matrix({state:adata}, score_key='z', cmap_vmin_vmax=(-5,5), cmap='bwr', analysis_key=analysis_key, y_padding=3.5);\n",
    "\n",
    "    fig.savefig(f'{figures_folder}/mouse_slideseq_cooc_{state}_{max_distance}umP{n_permutation}.pdf',bbox_inches='tight')"
   ]
  },
  {
   "cell_type": "code",
   "execution_count": null,
   "metadata": {},
   "outputs": [],
   "source": [
    "fig,axs=tc.pl.subplots(axsize=(3,3))\n",
    "bins = np.arange(\n",
    "    np.floor(min([ adata.uns['cluster-cluster']['z'].min() for adata in state_tdatas.values() ])),\n",
    "    np.ceil(max([ adata.uns['cluster-cluster']['z'].max() for adata in state_tdatas.values() ]))+1,\n",
    "    1)\n",
    "\n",
    "triu = np.triu_indices_from(state_tdatas['normal'].uns['cluster-cluster']['z'][:,:,0])\n",
    "normal_zs = state_tdatas['normal'].uns['cluster-cluster']['z'][:,:,0][triu]\n",
    "triu = np.triu_indices_from(state_tdatas['premalignant'].uns['cluster-cluster']['z'][:,:,0])\n",
    "premalignant_zs = state_tdatas['premalignant'].uns['cluster-cluster']['z'][:,:,0][triu]\n",
    "\n",
    "axs[0,0].hist(normal_zs,bins=bins,alpha=0.5,label='normal');\n",
    "axs[0,0].hist(premalignant_zs,bins=bins,alpha=0.5,label='premalignant');\n",
    "axs[0,0].legend()\n",
    "axs[0,0].set_xlabel('$\\\\frac{log(N(annotation,center))-random expectation}{standard deviation}$')\n",
    "axs[0,0].set_title(f'interval (0,{max_distance}): cluster-cluster')\n",
    "fig.savefig(f'{figures_folder}/mouse_slideseq_cooc_{max_distance}umP{n_permutation}_hist.pdf',bbox_inches='tight')\n",
    "scipy.stats.mannwhitneyu(normal_zs, premalignant_zs, alternative='greater')"
   ]
  },
  {
   "cell_type": "code",
   "execution_count": null,
   "metadata": {},
   "outputs": [],
   "source": [
    "max_distance = 40\n",
    "n_permutation = 10\n",
    "\n",
    "what = 'cluster'\n",
    "center = 'cluster'\n",
    "\n",
    "state_tdatas = { state: tdata[df.index].copy() for state, df in tdata.obs.groupby('State') if len(df) > 0 }\n",
    "\n",
    "comps = tc.tl.get_compositions(tdata,what,'State',reads=True)\n",
    "comps = comps.T.groupby(lambda x: re.match('^[A-Za-z]+',x).group(0)).apply(lambda x: x/x.sum(axis=0).to_numpy())\n",
    "big_clusters = { c: comps[c][comps[c]>0.01].index.to_numpy() for c in comps.columns }\n",
    "\n",
    "analysis_key=f'{what}-{center}'\n",
    "for state, adata in state_tdatas.items():\n",
    "    adata.obsm[what] = adata.obsm[what][big_clusters[state]]\n",
    "    tc.tl.co_occurrence_matrix(adata=adata, annotation_key=what, center_key=center, sample_key='SampleID',\n",
    "        distance_key=None, position_key=('x','y'), max_distance=max_distance,numba_blocksize=max_distance,\n",
    "        result_key=analysis_key, verbose=0,\n",
    "        n_permutation=n_permutation,\n",
    "    )\n",
    "    fig = tc.pl.co_occurrence_matrix({state:adata}, score_key='z', cmap_vmin_vmax=(-5,5), cmap='bwr', analysis_key=analysis_key, y_padding=3.5);\n",
    "\n",
    "    fig.savefig(f'{figures_folder}/mouse_slideseq_cooc_{state}_{max_distance}umP{n_permutation}.pdf',bbox_inches='tight')"
   ]
  },
  {
   "cell_type": "code",
   "execution_count": null,
   "metadata": {},
   "outputs": [],
   "source": [
    "max_distance = 60\n",
    "n_permutation = 10\n",
    "\n",
    "what = 'cluster'\n",
    "center = 'cluster'\n",
    "\n",
    "state_tdatas = { state: tdata[df.index].copy() for state, df in tdata.obs.groupby('State') if len(df) > 0 }\n",
    "\n",
    "comps = tc.tl.get_compositions(tdata,what,'State',reads=True)\n",
    "comps = comps.T.groupby(lambda x: re.match('^[A-Za-z]+',x).group(0)).apply(lambda x: x/x.sum(axis=0).to_numpy())\n",
    "big_clusters = { c: comps[c][comps[c]>0.01].index.to_numpy() for c in comps.columns }\n",
    "\n",
    "analysis_key=f'{what}-{center}'\n",
    "for state, adata in state_tdatas.items():\n",
    "    adata.obsm[what] = adata.obsm[what][big_clusters[state]]\n",
    "    tc.tl.co_occurrence_matrix(adata=adata, annotation_key=what, center_key=center, sample_key='SampleID',\n",
    "        distance_key=None, position_key=('x','y'), max_distance=max_distance,numba_blocksize=max_distance,\n",
    "        result_key=analysis_key, verbose=0,\n",
    "        n_permutation=n_permutation,\n",
    "    )\n",
    "    fig = tc.pl.co_occurrence_matrix({state:adata}, score_key='z', cmap_vmin_vmax=(-5,5), cmap='bwr', analysis_key=analysis_key, y_padding=3.5);\n",
    "\n",
    "    fig.savefig(f'{figures_folder}/mouse_slideseq_cooc_{state}_{max_distance}umP{n_permutation}.pdf',bbox_inches='tight')"
   ]
  },
  {
   "cell_type": "code",
   "execution_count": null,
   "metadata": {},
   "outputs": [],
   "source": [
    "max_distance = 20\n",
    "n_permutation = 5\n",
    "\n",
    "what = 'cluster'\n",
    "center = 'cluster'\n",
    "\n",
    "state_tdatas = { state: tdata[df.index].copy() for state, df in tdata.obs.groupby('State') if len(df) > 0 }\n",
    "\n",
    "comps = tc.tl.get_compositions(tdata,what,'State',reads=True)\n",
    "comps = comps.T.groupby(lambda x: re.match('^[A-Za-z]+',x).group(0)).apply(lambda x: x/x.sum(axis=0).to_numpy())\n",
    "big_clusters = { c: comps[c][comps[c]>0.01].index.to_numpy() for c in comps.columns }\n",
    "\n",
    "analysis_key=f'{what}-{center}'\n",
    "for state, adata in state_tdatas.items():\n",
    "    adata.obsm[what] = adata.obsm[what][big_clusters[state]]\n",
    "    tc.tl.co_occurrence_matrix(adata=adata, annotation_key=what, center_key=center, sample_key='SampleID',\n",
    "        distance_key=None, position_key=('x','y'), max_distance=max_distance,numba_blocksize=max_distance,\n",
    "        result_key=analysis_key, verbose=0,\n",
    "        n_permutation=n_permutation,\n",
    "    )\n",
    "    fig = tc.pl.co_occurrence_matrix({state:adata}, score_key='z', cmap_vmin_vmax=(-5,5), cmap='bwr', analysis_key=analysis_key, y_padding=3.5);\n",
    "\n",
    "    fig.savefig(f'{figures_folder}/mouse_slideseq_cooc_{state}_{max_distance}umP{n_permutation}.pdf',bbox_inches='tight')"
   ]
  },
  {
   "cell_type": "code",
   "execution_count": null,
   "metadata": {},
   "outputs": [],
   "source": [
    "max_distance = 20\n",
    "n_permutation = 50\n",
    "\n",
    "what = 'cluster'\n",
    "center = 'cluster'\n",
    "\n",
    "state_tdatas = { state: tdata[df.index].copy() for state, df in tdata.obs.groupby('State') if len(df) > 0 }\n",
    "\n",
    "comps = tc.tl.get_compositions(tdata,what,'State',reads=True)\n",
    "comps = comps.T.groupby(lambda x: re.match('^[A-Za-z]+',x).group(0)).apply(lambda x: x/x.sum(axis=0).to_numpy())\n",
    "big_clusters = { c: comps[c][comps[c]>0.01].index.to_numpy() for c in comps.columns }\n",
    "\n",
    "analysis_key=f'{what}-{center}'\n",
    "for state, adata in state_tdatas.items():\n",
    "    adata.obsm[what] = adata.obsm[what][big_clusters[state]]\n",
    "    tc.tl.co_occurrence_matrix(adata=adata, annotation_key=what, center_key=center, sample_key='SampleID',\n",
    "        distance_key=None, position_key=('x','y'), max_distance=max_distance,numba_blocksize=max_distance,\n",
    "        result_key=analysis_key, verbose=0,\n",
    "        n_permutation=n_permutation,\n",
    "    )\n",
    "    fig = tc.pl.co_occurrence_matrix({state:adata}, score_key='z', cmap_vmin_vmax=(-5,5), cmap='bwr', analysis_key=analysis_key, y_padding=3.5);\n",
    "\n",
    "    fig.savefig(f'{figures_folder}/mouse_slideseq_cooc_{state}_{max_distance}umP{n_permutation}.pdf',bbox_inches='tight')"
   ]
  },
  {
   "cell_type": "code",
   "execution_count": null,
   "metadata": {},
   "outputs": [],
   "source": [
    "tdatas = {s:tdata[df.index].copy() for s,df in tdata[tdata.obs['epi_domain'] & (tc.sum(tdata.X,axis=1)>=50)].obs.groupby('State') if len(df) > 0 and s == 'normal'}\n",
    "analysis_key=f'cluster-cluster'\n",
    "for s,_tdata in tdatas.items():\n",
    "    tc.tl.co_occurrence(_tdata, 'cluster', sample_key='SampleID', delta_distance=20, max_distance=1000, sparse=False, result_key=analysis_key, verbose=0);"
   ]
  },
  {
   "cell_type": "code",
   "execution_count": null,
   "metadata": {},
   "outputs": [],
   "source": [
    "comps = tc.tl.get_compositions(tdata,'cluster','State',reads=True)\n",
    "comps = comps.T.groupby(lambda x: re.match('^[A-Za-z]+',x).group(0)).apply(lambda x: x/x.sum(axis=0).to_numpy())\n",
    "big_clusters = { c: comps[c][comps[c]>0.01].index.to_numpy() for c in comps.columns }\n",
    "\n",
    "for state, adata in tdatas.items():\n",
    "    main_Epi = ['Epi01 (Dysplastic Stem Like)', 'Epi02 (Enterocytes)', 'Epi03 (Stem/Progenitors)', 'Epi04 (Secretory)', 'Epi05 (Dysplastic Secretory Like)',]\n",
    "    main_Epi = [ c for c in main_Epi if c in big_clusters[state] ]\n",
    "    fig = tc.pl.co_occurrence(adata, analysis_key, score_key='log_occ', colors=cluster_colors, wspace=0.3, log_base=2, show_only=main_Epi, show_only_center=main_Epi, merged=False);\n",
    "    fig.savefig(f'{figures_folder}/mouse_slideseq_cooc_{state}_epi_cluster_from_epi_cluster.pdf',bbox_inches='tight')"
   ]
  },
  {
   "cell_type": "code",
   "execution_count": null,
   "metadata": {},
   "outputs": [],
   "source": [
    "max_distance = 20\n",
    "n_permutation = 10\n",
    "\n",
    "what,center,group = 'Epithelial_programs','Epithelial_programs','State'\n",
    "\n",
    "tdata_premalignant = tdata.query(f'State==\"premalignant\"').copy()\n",
    "\n",
    "comps = tc.tl.get_compositions(tdata_premalignant,what,group,reads=True)\n",
    "comps = comps.T.groupby(lambda x: re.match('^[A-Za-z]+',x).group(0)).apply(lambda x: x/x.sum(axis=0).to_numpy())\n",
    "big_what = { c: comps[c][comps[c]>0.01].index.to_numpy() for c in comps.columns }\n",
    "\n",
    "analysis_key=f'{what}-{center}'\n",
    "\n",
    "tdata_premalignant.obsm[what] = tdata_premalignant.obsm[what][big_what['premalignant']]\n",
    "tc.tl.co_occurrence_matrix(adata=tdata_premalignant, annotation_key=what, center_key=center, sample_key='SampleID',\n",
    "    distance_key=None, position_key=('x','y'), max_distance=max_distance,numba_blocksize=max_distance,\n",
    "    result_key=analysis_key, verbose=0,\n",
    "    n_permutation=n_permutation,\n",
    ")\n",
    "fig = tc.pl.co_occurrence_matrix({'premalignant':tdata_premalignant}, score_key='z', cmap_vmin_vmax=(-5,5), cmap='bwr', analysis_key=analysis_key, y_padding=3.5, group_cluster=True, value_cluster=True);\n",
    "fig.savefig(f'{figures_folder}/mouse_slideseq_cooc_premalignant_{max_distance}umP{n_permutation}_clustered.pdf',bbox_inches='tight')"
   ]
  },
  {
   "cell_type": "code",
   "execution_count": null,
   "metadata": {},
   "outputs": [],
   "source": [
    "tdata_premalignant = tdata[tdata.obs['epi_domain'] & (tc.sum(tdata.X,axis=1)>=50) & (tdata.obs['State'] == 'premalignant')].copy()\n",
    "analysis_key=f'cluster-labels'\n",
    "tc.tl.co_occurrence(tdata_premalignant, 'cluster', 'labels', sample_key='SampleID', delta_distance=20, max_distance=1000, sparse=False, result_key=analysis_key, verbose=0);"
   ]
  },
  {
   "cell_type": "code",
   "execution_count": null,
   "metadata": {},
   "outputs": [],
   "source": [
    "fig = tc.pl.co_occurrence(tdata_premalignant, analysis_key, score_key='log_occ', colors=cluster_colors, wspace=0.3, log_base=2, show_only=['Mono02 (Dysplasia-Associated)', 'Mono03 (Dysplasia-Associated, IFN)', 'Gran01', 'Gran02',], show_only_center=['Endo'], merged=False);\n",
    "fig.savefig(f'{figures_folder}/mouse_slideseq_cooc_premalignant_myeloid_cluster_from_endothelial.pdf',bbox_inches='tight')"
   ]
  },
  {
   "cell_type": "code",
   "execution_count": null,
   "metadata": {},
   "outputs": [],
   "source": [
    "max_distance = 20\n",
    "n_permutation = 10\n",
    "\n",
    "what = 'labels'\n",
    "center = 'labels'\n",
    "\n",
    "malignant_regions = [t for t in region_colors.keys()  if 'Malignant-like' in t]\n",
    "\n",
    "for region in malignant_regions:\n",
    "    tdata_premalignant = tdata.query(f'State==\"premalignant\" & region==\"{region}\"').copy()\n",
    "\n",
    "    analysis_key=f'{what}-{center}'\n",
    "    tc.tl.co_occurrence_matrix(adata=tdata_premalignant, annotation_key=what, center_key=center, sample_key='SampleID',\n",
    "        distance_key=None, position_key=('x','y'), max_distance=max_distance,numba_blocksize=max_distance,\n",
    "        result_key=analysis_key, verbose=0,\n",
    "        n_permutation=n_permutation,\n",
    "    )\n",
    "\n",
    "    fig = tc.pl.co_occurrence_matrix(tdata_premalignant, score_key='z', cmap_vmin_vmax=(-5,5), cmap='bwr', analysis_key=analysis_key, y_padding=1.5, value_cluster=False, group_cluster=False);\n",
    "\n",
    "    fig.savefig(f'{figures_folder}/mouse_slideseq_cooc_premalignant_labels_in_{helper.map_short(region,1,join=\"\")}_{max_distance}umP{n_permutation}.pdf',bbox_inches='tight')"
   ]
  },
  {
   "cell_type": "markdown",
   "metadata": {},
   "source": [
    "# enrichments for split data"
   ]
  },
  {
   "cell_type": "code",
   "execution_count": null,
   "metadata": {},
   "outputs": [],
   "source": [
    "tc.utils.merge_annotation(pucks_by_compartment, annotation_key='compartment', result_key='epiornotepi', mapping={'notepithelial':['immune', 'stromal']})\n",
    "egroups = ['epithelial','notepithelial']\n",
    "pucks_by_epithelial = tc.tl.merge_observations(pucks_by_compartment, obs_index_key='index', annotation_key='epiornotepi')"
   ]
  },
  {
   "cell_type": "code",
   "execution_count": null,
   "metadata": {},
   "outputs": [],
   "source": [
    "comparisons = pd.DataFrame([\n",
    "    ('malignant_regions','region',[r for r in region_colors.keys() if 'Malignant-like' in r],pucks_by_epithelial,'epiornotepi',egroups),\n",
    "],columns=['name','rkey','regions','adata','key','groups'])"
   ]
  },
  {
   "cell_type": "code",
   "execution_count": null,
   "metadata": {},
   "outputs": [],
   "source": [
    "def check_GO_findings(results,group):\n",
    "    findings_GO = pd.DataFrame([\n",
    "        ('notepithelial', 'enriched', 'Region 6 (Malignant-like, inflammation)', 'inflam'), # XXX\n",
    "        ('notepithelial', 'enriched', 'Region 6 (Malignant-like, inflammation)', 'tumor necrosis factor'), # XXX\n",
    "        ('notepithelial', 'enriched', 'Region 6 (Malignant-like, inflammation)', 'interleukin-1'), # XXX\n",
    "        ('notepithelial', 'enriched', 'Region 6 (Malignant-like, inflammation)', 'interferon-gamma'), # XXX\n",
    "        ('notepithelial', 'enriched', 'Region 6 (Malignant-like, inflammation)', 'neutrophil chemotaxis'), # XXX\n",
    "        ('notepithelial', 'enriched', 'Region 6 (Malignant-like, inflammation)', 'monocyte chemotaxis'), # XXX\n",
    "        ('notepithelial', 'enriched', 'Region 6 (Malignant-like, inflammation)', 'lymphocyte chemotaxis'), # XXX\n",
    "        ('notepithelial', 'enriched', 'Region 6 (Malignant-like, inflammation)', 'collagen'), # XXX\n",
    "        ('notepithelial', 'enriched', 'Region 8 (Malignant-like, Deep crypt-like)', 'B cell activation'), # XXX\n",
    "        ('notepithelial', 'enriched', 'Region 8 (Malignant-like, Deep crypt-like)', 'B cell receptor'), # XXX\n",
    "        ('notepithelial', 'enriched', 'Region 11 (Malignant-like, EMT)', 'oncostatin-M receptor complex'), # XXX\n",
    "        ('notepithelial', 'enriched', 'Region 11 (Malignant-like, EMT)', 'MHC class I'), # XXX\n",
    "        ('notepithelial', 'enriched', 'Region 11 (Malignant-like, EMT)', 'actin cytoskeleton'), # XXX,\n",
    "        ('notepithelial', 'enriched', 'Region 11 (Malignant-like, EMT)', 'actin filament'), # XXX\n",
    "        ('notepithelial', 'enriched', 'Region 11 (Malignant-like, EMT)', 'actin binding'), # XXX\n",
    "    ],columns=['group','enriched','where','what',])\n",
    "    for finding in findings_GO.itertuples():\n",
    "        if group == finding.group:\n",
    "            found = results[results['group'].isin([finding.where]) & results['finding'].isin([finding.enriched]) & results['GO_name'].str.contains(finding.what)]\n",
    "            foundit = len(found) > 0\n",
    "            if foundit:\n",
    "                print(f'XXX {finding.what} {finding.enriched} in {finding.group}/{finding.where}')\n",
    "            else:\n",
    "                print(f'--- {finding.what} {finding.enriched} in {finding.group}/{finding.where}')\n",
    "            print(found[['group','p_value','GO_name']])\n",
    "def check_GENE_findings(enrichments, group):\n",
    "    findings_GO = pd.DataFrame([\n",
    "        ('notepithelial', 'enriched', 'Region 6 (Malignant-like, inflammation)', 'Sparc'), # XXX\n",
    "        ('notepithelial', 'enriched', 'Region 6 (Malignant-like, inflammation)', 'Ctss'), # XXX\n",
    "        ('notepithelial', 'enriched', 'Region 6 (Malignant-like, inflammation)', 'Mmp12'), # XXX\n",
    "        ('notepithelial', 'enriched', 'Region 6 (Malignant-like, inflammation)', 'Cxcl9'), # XXX\n",
    "        ('notepithelial', 'enriched', 'Region 11 (Malignant-like, EMT)', 'Osmr'), # XXX\n",
    "        ('epithelial', 'enriched', 'Region 11 (Malignant-like, EMT)', 'Vim'), # XXX\n",
    "        ('epithelial', 'enriched', 'Region 11 (Malignant-like, EMT)', 'Prox1'), # XXX\n",
    "        ('epithelial', 'enriched', 'Region 11 (Malignant-like, EMT)', 'Sox11'), # XXX\n",
    "\n",
    "    ],columns=['group','enriched','where','what',])\n",
    "    for finding in findings_GO.itertuples():\n",
    "        if group == finding.group:\n",
    "            found = enrichments[enrichments['region'].isin([finding.where]) & enrichments['enrichment'].isin([finding.enriched]) & enrichments['GENE'].isin([finding.what])]\n",
    "            foundit = len(found) > 0\n",
    "            if foundit:\n",
    "                print(f'XXX {finding.what} {finding.enriched} in {finding.group}/{finding.where}')\n",
    "            else:\n",
    "                print(f'--- {finding.what} {finding.enriched} in {finding.group}/{finding.where}')\n",
    "            print(found[['region','p_fisher_fdr_bh','GENE']])"
   ]
  },
  {
   "cell_type": "code",
   "execution_count": null,
   "metadata": {
    "tags": []
   },
   "outputs": [],
   "source": [
    "for comp in comparisons.itertuples():\n",
    "    print(comp.name, comp.key)\n",
    "    comp_adata = comp.adata[comp.adata.obs[comp.rkey].isin(comp.regions)]\n",
    "    \n",
    "    comp_adata = comp_adata[~comp_adata.obs['State'].isin(['normal'])]\n",
    "    \n",
    "    for group in comp.groups:\n",
    "        _sdata = comp_adata[comp_adata.obs[comp.key] == group].copy()\n",
    "        \n",
    "        print(group, len(_sdata))\n",
    "        if not pd.Series(comp.regions).isin(_sdata.obs[comp.rkey].unique()).all():\n",
    "            print(f'not all regions populated, continuing with next iteration...')\n",
    "            continue\n",
    "        \n",
    "        _sdata.obs[comp.rkey] = _sdata.obs[comp.rkey].astype('category')\n",
    "        _sdata.obs[\"SampleID\"] = _sdata.obs[\"SampleID\"].astype('category')\n",
    "        \n",
    "        enrichments,results = helper.marker_genes(_sdata, comp.rkey, goa_working_directory=f'{get_path(\"resources\", \"mouse_sc\")}/goa')\n",
    "        \n",
    "        check_GENE_findings(enrichments,group)\n",
    "        \n",
    "        if results is not None and group != 'epithelial':\n",
    "            check_GO_findings(results,group)\n",
    "            \n",
    "            results.to_csv(f'{figures_folder}/mouse_slideseq_GO_6811_{group}.csv',index=False)"
   ]
  },
  {
   "cell_type": "markdown",
   "metadata": {},
   "source": [
    "# EMT score"
   ]
  },
  {
   "cell_type": "code",
   "execution_count": null,
   "metadata": {},
   "outputs": [],
   "source": [
    "EMT_Puram17_genes = pd.Index(['SERPINE1','TGFBI','MMP10','LAMC2','P4HA2','PDPN','ITGA5','LAMA3','CDH13','TNC','MMP2','EMP3','INHBA','LAMB3','VIM','SEMA3C','PRKCDBP','ANXA5','DHRS7','ITGB1','ACTN1','CXCR7','ITGB6','IGFBP7','THBS1','PTHLH','TNFRSF6B','PDLIM7','CAV1','DKK3','COL17A1','LTBP1','COL5A2','COL1A1','FHL2','TIMP3','PLAU','LGALS1','PSMD2','CD63','HERPUD1','TPM1','SLC39A14','C1S','MMP1','EXT2','COL4A2','PRSS23','SLC7A8','SLC31A2','ARPC1B','APP','MFAP2','MPZL1','DFNA5','MT2A','MAGED2','ITGA6','FSTL1','TNFRSF12A','IL32','COPB2','PTK7','OCIAD2','TAX1BP3','SEC13','SERPINH1','TPM4','MYH9','ANXA8L1','PLOD2','GALNT2','LEPREL1','MAGED1','SLC38A5','FSTL3','CD99','F3','PSAP','NMRK1','FKBP9','DSG2','ECM1','HTRA1','SERINC1','CALU','TPST1','PLOD3','IGFBP3','FRMD6','CXCL14','SERPINE2','RABAC1','TMED9','NAGK','BMP1','ESYT1','STON2','TAGLN','GJA1']) # genes from https://www.cell.com/action/showPdf?pii=S0092-8674%2817%2931270-9 Table S7 p-EMT\n",
    "EMT_Puram17_genes = (EMT_Puram17_genes.str.get(0) + EMT_Puram17_genes.str.lower().str.split('',2).str.get(-1))[:50].intersection(pucks_by_epithelial.var.index) # lowercase for mouse\n",
    "\n",
    "EMT_Marjanovic20_genes = pd.Index(['Stmn2','Klhl1','Rgs17','Ifi211','Bmp7','Fam19a5','Zeb2','Dlx2','Qrfp','Plxdc2','Ncam1','Stac','Prl2c3','Flt4','Sdc3','Ifi205','Ifi204','3110039M20Rik','Pilra','Clip3','Scrn1','Cd109','Dkk3','Foxg1','Sox11','Uchl1','Gm26716','Dynap','Csn3','Edil3','Rgs20','Col5a1','Ndst3','Pcdh9','Fabp7','Mndal','AC166344.1','Pilrb2','Sp7','Flnc','Cdh6','AC161275.1','Rbfox1','Smoc2','Olfm2','Axl','Piezo2','Layn','Vim','Acan','Arap3','Colec12','Fgfr1','Nes','Twist1','Rgs5','Dbn1','Igf2bp1','Fscn1','Tmem200a','Hey1','Gm28875','Cdh2','Dpysl3','Parvb','H2-M1','Cnksr2','Slitrk5','Cttnbp2','Adgra1','Syn1','Itga5','Fst','Efcc1','Cacna2d1','Pilrb1','Rgs2','Klra4','Ifitm10','Timp1','Khdrbs3','Mcub','Ltbp1','Chst11','Upp1','Loxl2','Sept6','Erc2','Zfhx4','Oaf','Syne3','Gng11','Rbpms2','Inhba','Pkp1','Sh3kbp1','Ggta1','Lgr6','Tnc',])\n",
    "EMT_Marjanovic20_genes = EMT_Marjanovic20_genes[:50].intersection(pucks_by_epithelial.var.index)\n",
    "\n",
    "signatures = pd.Series({\n",
    "    'EMT_Puram17':EMT_Puram17_genes,\n",
    "    'EMT_Marjanovic20':EMT_Marjanovic20_genes,\n",
    "})"
   ]
  },
  {
   "cell_type": "code",
   "execution_count": null,
   "metadata": {},
   "outputs": [],
   "source": [
    "def scScore(adata, gene_list):\n",
    "    tdata_cpy = adata.copy()\n",
    "    sc.pp.filter_genes(tdata_cpy, min_cells=3)\n",
    "    sc.pp.normalize_per_cell(tdata_cpy, counts_per_cell_after=1e4)\n",
    "    sc.pp.log1p(tdata_cpy)\n",
    "    sc.pp.scale(tdata_cpy)\n",
    "    sc.tl.score_genes(tdata_cpy, gene_list, score_name='sc', random_state=42)\n",
    "    return tdata_cpy.obs['sc']"
   ]
  },
  {
   "cell_type": "code",
   "execution_count": null,
   "metadata": {},
   "outputs": [],
   "source": [
    "for comp in pd.DataFrame([\n",
    "    ('malignant_regions','region',[r for r in region_colors.keys() if 'Malignant-like' in r],pucks_by_epithelial,'epiornotepi',['epithelial']),\n",
    "],columns=['name','rkey','regions','adata','key','groups']).itertuples():\n",
    "    print(comp.key)\n",
    "    comp_adata = comp.adata[comp.adata.obs[comp.rkey].isin(comp.regions)]\n",
    "    \n",
    "    for group in comp.groups:\n",
    "        _sdata = comp_adata[comp_adata.obs[comp.key] == group].copy()\n",
    "        print(group, len(_sdata))\n",
    "        \n",
    "        if not pd.Series(comp.regions).isin(_sdata.obs[comp.rkey].unique()).all():\n",
    "            print(f'not all regions populated, continuing with next iteration...')\n",
    "            continue\n",
    "        _sdata.obs[comp.rkey] = _sdata.obs[comp.rkey].astype('category')\n",
    "        _sdata.obs[\"SampleID\"] = _sdata.obs[\"SampleID\"].astype('category')\n",
    "        \n",
    "        for signature_name, signature_genes in signatures.items():\n",
    "            \n",
    "            print(signature_name)\n",
    "            \n",
    "            _sdata.obs[f'sc{signature_name}'] = scScore(_sdata,signature_genes.intersection(_sdata.var.index))\n",
    "            common_args = {\n",
    "                'adata':_sdata,\n",
    "                'value_key':[\n",
    "                    f'sc{signature_name}',\n",
    "                ],\n",
    "                'group_key':comp.rkey,\n",
    "                'value_location':'obs',\n",
    "                'reduction':None,\n",
    "                'normalization':None,\n",
    "                'fillna':None,\n",
    "                'restrict_groups':comp.regions,\n",
    "                'restrict_values':None,\n",
    "                'reads':False,\n",
    "                'min_obs': 100,\n",
    "            }\n",
    "            enrichments = tc.tl.enrichments(**common_args,\n",
    "                p_corr='fdr_bh',\n",
    "                method='mwu',\n",
    "            )\n",
    "            enrichments = enrichments[(enrichments['p_mwu_fdr_bh']<0.05)].sort_values(['region','value'])\n",
    "            if len(enrichments) == 0:\n",
    "                print(f'no significant enrichments, continuing with next iteration...')\n",
    "                continue\n",
    "\n",
    "            print(enrichments)"
   ]
  },
  {
   "cell_type": "code",
   "execution_count": null,
   "metadata": {},
   "outputs": [],
   "source": []
  }
 ],
 "metadata": {
  "kernelspec": {
   "display_name": "Python 3 (ipykernel)",
   "language": "python",
   "name": "python3"
  },
  "language_info": {
   "codemirror_mode": {
    "name": "ipython",
    "version": 3
   },
   "file_extension": ".py",
   "mimetype": "text/x-python",
   "name": "python",
   "nbconvert_exporter": "python",
   "pygments_lexer": "ipython3",
   "version": "3.11.5"
  }
 },
 "nbformat": 4,
 "nbformat_minor": 4
}
