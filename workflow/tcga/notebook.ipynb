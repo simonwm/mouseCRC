{
 "cells": [
  {
   "cell_type": "markdown",
   "metadata": {},
   "source": [
    "# Score mouse regions in human survival data"
   ]
  },
  {
   "cell_type": "code",
   "execution_count": null,
   "metadata": {
    "tags": []
   },
   "outputs": [],
   "source": [
    "import os\n",
    "import warnings\n",
    "warnings.filterwarnings('ignore','invalid value encountered in true_divide')\n",
    "\n",
    "import pandas as pd\n",
    "import numpy as np\n",
    "import anndata as ad\n",
    "\n",
    "import scanpy as sc\n",
    "\n",
    "import seaborn as sns\n",
    "\n",
    "import tacco as tc\n",
    "\n",
    "from statsmodels.stats.multitest import multipletests\n",
    "import lifelines\n",
    "kmf = lifelines.KaplanMeierFitter()"
   ]
  },
  {
   "cell_type": "code",
   "execution_count": null,
   "metadata": {
    "tags": []
   },
   "outputs": [],
   "source": [
    "import sys\n",
    "# Make helper functions available: The notebook expects to be executed either in the sub-workflow directory or in the notebooks directory\n",
    "sys.path.insert(1, '../'), sys.path.insert(1, '../workflow/'); # prefer to look just one directory up\n",
    "import helper\n",
    "sys.path.pop(1), sys.path.pop(1);\n",
    "\n",
    "get_path = helper.get_paths('tcga')\n",
    "figures_folder = get_path('plots')"
   ]
  },
  {
   "cell_type": "markdown",
   "metadata": {},
   "source": [
    "## Load data and convert the genes to the common MGI homology classes"
   ]
  },
  {
   "cell_type": "code",
   "execution_count": null,
   "metadata": {
    "tags": []
   },
   "outputs": [],
   "source": [
    "tc.tl.setup_orthology_converter(f'{get_path(\"resources\",\"human_sc\")}/MGI/HOM_AllOrganism.rpt');"
   ]
  },
  {
   "cell_type": "code",
   "execution_count": null,
   "metadata": {
    "tags": []
   },
   "outputs": [],
   "source": [
    "mouse_slideseq = ad.read(f'{get_path(\"resources\",\"mouse_slideseq\")}/slideseq.h5ad')\n",
    "mouse_slideseq_by_compartment = ad.read(f'{get_path(\"resources\",\"mouse_slideseq\")}/slideseq_by_compartment.h5ad')"
   ]
  },
  {
   "cell_type": "code",
   "execution_count": null,
   "metadata": {
    "tags": []
   },
   "outputs": [],
   "source": [
    "# use only data from sufficiently covered beads\n",
    "mouse_slideseq = mouse_slideseq[mouse_slideseq.X.sum(axis=1)>=100].copy()\n",
    "mouse_slideseq_by_compartment = mouse_slideseq_by_compartment[mouse_slideseq_by_compartment.obs['index'].isin(mouse_slideseq.obs.index)].copy()"
   ]
  },
  {
   "cell_type": "code",
   "execution_count": null,
   "metadata": {
    "tags": []
   },
   "outputs": [],
   "source": [
    "mouse_slideseq_by_compartment = tc.tl.run_orthology_converter(mouse_slideseq_by_compartment, 'mouse', use_synonyms=False) # no synonyms here to keep integer counts (also all counts are already used without synonyms)"
   ]
  },
  {
   "cell_type": "code",
   "execution_count": null,
   "metadata": {
    "tags": []
   },
   "outputs": [],
   "source": [
    "TCGA_adata = ad.read(f'{get_path(\"data\")}/pancanatlas.h5ad')\n",
    "TCGA_adata = TCGA_adata[TCGA_adata.obs['type'].isin(['READ','COAD'])]\n",
    "TCGA_adata = TCGA_adata[:,~np.isnan(TCGA_adata.X).any(axis=0)]\n",
    "TCGA_adata = TCGA_adata[~np.isnan(TCGA_adata.X).any(axis=1),:]\n",
    "TCGA_adata = TCGA_adata[:,~(TCGA_adata.X < 0).any(axis=0)]\n",
    "TCGA_adata = tc.tl.run_orthology_converter(TCGA_adata, 'human', use_synonyms=True) # use synonyms here as it increases the amount of data used (and the integer nature of the data is irrelevant)\n",
    "mouse_slideseq_by_compartment,TCGA_adata = tc.pp.filter([mouse_slideseq_by_compartment,TCGA_adata], return_view=False, remove_constant_genes=True)\n",
    "# preprocessing for score calculation\n",
    "sc.pp.log1p(TCGA_adata)\n",
    "sc.pp.scale(TCGA_adata)"
   ]
  },
  {
   "cell_type": "markdown",
   "metadata": {},
   "source": [
    "# Get DE genes for the regions"
   ]
  },
  {
   "cell_type": "code",
   "execution_count": null,
   "metadata": {
    "tags": []
   },
   "outputs": [],
   "source": [
    "def DEG_regions(selected_regions):\n",
    "    _sdata = mouse_slideseq_by_compartment\n",
    "    \n",
    "    group_key = 'region'\n",
    "\n",
    "    enrichments = helper.marker_genes(_sdata, group_key, rungo=False, restrict_groups=selected_regions)\n",
    "\n",
    "    gene_lists = {region:df.sort_values('p_fisher_fdr_bh')['value'].str.upper() for region, df in enrichments.groupby(group_key) if len(df)>0}\n",
    "    return gene_lists\n",
    "region_sets = {}\n",
    "region_sets['aR'] = [ r for r in mouse_slideseq_by_compartment.obs['region'].cat.categories ]\n",
    "region_sets['mR'] = [ r for r in mouse_slideseq_by_compartment.obs['region'].cat.categories if 'Malignant' in r ]\n",
    "gene_lists = {k:DEG_regions(rs) for k,rs in region_sets.items()}"
   ]
  },
  {
   "cell_type": "markdown",
   "metadata": {},
   "source": [
    "# Score bulk data with the DE genes for the regions"
   ]
  },
  {
   "cell_type": "code",
   "execution_count": null,
   "metadata": {
    "tags": []
   },
   "outputs": [],
   "source": [
    "def score_adata(adata, score, nDEG=200):\n",
    "    for region,genes in gene_lists[score].items():\n",
    "        adata.obs[f'{region}_{score}score_{nDEG}'] = adata[:,genes.head(nDEG)].X.mean(axis=1).copy()\n",
    "        adata.obs[f'{region}_{score}q4_{nDEG}'] = pd.qcut(adata.obs[f'{region}_{score}score_{nDEG}'],4,['q1','q2','q3','q4'])"
   ]
  },
  {
   "cell_type": "code",
   "execution_count": null,
   "metadata": {
    "tags": []
   },
   "outputs": [],
   "source": [
    "def plotit(adata, selected_endpoints, score, nDEGs=None):\n",
    "    regions = region_sets[score]\n",
    "    if nDEGs is not None and len(nDEGs) > 1:\n",
    "        assert(len(selected_endpoints) == 1)\n",
    "    elif nDEGs is None:\n",
    "        nDEGs = [200]\n",
    "    n_y = len(selected_endpoints) if len(nDEGs) == 1 else len(nDEGs)\n",
    "    \n",
    "    fig,axs = tc.pl.subplots(len(regions),n_y,sharex=True,sharey=True)\n",
    "\n",
    "    for i_nDEG,nDEG in enumerate(nDEGs):\n",
    "        score_adata(adata, score, nDEG=nDEG)\n",
    "\n",
    "    for endpoint_i,endpoint in enumerate(selected_endpoints):\n",
    "\n",
    "        subset = adata[~(adata.obs[f'{endpoint}.time'].isna() | adata.obs[f'{endpoint}'].isna())]\n",
    "\n",
    "        kmf.fit(subset.obs[f'{endpoint}.time'], event_observed=subset.obs[endpoint])\n",
    "\n",
    "        for i_nDEG,nDEG in enumerate(nDEGs):\n",
    "            if len(nDEGs) == 1:\n",
    "                ax_arr = axs[endpoint_i]\n",
    "            else:\n",
    "                ax_arr = axs[i_nDEG]\n",
    "            p_vals = []\n",
    "            for ax_i,region in enumerate(regions):\n",
    "\n",
    "                high_sub = subset[subset.obs[f'{region}_{score}q4_{nDEG}']=='q4']\n",
    "                low_sub = subset[subset.obs[f'{region}_{score}q4_{nDEG}']=='q1']\n",
    "\n",
    "                p_vals.append(lifelines.statistics.logrank_test(high_sub.obs[f'{endpoint}.time'], low_sub.obs[f'{endpoint}.time'], high_sub.obs[endpoint], low_sub.obs[endpoint], alpha=.95).p_value)\n",
    "\n",
    "            p_vals_corrected = multipletests(p_vals, alpha=0.05, method='fdr_bh')[1]\n",
    "\n",
    "            for ax_i,region in enumerate(regions):\n",
    "                for qx in ['q1','q4']:\n",
    "                    this_sub = subset[subset.obs[f'{region}_{score}q4_{nDEG}']==qx]\n",
    "\n",
    "                    kmf.fit(this_sub.obs[f'{endpoint}.time'], event_observed=this_sub.obs[endpoint], label=f'{region}_{qx}')\n",
    "                    kmf.plot_survival_function(ax=ax_arr[ax_i], show_censors=True)\n",
    "\n",
    "                ax_arr[ax_i].set_title(f'{endpoint} nDEG={nDEG}\\n{region},\\np={p_vals[ax_i]:.3f}, p_fdr_bh={p_vals_corrected[ax_i]:.3f}')\n",
    "                ax_arr[ax_i].legend(loc=\"lower left\")\n",
    "        \n",
    "    return fig, axs"
   ]
  },
  {
   "cell_type": "markdown",
   "metadata": {},
   "source": [
    "# Visualize the scores"
   ]
  },
  {
   "cell_type": "code",
   "execution_count": null,
   "metadata": {
    "tags": []
   },
   "outputs": [],
   "source": [
    "selected_score = 'mR'\n",
    "\n",
    "selected_endpoints = ['OS','PFI']\n",
    "\n",
    "nDEG = 200\n",
    "\n",
    "for selected_endpoint in selected_endpoints:\n",
    "    fig, axs = plotit(TCGA_adata, [selected_endpoint], selected_score, nDEGs=[nDEG]);\n",
    "\n",
    "    fig.savefig(f'{figures_folder}/{selected_score}_tcga_survival_{selected_endpoint}.pdf',bbox_inches='tight')"
   ]
  },
  {
   "cell_type": "markdown",
   "metadata": {},
   "source": [
    "## Separately for subtypes"
   ]
  },
  {
   "cell_type": "code",
   "execution_count": null,
   "metadata": {
    "tags": []
   },
   "outputs": [],
   "source": [
    "print('n_samples')\n",
    "print(f'all: {len(TCGA_adata.obs.index)}')\n",
    "for MSI_status in ['MSI','MSS']:\n",
    "    print(f'{MSI_status}: {len(TCGA_adata[TCGA_adata.obs[\"MSIstatus\"].astype(str).str.startswith(MSI_status)].obs.index)}')"
   ]
  },
  {
   "cell_type": "code",
   "execution_count": null,
   "metadata": {
    "tags": []
   },
   "outputs": [],
   "source": [
    "selected_score = 'mR'\n",
    "\n",
    "selected_endpoints = ['OS','PFI']\n",
    "\n",
    "nDEG = 200\n",
    "\n",
    "for MSI_status in ['MSI','MSS']:\n",
    "    for selected_endpoint in selected_endpoints:\n",
    "        fig, axs = plotit(TCGA_adata[TCGA_adata.obs['MSIstatus'].astype(str).str.startswith(MSI_status)].copy(), [selected_endpoint], selected_score, nDEGs=[nDEG]);\n",
    "\n",
    "        fig.savefig(f'{figures_folder}/{selected_score}_tcga_{MSI_status}_survival_{selected_endpoint}.pdf',bbox_inches='tight')"
   ]
  },
  {
   "cell_type": "code",
   "execution_count": null,
   "metadata": {},
   "outputs": [],
   "source": []
  }
 ],
 "metadata": {
  "kernelspec": {
   "display_name": "Python 3 (ipykernel)",
   "language": "python",
   "name": "python3"
  },
  "language_info": {
   "codemirror_mode": {
    "name": "ipython",
    "version": 3
   },
   "file_extension": ".py",
   "mimetype": "text/x-python",
   "name": "python",
   "nbconvert_exporter": "python",
   "pygments_lexer": "ipython3",
   "version": "3.11.5"
  }
 },
 "nbformat": 4,
 "nbformat_minor": 4
}
